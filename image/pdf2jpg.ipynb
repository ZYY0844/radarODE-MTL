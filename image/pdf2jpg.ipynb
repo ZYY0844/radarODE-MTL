{
 "cells": [
  {
   "cell_type": "code",
   "execution_count": 1,
   "metadata": {},
   "outputs": [],
   "source": [
    "# convert pdf to jpg\n",
    "# usage: python3 pdf2jpg.py <pdf_file>\n",
    "# output: <pdf_file>.jpg\n",
    "import sys\n",
    "import os\n",
    "from pdf2image import convert_from_path\n",
    "\n",
    "# read pdf\n",
    "name = 'radarODE_MTL'\n",
    "path =f'/home/zhangyuanyuan/org_repo/radarODE-MTL/image/{name}.pdf'\n",
    "image = convert_from_path(path)\n",
    "image[0].save(f'{name}.jpg', 'JPEG')\n",
    "\n"
   ]
  }
 ],
 "metadata": {
  "kernelspec": {
   "display_name": "estHR",
   "language": "python",
   "name": "python3"
  },
  "language_info": {
   "codemirror_mode": {
    "name": "ipython",
    "version": 3
   },
   "file_extension": ".py",
   "mimetype": "text/x-python",
   "name": "python",
   "nbconvert_exporter": "python",
   "pygments_lexer": "ipython3",
   "version": "3.10.8"
  }
 },
 "nbformat": 4,
 "nbformat_minor": 2
}
