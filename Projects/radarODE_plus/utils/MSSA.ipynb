{
 "cells": [
  {
   "cell_type": "code",
   "execution_count": 1,
   "metadata": {},
   "outputs": [],
   "source": [
    "import os, sys, torch, argparse, re, mat73, scipy, time\n",
    "import torch.nn as nn\n",
    "import torch.nn.functional as F\n",
    "import numpy as np\n",
    "import neurokit2 as nk\n",
    "import peakutils\n",
    "from copy import deepcopy\n",
    "import pandas as pd\n",
    "from scipy.signal import find_peaks\n",
    "\n",
    "import matplotlib.pyplot as plt\n",
    "from sklearn.metrics import mean_squared_error\n",
    "\n",
    "from LibMTL.config import LibMTL_args, prepare_args\n",
    "from LibMTL.utils import set_random_seed, set_device\n",
    "from LibMTL.model import resnet_dilated\n",
    "from LibMTL import Trainer\n",
    "from Projects.radarODE_plus.utils.utils import shapeMetric, shapeLoss, ppiMetric, ppiLoss, anchorMetric, anchorLoss\n",
    "from Projects.radarODE_plus.nets.PPI_decoder import PPI_decoder\n",
    "from Projects.radarODE_plus.nets.anchor_decoder import anchor_decoder\n",
    "from Projects.radarODE_plus.nets.model import backbone, shapeDecoder, ECGFormer\n",
    "from config import prepare_args\n",
    "from Projects.radarODE_plus.spectrum_dataset import normal_ecg_torch_01\n",
    "from spectrum_dataset import dataset_concat\n",
    "%matplotlib inline\n",
    "data_org_root = \"/home/zhangyuanyuan/Dataset/data_MMECG/data_org/\"\n",
    "rcg_root = \"/home/zhangyuanyuan/Dataset/data_MMECG/data_seg_rcg/test\"\n",
    "sst_root = '/home/zhangyuanyuan/Dataset/data_MMECG/30Hz_half/'\n",
    "interval_root = '/home/zhangyuanyuan/Dataset/data_MMECG/interval_pred/'\n",
    "pred_all_root = '/home/zhangyuanyuan/Dataset/data_MMECG/ecg_total_recover/'\n",
    "params, unknown = LibMTL_args.parse_known_args()\n",
    "params.mode = 'test'\n",
    "params.gpu_id = '5'\n",
    "set_device(params.gpu_id)"
   ]
  },
  {
   "cell_type": "code",
   "execution_count": 2,
   "metadata": {},
   "outputs": [],
   "source": [
    "\n",
    "def combine_close_peaks(peaks, ther):\n",
    "    \"\"\"\n",
    "    combine the peaks that are too close to each other\n",
    "    \"\"\"\n",
    "    distance = np.diff(peaks)\n",
    "    peaks_new = np.array([])\n",
    "    temp =[]\n",
    "    for i in range(0, len(peaks)-1):\n",
    "        temp.append(peaks[i])\n",
    "        if distance[i]<ther:\n",
    "            continue\n",
    "        else:\n",
    "            peaks_new = np.append(peaks_new, np.median(temp))\n",
    "            temp = []\n",
    "    return peaks_new\n",
    "def offset_calcu(R_peaks, detected, mdr_ther=30):\n",
    "    offset = []\n",
    "    missed_peak = np.array([])\n",
    "    count = 0\n",
    "    for peak in R_peaks:\n",
    "        if peak<3000 or peak>30000:\n",
    "            continue\n",
    "        count+=1\n",
    "        temp_error =np.abs(detected-peak)\n",
    "        if np.min(temp_error)<mdr_ther:\n",
    "            offset.append((detected-peak)[np.argmin(temp_error)])\n",
    "        else:\n",
    "            missed_peak = np.append(missed_peak, peak)\n",
    "    return np.median(offset), len(missed_peak)/count\n",
    "\n",
    "def accurate_peak(R_peaks, detected, mdr_ther=30):\n",
    "    offset = []\n",
    "    correct_peak = np.array([])\n",
    "    for peak in R_peaks:\n",
    "        if peak<3000 or peak>30000:\n",
    "            continue\n",
    "        temp_error =np.abs(detected-peak)\n",
    "        if np.min(temp_error)<mdr_ther:\n",
    "            offset.append((detected-peak)[np.argmin(temp_error)])\n",
    "            correct_peak = np.append(correct_peak, peak)\n",
    "        else:\n",
    "            continue\n",
    "    return np.median(offset), correct_peak\n",
    "def metric_anchor(R_peaks, detected, mdr_ther=10):\n",
    "    error_sec, missed = 0, 0\n",
    "    count = 0\n",
    "    for peak in R_peaks:\n",
    "        if peak<3000 or peak>30000:\n",
    "            continue\n",
    "        count+=1\n",
    "        temp_error =np.abs(detected-peak)\n",
    "        if np.min(temp_error)<mdr_ther:\n",
    "            error_sec+=np.min(temp_error)/200\n",
    "        else:\n",
    "            missed+=1\n",
    "    return error_sec/count\n",
    "def non_maximum_suppression_1d(signal, threshold=0.7):\n",
    "    \"\"\"\n",
    "    Apply Non-Maximum Suppression for a 1D signal.\n",
    "\n",
    "    Parameters:\n",
    "    - signal: np.ndarray, the input 1D signal.\n",
    "    - threshold: float, the relative threshold to consider for suppression in the range [0, 1].\n",
    "\n",
    "    Returns:\n",
    "    - suppressed_signal: np.ndarray, the signal after applying NMS.\n",
    "    \"\"\" \n",
    "    # Find the indices of local maxima\n",
    "    local_maxima = np.r_[True, signal[1:] > signal[:-1]] & np.r_[signal[:-1] > signal[1:], True]\n",
    "    \n",
    "    # Initialize the suppressed signal with zeros\n",
    "    suppressed_signal = np.zeros_like(signal)\n",
    "    \n",
    "    # Apply threshold to filter out weaker maxima\n",
    "    max_value = np.max(signal)\n",
    "    significant_maxima = local_maxima & (signal > (max_value * threshold))\n",
    "    \n",
    "    # Retain only the significant maxima in the suppressed signal\n",
    "    suppressed_signal[significant_maxima] = signal[significant_maxima]\n",
    "    \n",
    "    return suppressed_signal\n",
    "def norm_ecg(ECG):\n",
    "    ECG = (ECG - np.min(ECG)) / (np.max(ECG) - np.min(ECG))\n",
    "    return ECG\n",
    "def norm_ecg_11(ECG):\n",
    "    k=2/(np.max(ECG)-np.min(ECG))\n",
    "    ECG = -1+k*(ECG-np.min(ECG))\n",
    "    return ECG\n",
    "def sst_norm_01(sst):\n",
    "    for i in range(len(sst)):\n",
    "        k=1/(np.max(sst[i])-np.min(sst[i]))\n",
    "        sst[i] = 0+k*(sst[i]-np.min(sst[i]))\n",
    "    return sst\n",
    "def cross_entropy_loss_ppi(ecg_rcon, ecg_gts):\n",
    "    # the max/min ppi is 252/97, so we can use 155 as the range\n",
    "    # count how many -1 are there in each batch of ecg_gts\n",
    "    ecg_rcon, ecg_gts = ecg_rcon.squeeze(1), ecg_gts.squeeze(1)\n",
    "    counts = ecg_gts.size(1)-(ecg_gts == -10).sum(dim=1)\n",
    "    batch_indices = torch.arange(ecg_gts.size(0))\n",
    "    ecg_gts = torch.zeros_like(ecg_gts)\n",
    "    ecg_gts[batch_indices, counts-1] = 10\n",
    "    loss = nn.CrossEntropyLoss()\n",
    "    possi = ecg_gts.softmax(dim=1)\n",
    "    # return loss(ecg_rcon, possi)\n",
    "    return ecg_gts, loss(ecg_rcon, possi)\n",
    "# normlizaiton to [0,1]\n",
    "def sst_norm_01(sst):\n",
    "    for i in range(len(sst)):\n",
    "        k=1/(np.max(sst[i])-np.min(sst[i]))\n",
    "        sst[i] = 0+k*(sst[i]-np.min(sst[i]))\n",
    "    return sst\n",
    "def down_sample(ecg, target_len=200):\n",
    "    # using numpy\n",
    "    ecg=np.interp(np.linspace(0, len(ecg), target_len), np.arange(len(ecg)), ecg)\n",
    "    return ecg\n",
    "def load_sst(sst_path):\n",
    "    \"\"\"\n",
    "    load sst result generated from matlab\n",
    "    \"\"\"\n",
    "    sst_plot = mat73.loadmat(sst_path, use_attrdict=True)\n",
    "    # sst_plot = scipy.io.loadmat(sst_path, use_attrdict=True)\n",
    "    sst_plot = np.flip(sst_plot['SST'], 1)\n",
    "    return sst_plot\n",
    "def mat2df(ID_in):\n",
    "    \"\"\"\n",
    "    Read .mat file from original MMECG dataset to a pandas dataframe.\n",
    "    \"\"\"\n",
    "    # ID is the index of data files, Obj_ID is the index for actual person under test\n",
    "    columnnames = ['ID', 'Obj_ID', 'RCG', 'ECG', 'posXYZ',\n",
    "                   'gender', 'age', 'physistatus']\n",
    "    df = pd.DataFrame(columns=columnnames)\n",
    "    df.loc[0, columnnames] = [1, 2, 3, 4, 5, 6, 7, 8]\n",
    "\n",
    "    for ID in range(1, 92):\n",
    "        ID = ID_in\n",
    "        data = scipy.io.loadmat(data_org_root+str(ID)+'.mat')\n",
    "        Obj_ID = data['data'][0]['id']\n",
    "        RCG = np.array([i for i in data['data'][0]['RCG']]\n",
    "                       ).squeeze().transpose()\n",
    "        ECG = np.array([i for i in data['data'][0]['ECG']]).squeeze()\n",
    "        posXYZ = np.array([i for i in data['data'][0]['posXYZ']]).squeeze()\n",
    "        gender = data['data'][0]['gender'].squeeze()\n",
    "        age = data['data'][0]['age'].squeeze()\n",
    "        physistatus = data['data'][0]['physistatus'].squeeze()\n",
    "\n",
    "        df.loc[ID-1, columnnames] = [ID, int(Obj_ID), RCG,\n",
    "                                     ECG, posXYZ, gender, int(age), physistatus]\n",
    "        break\n",
    "    return df\n",
    "def smooth2nd(x,M): ##x 为一维数组\n",
    "    K = round(M/2-0.1) ##M应为奇数，如果是偶数，则取大1的奇数\n",
    "    lenX = len(x)\n",
    "    if lenX<2*K+1:\n",
    "        print('数据长度小于平滑点数')\n",
    "    else:\n",
    "        y = np.zeros(lenX)\n",
    "        for NN in range(0,lenX,1):\n",
    "            startInd = max([0,NN-K])\n",
    "            endInd = min(NN+K+1,lenX)\n",
    "            y[NN] = np.mean(x[startInd:endInd])\n",
    "##    y[0]=x[0]       #首部保持一致\n",
    "##    y[-1]=x[-1]     #尾部也保持一致\n",
    "    return(y)\n",
    "def index_convert(index, freq_org=200, freq_desired=30):\n",
    "    \"\"\"\n",
    "    :param index: the index of the signal with freq=freq_org\n",
    "    :param freq_org: the original freq of the signal\n",
    "    :param freq_desired: the desired freq of the signal\n",
    "    :return: the index of the signal with freq=freq_desired\n",
    "    \"\"\"\n",
    "    return int(index * freq_desired / freq_org)\n"
   ]
  },
  {
   "cell_type": "code",
   "execution_count": 17,
   "metadata": {},
   "outputs": [],
   "source": [
    "obj_index = 1\n",
    "df = mat2df(obj_index)"
   ]
  },
  {
   "cell_type": "code",
   "execution_count": 29,
   "metadata": {},
   "outputs": [
    {
     "name": "stdout",
     "output_type": "stream",
     "text": [
      "0.4401465578298653 0.5349693439361727\n"
     ]
    },
    {
     "data": {
      "image/png": "[encoded data removed]",
      "text/plain": [
       "<Figure size 640x480 with 1 Axes>"
      ]
     },
     "metadata": {},
     "output_type": "display_data"
    }
   ],
   "source": [
    "# mutual information for signal x and y\n",
    "from sklearn.metrics import mutual_info_score\n",
    "def mutual_information(x, y, bins=50):\n",
    "    c_xy = np.histogram2d(x, y, bins)[0]\n",
    "    mi = mutual_info_score(None, None, contingency=c_xy)\n",
    "    return mi\n",
    "start = 3030\n",
    "length = 2000\n",
    "rcg1 = df['RCG'][obj_index-1][0][start:start+length]\n",
    "rcg2 = df['RCG'][obj_index-1][29][start:start+length]\n",
    "print(mutual_information(rcg1, rcg2), np.corrcoef(rcg1, rcg2)[0, 1])\n",
    "plt.plot(rcg1)\n",
    "plt.plot(rcg2)\n",
    "plt.style.use(\"default\")\n",
    "# plt.show()\n"
   ]
  },
  {
   "cell_type": "code",
   "execution_count": 7,
   "metadata": {},
   "outputs": [],
   "source": [
    "obj_index = 78\n",
    "params.dataset_path = '/home/zhangyuanyuan/Dataset/data_MMECG/data_seg_sce_200/'\n",
    "params.dataset_path = '/home/zhangyuanyuan/Dataset/data_MMECG/data_seg_sce_ecg/'\n",
    "params.dataset_path = '/home/zhangyuanyuan/Dataset/data_MMECG/data_seg_sce_middle/'\n",
    "peak_root = \"/home/zhangyuanyuan/Dataset/data_MMECG/peak_index/\"\n",
    "# params.dataset_path = '/home/zhangyuanyuan/Dataset/data_MMECG/data_seg_sce_pulse/'\n",
    "# params.dataset_path = '/home/zhangyuanyuan/Dataset/data_MMECG/data_seg_step/'\n",
    "params.save_path = '/home/zhangyuanyuan/radarODE_plus_MTL/Model_saved/'\n",
    "# state_dict_path = f'/home/zhangyuanyuan/radarODE_plus/Model_saved/best_model_cross_vali_{(obj_index-9)//8+1}_ce_.pth'\n",
    "set_random_seed(params.seed)\n",
    "params.test_bs = 1\n",
    "params.aug_snr = 3\n",
    "params.load_path='/home/zhangyuanyuan/radarODE_plus_MTL/Model_saved/step/best_UW.pt' # best for training with step dataset\n",
    "# params.load_path='/home/zhangyuanyuan/radarODE_plus_MTL/Model_saved/best_EGA_1.pt' # best for EGA, weight for task 1 = 5\n",
    "# params.load_path='/home/zhangyuanyuan/radarODE_plus_MTL/Model_saved/best_Aligned_MTL_10_save.pt'\n",
    "method = 'Aligned_MTL'\n",
    "# method = 'GLS'\n",
    "# method = 'UW'\n",
    "method = 'GradVac'\n",
    "method = 'EGA'\n",
    "# params.load_path=f'/home/zhangyuanyuan/radarODE_plus_MTL/Model_saved/best_{method}.pt' \n",
    "# params.load_path='/home/zhangyuanyuan/radarODE_plus_MTL/Model_saved/best_EGA_3.pt'\n",
    "# params.load_path='/home/zhangyuanyuan/radarODE_plus_MTL/Model_saved/best_EGA_ode.pt'\n",
    "# params.load_path='/home/zhangyuanyuan/radarODE_plus_MTL/Model_saved/best_EGA_sv0.pt'\n",
    "# params.load_path='/home/zhangyuanyuan/radarODE_plus_MTL/Model_saved/best_EW_1.pt'\n",
    "# params.load_path='/home/zhangyuanyuan/radarODE_plus_MTL/Model_saved/best_Aligned_MTL_ode.pt'\n",
    "\n",
    "# define tasks\n",
    "task_dict = {'ECG_shape': {'metrics': ['MSE', 'CE', 'norm_MSE'],\n",
    "                            'metrics_fn': shapeMetric(),\n",
    "                            'loss_fn': shapeLoss(),\n",
    "                            'weight': [0, 0, 0]},\n",
    "                'PPI': {'metrics': ['CE', 'PPI_sec'],\n",
    "                        'metrics_fn': ppiMetric(),\n",
    "                        'loss_fn': ppiLoss(),\n",
    "                        'weight': [0, 0]},\n",
    "                'Anchor': {'metrics': ['mse'],\n",
    "                        'metrics_fn': anchorMetric(),\n",
    "                        'loss_fn': anchorLoss(),\n",
    "                        'weight': [0]}}\n",
    "\n",
    "# task_dict = {'Anchor': {'metrics': ['mse'],\n",
    "#                         'metrics_fn': anchorMetric(),\n",
    "#                         'loss_fn': anchorLoss(),\n",
    "#                         'weight': [0]}}\n",
    "ID_test = np.array([75, 76, 77, 78, 80, 81, 82, 83, 84, 85])"
   ]
  },
  {
   "cell_type": "code",
   "execution_count": 88,
   "metadata": {},
   "outputs": [
    {
     "name": "stdout",
     "output_type": "stream",
     "text": [
      "112.5\n",
      "========================================\n",
      "General Configuration:\n",
      "\tMode: test\n",
      "\tWighting: EW\n",
      "\tArchitecture: HPS\n",
      "\tRep_Grad: False\n",
      "\tMulti_Input: False\n",
      "\tSeed: 777\n",
      "\tSave Path: /home/zhangyuanyuan/radarODE_plus_MTL/Model_saved/\n",
      "\tLoad Path: /home/zhangyuanyuan/radarODE_plus_MTL/Model_saved/step/best_UW.pt\n",
      "\tDevice: cuda:5\n",
      "Optimizer Configuration:\n",
      "\toptim: adam\n",
      "\tlr: 0.0001\n",
      "\tweight_decay: 1e-05\n",
      "Load Model from - /home/zhangyuanyuan/radarODE_plus_MTL/Model_saved/step/best_UW.pt\n",
      "========================================\n",
      "Total Params: 37712961\n",
      "Trainable Params: 37712961\n",
      "Non-trainable Params: 0\n",
      "========================================\n",
      "LOG FORMAT | ECG_shape_LOSS MSE CE norm_MSE | PPI_LOSS CE PPI_sec | Anchor_LOSS mse | TIME\n",
      "000\n"
     ]
    },
    {
     "name": "stderr",
     "output_type": "stream",
     "text": [
      "  0%|          | 0/227 [00:00<?, ?it/s]"
     ]
    },
    {
     "name": "stdout",
     "output_type": "stream",
     "text": [
      "\n",
      "\n",
      "0\n",
      "0\n"
     ]
    },
    {
     "name": "stderr",
     "output_type": "stream",
     "text": [
      "  5%|▍         | 11/227 [00:00<00:08, 26.89it/s]"
     ]
    },
    {
     "name": "stdout",
     "output_type": "stream",
     "text": [
      "0\n"
     ]
    },
    {
     "name": "stderr",
     "output_type": "stream",
     "text": [
      "  6%|▌         | 14/227 [00:00<00:08, 26.55it/s]"
     ]
    },
    {
     "name": "stdout",
     "output_type": "stream",
     "text": [
      "0\n"
     ]
    },
    {
     "name": "stderr",
     "output_type": "stream",
     "text": [
      " 13%|█▎        | 29/227 [00:01<00:06, 32.69it/s]"
     ]
    },
    {
     "name": "stdout",
     "output_type": "stream",
     "text": [
      "0\n"
     ]
    },
    {
     "name": "stderr",
     "output_type": "stream",
     "text": [
      " 15%|█▍        | 33/227 [00:01<00:05, 33.73it/s]"
     ]
    },
    {
     "name": "stdout",
     "output_type": "stream",
     "text": [
      "0\n"
     ]
    },
    {
     "name": "stderr",
     "output_type": "stream",
     "text": [
      " 16%|█▋        | 37/227 [00:01<00:06, 31.53it/s]"
     ]
    },
    {
     "name": "stdout",
     "output_type": "stream",
     "text": [
      "0\n"
     ]
    },
    {
     "name": "stderr",
     "output_type": "stream",
     "text": [
      " 18%|█▊        | 41/227 [00:01<00:06, 30.37it/s]"
     ]
    },
    {
     "name": "stdout",
     "output_type": "stream",
     "text": [
      "0\n"
     ]
    },
    {
     "name": "stderr",
     "output_type": "stream",
     "text": [
      " 22%|██▏       | 49/227 [00:01<00:05, 30.63it/s]"
     ]
    },
    {
     "name": "stdout",
     "output_type": "stream",
     "text": [
      "0\n"
     ]
    },
    {
     "name": "stderr",
     "output_type": "stream",
     "text": [
      " 23%|██▎       | 53/227 [00:01<00:06, 28.43it/s]"
     ]
    },
    {
     "name": "stdout",
     "output_type": "stream",
     "text": [
      "0\n"
     ]
    },
    {
     "name": "stderr",
     "output_type": "stream",
     "text": [
      " 26%|██▋       | 60/227 [00:02<00:05, 30.47it/s]"
     ]
    },
    {
     "name": "stdout",
     "output_type": "stream",
     "text": [
      "0\n",
      "0\n"
     ]
    },
    {
     "name": "stderr",
     "output_type": "stream",
     "text": [
      " 33%|███▎      | 74/227 [00:02<00:05, 28.48it/s]"
     ]
    },
    {
     "name": "stdout",
     "output_type": "stream",
     "text": [
      "0\n"
     ]
    },
    {
     "name": "stderr",
     "output_type": "stream",
     "text": [
      " 34%|███▍      | 77/227 [00:02<00:05, 28.25it/s]"
     ]
    },
    {
     "name": "stdout",
     "output_type": "stream",
     "text": [
      "0\n",
      "0\n",
      "0\n"
     ]
    },
    {
     "name": "stderr",
     "output_type": "stream",
     "text": [
      " 38%|███▊      | 87/227 [00:02<00:04, 30.79it/s]"
     ]
    },
    {
     "name": "stdout",
     "output_type": "stream",
     "text": [
      "0\n",
      "0\n"
     ]
    },
    {
     "name": "stderr",
     "output_type": "stream",
     "text": [
      " 40%|████      | 91/227 [00:03<00:04, 30.19it/s]"
     ]
    },
    {
     "name": "stdout",
     "output_type": "stream",
     "text": [
      "0\n"
     ]
    },
    {
     "name": "stderr",
     "output_type": "stream",
     "text": [
      " 42%|████▏     | 95/227 [00:03<00:04, 31.50it/s]"
     ]
    },
    {
     "name": "stdout",
     "output_type": "stream",
     "text": [
      "0\n",
      "0\n"
     ]
    },
    {
     "name": "stderr",
     "output_type": "stream",
     "text": [
      " 44%|████▎     | 99/227 [00:03<00:04, 31.43it/s]"
     ]
    },
    {
     "name": "stdout",
     "output_type": "stream",
     "text": [
      "0\n"
     ]
    },
    {
     "name": "stderr",
     "output_type": "stream",
     "text": [
      " 48%|████▊     | 110/227 [00:03<00:03, 29.38it/s]"
     ]
    },
    {
     "name": "stdout",
     "output_type": "stream",
     "text": [
      "0\n"
     ]
    },
    {
     "name": "stderr",
     "output_type": "stream",
     "text": [
      " 52%|█████▏    | 119/227 [00:04<00:03, 28.51it/s]"
     ]
    },
    {
     "name": "stdout",
     "output_type": "stream",
     "text": [
      "0\n"
     ]
    },
    {
     "name": "stderr",
     "output_type": "stream",
     "text": [
      " 55%|█████▌    | 125/227 [00:04<00:03, 27.97it/s]"
     ]
    },
    {
     "name": "stdout",
     "output_type": "stream",
     "text": [
      "0\n"
     ]
    },
    {
     "name": "stderr",
     "output_type": "stream",
     "text": [
      " 58%|█████▊    | 131/227 [00:04<00:03, 28.18it/s]"
     ]
    },
    {
     "name": "stdout",
     "output_type": "stream",
     "text": [
      "0\n"
     ]
    },
    {
     "name": "stderr",
     "output_type": "stream",
     "text": [
      " 60%|██████    | 137/227 [00:04<00:03, 28.42it/s]"
     ]
    },
    {
     "name": "stdout",
     "output_type": "stream",
     "text": [
      "0\n"
     ]
    },
    {
     "name": "stderr",
     "output_type": "stream",
     "text": [
      " 62%|██████▏   | 140/227 [00:04<00:03, 28.54it/s]"
     ]
    },
    {
     "name": "stdout",
     "output_type": "stream",
     "text": [
      "0\n"
     ]
    },
    {
     "name": "stderr",
     "output_type": "stream",
     "text": [
      " 63%|██████▎   | 143/227 [00:04<00:02, 28.65it/s]"
     ]
    },
    {
     "name": "stdout",
     "output_type": "stream",
     "text": [
      "0\n"
     ]
    },
    {
     "name": "stderr",
     "output_type": "stream",
     "text": [
      " 67%|██████▋   | 153/227 [00:05<00:02, 28.85it/s]"
     ]
    },
    {
     "name": "stdout",
     "output_type": "stream",
     "text": [
      "0\n"
     ]
    },
    {
     "name": "stderr",
     "output_type": "stream",
     "text": [
      " 71%|███████▏  | 162/227 [00:05<00:02, 28.79it/s]"
     ]
    },
    {
     "name": "stdout",
     "output_type": "stream",
     "text": [
      "0\n"
     ]
    },
    {
     "name": "stderr",
     "output_type": "stream",
     "text": [
      " 74%|███████▍  | 168/227 [00:05<00:02, 29.14it/s]"
     ]
    },
    {
     "name": "stdout",
     "output_type": "stream",
     "text": [
      "0\n"
     ]
    },
    {
     "name": "stderr",
     "output_type": "stream",
     "text": [
      " 77%|███████▋  | 174/227 [00:06<00:01, 29.47it/s]"
     ]
    },
    {
     "name": "stdout",
     "output_type": "stream",
     "text": [
      "0\n"
     ]
    },
    {
     "name": "stderr",
     "output_type": "stream",
     "text": [
      " 78%|███████▊  | 177/227 [00:06<00:01, 29.57it/s]"
     ]
    },
    {
     "name": "stdout",
     "output_type": "stream",
     "text": [
      "0\n",
      "0\n"
     ]
    },
    {
     "name": "stderr",
     "output_type": "stream",
     "text": [
      " 80%|███████▉  | 181/227 [00:06<00:01, 29.71it/s]"
     ]
    },
    {
     "name": "stdout",
     "output_type": "stream",
     "text": [
      "0\n"
     ]
    },
    {
     "name": "stderr",
     "output_type": "stream",
     "text": [
      " 83%|████████▎ | 188/227 [00:06<00:01, 29.81it/s]"
     ]
    },
    {
     "name": "stdout",
     "output_type": "stream",
     "text": [
      "0\n"
     ]
    },
    {
     "name": "stderr",
     "output_type": "stream",
     "text": [
      " 84%|████████▍ | 191/227 [00:06<00:01, 29.75it/s]"
     ]
    },
    {
     "name": "stdout",
     "output_type": "stream",
     "text": [
      "0\n",
      "0\n"
     ]
    },
    {
     "name": "stderr",
     "output_type": "stream",
     "text": [
      " 85%|████████▌ | 194/227 [00:06<00:01, 29.68it/s]"
     ]
    },
    {
     "name": "stdout",
     "output_type": "stream",
     "text": [
      "0\n"
     ]
    },
    {
     "name": "stderr",
     "output_type": "stream",
     "text": [
      " 89%|████████▉ | 202/227 [00:06<00:00, 33.08it/s]"
     ]
    },
    {
     "name": "stdout",
     "output_type": "stream",
     "text": [
      "0\n"
     ]
    },
    {
     "name": "stderr",
     "output_type": "stream",
     "text": [
      " 91%|█████████ | 206/227 [00:07<00:00, 33.05it/s]"
     ]
    },
    {
     "name": "stdout",
     "output_type": "stream",
     "text": [
      "0\n"
     ]
    },
    {
     "name": "stderr",
     "output_type": "stream",
     "text": [
      "100%|██████████| 227/227 [00:07<00:00, 29.82it/s]\n"
     ]
    },
    {
     "name": "stdout",
     "output_type": "stream",
     "text": [
      "TEST: 0.0054 0.0067 0.0054 5.2856 | 2.8834 0.0110 2.8834 | 0.0084 62.4150 | Time: 7.6189\n",
      "\n",
      "2024-07-23 13:31:20\n",
      "RMSE Mean: 0.07175241669851025 Median: 0.06778142105914096 Cor 0.9087146748138484\n",
      "len_error 0.008679308525209305\n",
      "-13.0\n",
      "========================================\n",
      "General Configuration:\n",
      "\tMode: test\n",
      "\tWighting: EW\n",
      "\tArchitecture: HPS\n",
      "\tRep_Grad: False\n",
      "\tMulti_Input: False\n",
      "\tSeed: 777\n",
      "\tSave Path: /home/zhangyuanyuan/radarODE_plus_MTL/Model_saved/\n",
      "\tLoad Path: /home/zhangyuanyuan/radarODE_plus_MTL/Model_saved/step/best_UW.pt\n",
      "\tDevice: cuda:5\n",
      "Optimizer Configuration:\n",
      "\toptim: adam\n",
      "\tlr: 0.0001\n",
      "\tweight_decay: 1e-05\n",
      "Load Model from - /home/zhangyuanyuan/radarODE_plus_MTL/Model_saved/step/best_UW.pt\n",
      "========================================\n",
      "Total Params: 37712961\n",
      "Trainable Params: 37712961\n",
      "Non-trainable Params: 0\n",
      "========================================\n",
      "LOG FORMAT | ECG_shape_LOSS MSE CE norm_MSE | PPI_LOSS CE PPI_sec | Anchor_LOSS mse | TIME\n",
      "0\n"
     ]
    },
    {
     "name": "stderr",
     "output_type": "stream",
     "text": [
      "  0%|          | 0/223 [00:00<?, ?it/s]"
     ]
    },
    {
     "name": "stdout",
     "output_type": "stream",
     "text": [
      "00\n",
      "\n",
      "0\n",
      "0\n",
      "0\n"
     ]
    },
    {
     "name": "stderr",
     "output_type": "stream",
     "text": [
      "  1%|          | 2/223 [00:00<00:14, 15.23it/s]"
     ]
    },
    {
     "name": "stdout",
     "output_type": "stream",
     "text": [
      "0\n"
     ]
    },
    {
     "name": "stderr",
     "output_type": "stream",
     "text": [
      " 16%|█▌        | 35/223 [00:01<00:06, 28.25it/s]"
     ]
    },
    {
     "name": "stdout",
     "output_type": "stream",
     "text": [
      "0\n",
      "0\n"
     ]
    },
    {
     "name": "stderr",
     "output_type": "stream",
     "text": [
      " 21%|██        | 46/223 [00:01<00:05, 30.00it/s]"
     ]
    },
    {
     "name": "stdout",
     "output_type": "stream",
     "text": [
      "0\n"
     ]
    },
    {
     "name": "stderr",
     "output_type": "stream",
     "text": [
      " 24%|██▍       | 54/223 [00:01<00:05, 31.34it/s]"
     ]
    },
    {
     "name": "stdout",
     "output_type": "stream",
     "text": [
      "0\n"
     ]
    },
    {
     "name": "stderr",
     "output_type": "stream",
     "text": [
      " 26%|██▌       | 58/223 [00:02<00:05, 32.50it/s]"
     ]
    },
    {
     "name": "stdout",
     "output_type": "stream",
     "text": [
      "0\n"
     ]
    },
    {
     "name": "stderr",
     "output_type": "stream",
     "text": [
      " 28%|██▊       | 62/223 [00:02<00:05, 31.49it/s]"
     ]
    },
    {
     "name": "stdout",
     "output_type": "stream",
     "text": [
      "0\n"
     ]
    },
    {
     "name": "stderr",
     "output_type": "stream",
     "text": [
      " 30%|██▉       | 66/223 [00:02<00:05, 30.20it/s]"
     ]
    },
    {
     "name": "stdout",
     "output_type": "stream",
     "text": [
      "0\n",
      "0\n"
     ]
    },
    {
     "name": "stderr",
     "output_type": "stream",
     "text": [
      " 31%|███▏      | 70/223 [00:02<00:04, 30.75it/s]"
     ]
    },
    {
     "name": "stdout",
     "output_type": "stream",
     "text": [
      "0\n"
     ]
    },
    {
     "name": "stderr",
     "output_type": "stream",
     "text": [
      " 35%|███▍      | 78/223 [00:02<00:04, 31.10it/s]"
     ]
    },
    {
     "name": "stdout",
     "output_type": "stream",
     "text": [
      "0\n",
      "0\n"
     ]
    },
    {
     "name": "stderr",
     "output_type": "stream",
     "text": [
      " 37%|███▋      | 82/223 [00:02<00:04, 30.00it/s]"
     ]
    },
    {
     "name": "stdout",
     "output_type": "stream",
     "text": [
      "0\n",
      "0\n"
     ]
    },
    {
     "name": "stderr",
     "output_type": "stream",
     "text": [
      " 42%|████▏     | 94/223 [00:03<00:03, 33.81it/s]"
     ]
    },
    {
     "name": "stdout",
     "output_type": "stream",
     "text": [
      "0\n"
     ]
    },
    {
     "name": "stderr",
     "output_type": "stream",
     "text": [
      " 44%|████▍     | 98/223 [00:03<00:03, 32.62it/s]"
     ]
    },
    {
     "name": "stdout",
     "output_type": "stream",
     "text": [
      "0\n"
     ]
    },
    {
     "name": "stderr",
     "output_type": "stream",
     "text": [
      " 46%|████▌     | 102/223 [00:03<00:03, 31.42it/s]"
     ]
    },
    {
     "name": "stdout",
     "output_type": "stream",
     "text": [
      "0\n"
     ]
    },
    {
     "name": "stderr",
     "output_type": "stream",
     "text": [
      " 49%|████▉     | 109/223 [00:03<00:04, 27.85it/s]"
     ]
    },
    {
     "name": "stdout",
     "output_type": "stream",
     "text": [
      "0\n",
      "0\n"
     ]
    },
    {
     "name": "stderr",
     "output_type": "stream",
     "text": [
      " 52%|█████▏    | 115/223 [00:03<00:04, 26.46it/s]"
     ]
    },
    {
     "name": "stdout",
     "output_type": "stream",
     "text": [
      "0\n"
     ]
    },
    {
     "name": "stderr",
     "output_type": "stream",
     "text": [
      " 53%|█████▎    | 118/223 [00:04<00:03, 26.69it/s]"
     ]
    },
    {
     "name": "stdout",
     "output_type": "stream",
     "text": [
      "0\n",
      "0\n"
     ]
    },
    {
     "name": "stderr",
     "output_type": "stream",
     "text": [
      " 54%|█████▍    | 121/223 [00:04<00:03, 27.14it/s]"
     ]
    },
    {
     "name": "stdout",
     "output_type": "stream",
     "text": [
      "0\n"
     ]
    },
    {
     "name": "stderr",
     "output_type": "stream",
     "text": [
      " 56%|█████▌    | 124/223 [00:04<00:03, 27.28it/s]"
     ]
    },
    {
     "name": "stdout",
     "output_type": "stream",
     "text": [
      "0\n"
     ]
    },
    {
     "name": "stderr",
     "output_type": "stream",
     "text": [
      " 58%|█████▊    | 130/223 [00:04<00:03, 27.61it/s]"
     ]
    },
    {
     "name": "stdout",
     "output_type": "stream",
     "text": [
      "0\n"
     ]
    },
    {
     "name": "stderr",
     "output_type": "stream",
     "text": [
      " 62%|██████▏   | 139/223 [00:04<00:02, 28.28it/s]"
     ]
    },
    {
     "name": "stdout",
     "output_type": "stream",
     "text": [
      "0\n"
     ]
    },
    {
     "name": "stderr",
     "output_type": "stream",
     "text": [
      " 64%|██████▎   | 142/223 [00:04<00:02, 28.17it/s]"
     ]
    },
    {
     "name": "stdout",
     "output_type": "stream",
     "text": [
      "0\n"
     ]
    },
    {
     "name": "stderr",
     "output_type": "stream",
     "text": [
      " 65%|██████▌   | 145/223 [00:05<00:02, 28.09it/s]"
     ]
    },
    {
     "name": "stdout",
     "output_type": "stream",
     "text": [
      "0\n"
     ]
    },
    {
     "name": "stderr",
     "output_type": "stream",
     "text": [
      " 69%|██████▉   | 154/223 [00:05<00:02, 28.63it/s]"
     ]
    },
    {
     "name": "stdout",
     "output_type": "stream",
     "text": [
      "0\n"
     ]
    },
    {
     "name": "stderr",
     "output_type": "stream",
     "text": [
      " 70%|███████   | 157/223 [00:05<00:02, 28.47it/s]"
     ]
    },
    {
     "name": "stdout",
     "output_type": "stream",
     "text": [
      "0\n"
     ]
    },
    {
     "name": "stderr",
     "output_type": "stream",
     "text": [
      " 72%|███████▏  | 160/223 [00:05<00:02, 28.52it/s]"
     ]
    },
    {
     "name": "stdout",
     "output_type": "stream",
     "text": [
      "0\n"
     ]
    },
    {
     "name": "stderr",
     "output_type": "stream",
     "text": [
      " 73%|███████▎  | 163/223 [00:05<00:02, 28.66it/s]"
     ]
    },
    {
     "name": "stdout",
     "output_type": "stream",
     "text": [
      "0\n"
     ]
    },
    {
     "name": "stderr",
     "output_type": "stream",
     "text": [
      " 87%|████████▋ | 193/223 [00:06<00:01, 27.97it/s]"
     ]
    },
    {
     "name": "stdout",
     "output_type": "stream",
     "text": [
      "0\n"
     ]
    },
    {
     "name": "stderr",
     "output_type": "stream",
     "text": [
      " 89%|████████▉ | 199/223 [00:07<00:00, 24.56it/s]"
     ]
    },
    {
     "name": "stdout",
     "output_type": "stream",
     "text": [
      "0\n",
      "0\n"
     ]
    },
    {
     "name": "stderr",
     "output_type": "stream",
     "text": [
      " 91%|█████████ | 202/223 [00:07<00:00, 25.26it/s]"
     ]
    },
    {
     "name": "stdout",
     "output_type": "stream",
     "text": [
      "0\n",
      "0\n"
     ]
    },
    {
     "name": "stderr",
     "output_type": "stream",
     "text": [
      " 92%|█████████▏| 205/223 [00:07<00:00, 26.06it/s]"
     ]
    },
    {
     "name": "stdout",
     "output_type": "stream",
     "text": [
      "0\n"
     ]
    },
    {
     "name": "stderr",
     "output_type": "stream",
     "text": [
      "100%|██████████| 223/223 [00:07<00:00, 28.50it/s]\n"
     ]
    },
    {
     "name": "stdout",
     "output_type": "stream",
     "text": [
      "TEST: 0.0040 0.0049 0.0040 5.2851 | 2.4902 0.0118 2.4902 | 0.0084 62.3013 | Time: 7.8335\n",
      "\n",
      "2024-07-23 13:31:32\n",
      "RMSE Mean: 0.05229385819066493 Median: 0.04674517363657609 Cor 0.9677596260895481\n",
      "len_error 0.008384001420600296\n",
      "-8.0\n",
      "========================================\n",
      "General Configuration:\n",
      "\tMode: test\n",
      "\tWighting: EW\n",
      "\tArchitecture: HPS\n",
      "\tRep_Grad: False\n",
      "\tMulti_Input: False\n",
      "\tSeed: 777\n",
      "\tSave Path: /home/zhangyuanyuan/radarODE_plus_MTL/Model_saved/\n",
      "\tLoad Path: /home/zhangyuanyuan/radarODE_plus_MTL/Model_saved/step/best_UW.pt\n",
      "\tDevice: cuda:5\n",
      "Optimizer Configuration:\n",
      "\toptim: adam\n",
      "\tlr: 0.0001\n",
      "\tweight_decay: 1e-05\n",
      "Load Model from - /home/zhangyuanyuan/radarODE_plus_MTL/Model_saved/step/best_UW.pt\n",
      "========================================\n",
      "Total Params: 37712961\n",
      "Trainable Params: 37712961\n",
      "Non-trainable Params: 0\n",
      "========================================\n",
      "LOG FORMAT | ECG_shape_LOSS MSE CE norm_MSE | PPI_LOSS CE PPI_sec | Anchor_LOSS mse | TIME\n",
      "0\n",
      "0\n"
     ]
    },
    {
     "name": "stderr",
     "output_type": "stream",
     "text": [
      "  1%|          | 2/225 [00:00<00:12, 17.35it/s]"
     ]
    },
    {
     "name": "stdout",
     "output_type": "stream",
     "text": [
      "0\n"
     ]
    },
    {
     "name": "stderr",
     "output_type": "stream",
     "text": [
      "  5%|▌         | 12/225 [00:00<00:07, 28.83it/s]"
     ]
    },
    {
     "name": "stdout",
     "output_type": "stream",
     "text": [
      "0\n"
     ]
    },
    {
     "name": "stderr",
     "output_type": "stream",
     "text": [
      "  7%|▋         | 16/225 [00:00<00:06, 31.52it/s]"
     ]
    },
    {
     "name": "stdout",
     "output_type": "stream",
     "text": [
      "0\n"
     ]
    },
    {
     "name": "stderr",
     "output_type": "stream",
     "text": [
      " 11%|█         | 24/225 [00:00<00:06, 29.99it/s]"
     ]
    },
    {
     "name": "stdout",
     "output_type": "stream",
     "text": [
      "0\n"
     ]
    },
    {
     "name": "stderr",
     "output_type": "stream",
     "text": [
      " 16%|█▌        | 35/225 [00:01<00:06, 28.17it/s]"
     ]
    },
    {
     "name": "stdout",
     "output_type": "stream",
     "text": [
      "0\n",
      "0\n"
     ]
    },
    {
     "name": "stderr",
     "output_type": "stream",
     "text": [
      " 17%|█▋        | 38/225 [00:01<00:06, 27.31it/s]"
     ]
    },
    {
     "name": "stdout",
     "output_type": "stream",
     "text": [
      "0\n"
     ]
    },
    {
     "name": "stderr",
     "output_type": "stream",
     "text": [
      " 19%|█▊        | 42/225 [00:01<00:06, 29.08it/s]"
     ]
    },
    {
     "name": "stdout",
     "output_type": "stream",
     "text": [
      "0\n",
      "0\n"
     ]
    },
    {
     "name": "stderr",
     "output_type": "stream",
     "text": [
      " 24%|██▍       | 54/225 [00:01<00:05, 32.48it/s]"
     ]
    },
    {
     "name": "stdout",
     "output_type": "stream",
     "text": [
      "0\n"
     ]
    },
    {
     "name": "stderr",
     "output_type": "stream",
     "text": [
      " 28%|██▊       | 62/225 [00:02<00:05, 32.20it/s]"
     ]
    },
    {
     "name": "stdout",
     "output_type": "stream",
     "text": [
      "0\n",
      "0\n"
     ]
    },
    {
     "name": "stderr",
     "output_type": "stream",
     "text": [
      " 29%|██▉       | 66/225 [00:02<00:04, 33.16it/s]"
     ]
    },
    {
     "name": "stdout",
     "output_type": "stream",
     "text": [
      "0\n",
      "0\n",
      "0\n"
     ]
    },
    {
     "name": "stderr",
     "output_type": "stream",
     "text": [
      " 35%|███▍      | 78/225 [00:02<00:04, 29.43it/s]"
     ]
    },
    {
     "name": "stdout",
     "output_type": "stream",
     "text": [
      "0\n",
      "0\n"
     ]
    },
    {
     "name": "stderr",
     "output_type": "stream",
     "text": [
      " 36%|███▌      | 81/225 [00:02<00:04, 29.26it/s]"
     ]
    },
    {
     "name": "stdout",
     "output_type": "stream",
     "text": [
      "0\n"
     ]
    },
    {
     "name": "stderr",
     "output_type": "stream",
     "text": [
      " 37%|███▋      | 84/225 [00:02<00:04, 29.32it/s]"
     ]
    },
    {
     "name": "stdout",
     "output_type": "stream",
     "text": [
      "0\n"
     ]
    },
    {
     "name": "stderr",
     "output_type": "stream",
     "text": [
      " 40%|████      | 90/225 [00:03<00:04, 29.35it/s]"
     ]
    },
    {
     "name": "stdout",
     "output_type": "stream",
     "text": [
      "0\n"
     ]
    },
    {
     "name": "stderr",
     "output_type": "stream",
     "text": [
      " 44%|████▍     | 99/225 [00:03<00:04, 29.50it/s]"
     ]
    },
    {
     "name": "stdout",
     "output_type": "stream",
     "text": [
      "0\n"
     ]
    },
    {
     "name": "stderr",
     "output_type": "stream",
     "text": [
      " 47%|████▋     | 105/225 [00:03<00:04, 29.44it/s]"
     ]
    },
    {
     "name": "stdout",
     "output_type": "stream",
     "text": [
      "0\n"
     ]
    },
    {
     "name": "stderr",
     "output_type": "stream",
     "text": [
      " 48%|████▊     | 108/225 [00:03<00:03, 29.41it/s]"
     ]
    },
    {
     "name": "stdout",
     "output_type": "stream",
     "text": [
      "0\n",
      "0\n"
     ]
    },
    {
     "name": "stderr",
     "output_type": "stream",
     "text": [
      " 51%|█████     | 114/225 [00:03<00:03, 29.43it/s]"
     ]
    },
    {
     "name": "stdout",
     "output_type": "stream",
     "text": [
      "0\n"
     ]
    },
    {
     "name": "stderr",
     "output_type": "stream",
     "text": [
      " 52%|█████▏    | 117/225 [00:03<00:03, 29.38it/s]"
     ]
    },
    {
     "name": "stdout",
     "output_type": "stream",
     "text": [
      "0\n"
     ]
    },
    {
     "name": "stderr",
     "output_type": "stream",
     "text": [
      " 53%|█████▎    | 120/225 [00:04<00:03, 29.47it/s]"
     ]
    },
    {
     "name": "stdout",
     "output_type": "stream",
     "text": [
      "0\n"
     ]
    },
    {
     "name": "stderr",
     "output_type": "stream",
     "text": [
      " 55%|█████▍    | 123/225 [00:04<00:03, 29.29it/s]"
     ]
    },
    {
     "name": "stdout",
     "output_type": "stream",
     "text": [
      "0\n"
     ]
    },
    {
     "name": "stderr",
     "output_type": "stream",
     "text": [
      " 60%|██████    | 135/225 [00:04<00:03, 29.23it/s]"
     ]
    },
    {
     "name": "stdout",
     "output_type": "stream",
     "text": [
      "0\n"
     ]
    },
    {
     "name": "stderr",
     "output_type": "stream",
     "text": [
      " 63%|██████▎   | 141/225 [00:04<00:02, 29.07it/s]"
     ]
    },
    {
     "name": "stdout",
     "output_type": "stream",
     "text": [
      "0\n"
     ]
    },
    {
     "name": "stderr",
     "output_type": "stream",
     "text": [
      " 64%|██████▍   | 144/225 [00:04<00:02, 28.54it/s]"
     ]
    },
    {
     "name": "stdout",
     "output_type": "stream",
     "text": [
      "0\n"
     ]
    },
    {
     "name": "stderr",
     "output_type": "stream",
     "text": [
      " 67%|██████▋   | 150/225 [00:05<00:02, 28.31it/s]"
     ]
    },
    {
     "name": "stdout",
     "output_type": "stream",
     "text": [
      "0\n"
     ]
    },
    {
     "name": "stderr",
     "output_type": "stream",
     "text": [
      " 68%|██████▊   | 154/225 [00:05<00:02, 30.26it/s]"
     ]
    },
    {
     "name": "stdout",
     "output_type": "stream",
     "text": [
      "0\n"
     ]
    },
    {
     "name": "stderr",
     "output_type": "stream",
     "text": [
      " 70%|███████   | 158/225 [00:05<00:02, 31.59it/s]"
     ]
    },
    {
     "name": "stdout",
     "output_type": "stream",
     "text": [
      "0\n"
     ]
    },
    {
     "name": "stderr",
     "output_type": "stream",
     "text": [
      " 72%|███████▏  | 162/225 [00:05<00:01, 33.08it/s]"
     ]
    },
    {
     "name": "stdout",
     "output_type": "stream",
     "text": [
      "0\n"
     ]
    },
    {
     "name": "stderr",
     "output_type": "stream",
     "text": [
      " 74%|███████▍  | 166/225 [00:05<00:01, 34.31it/s]"
     ]
    },
    {
     "name": "stdout",
     "output_type": "stream",
     "text": [
      "0\n",
      "0\n"
     ]
    },
    {
     "name": "stderr",
     "output_type": "stream",
     "text": [
      " 77%|███████▋  | 174/225 [00:05<00:01, 31.01it/s]"
     ]
    },
    {
     "name": "stdout",
     "output_type": "stream",
     "text": [
      "0\n"
     ]
    },
    {
     "name": "stderr",
     "output_type": "stream",
     "text": [
      " 84%|████████▍ | 189/225 [00:06<00:01, 29.46it/s]"
     ]
    },
    {
     "name": "stdout",
     "output_type": "stream",
     "text": [
      "0\n"
     ]
    },
    {
     "name": "stderr",
     "output_type": "stream",
     "text": [
      " 85%|████████▌ | 192/225 [00:06<00:01, 29.24it/s]"
     ]
    },
    {
     "name": "stdout",
     "output_type": "stream",
     "text": [
      "0\n"
     ]
    },
    {
     "name": "stderr",
     "output_type": "stream",
     "text": [
      " 88%|████████▊ | 198/225 [00:06<00:00, 29.08it/s]"
     ]
    },
    {
     "name": "stdout",
     "output_type": "stream",
     "text": [
      "0\n"
     ]
    },
    {
     "name": "stderr",
     "output_type": "stream",
     "text": [
      " 89%|████████▉ | 201/225 [00:06<00:00, 29.08it/s]"
     ]
    },
    {
     "name": "stdout",
     "output_type": "stream",
     "text": [
      "0\n"
     ]
    },
    {
     "name": "stderr",
     "output_type": "stream",
     "text": [
      " 91%|█████████ | 204/225 [00:06<00:00, 29.14it/s]"
     ]
    },
    {
     "name": "stdout",
     "output_type": "stream",
     "text": [
      "0\n"
     ]
    },
    {
     "name": "stderr",
     "output_type": "stream",
     "text": [
      "100%|██████████| 225/225 [00:07<00:00, 29.90it/s]\n"
     ]
    },
    {
     "name": "stdout",
     "output_type": "stream",
     "text": [
      "TEST: 0.0036 0.0043 0.0036 5.2849 | 2.8462 0.0122 2.8462 | 0.0070 62.1822 | Time: 7.5316\n",
      "\n",
      "2024-07-23 13:31:43\n",
      "RMSE Mean: 0.05244489712149857 Median: 0.04684411270107483 Cor 0.9597619457226977\n",
      "len_error 0.011075498483890767\n",
      "2.0\n",
      "========================================\n",
      "General Configuration:\n",
      "\tMode: test\n",
      "\tWighting: EW\n",
      "\tArchitecture: HPS\n",
      "\tRep_Grad: False\n",
      "\tMulti_Input: False\n",
      "\tSeed: 777\n",
      "\tSave Path: /home/zhangyuanyuan/radarODE_plus_MTL/Model_saved/\n",
      "\tLoad Path: /home/zhangyuanyuan/radarODE_plus_MTL/Model_saved/step/best_UW.pt\n",
      "\tDevice: cuda:5\n",
      "Optimizer Configuration:\n",
      "\toptim: adam\n",
      "\tlr: 0.0001\n",
      "\tweight_decay: 1e-05\n",
      "Load Model from - /home/zhangyuanyuan/radarODE_plus_MTL/Model_saved/step/best_UW.pt\n",
      "========================================\n",
      "Total Params: 37712961\n",
      "Trainable Params: 37712961\n",
      "Non-trainable Params: 0\n",
      "========================================\n",
      "LOG FORMAT | ECG_shape_LOSS MSE CE norm_MSE | PPI_LOSS CE PPI_sec | Anchor_LOSS mse | TIME\n",
      "0"
     ]
    },
    {
     "name": "stderr",
     "output_type": "stream",
     "text": [
      "  0%|          | 0/223 [00:00<?, ?it/s]"
     ]
    },
    {
     "name": "stdout",
     "output_type": "stream",
     "text": [
      "\n",
      "0\n"
     ]
    },
    {
     "name": "stderr",
     "output_type": "stream",
     "text": [
      "  3%|▎         | 6/223 [00:00<00:08, 26.51it/s]"
     ]
    },
    {
     "name": "stdout",
     "output_type": "stream",
     "text": [
      "0\n"
     ]
    },
    {
     "name": "stderr",
     "output_type": "stream",
     "text": [
      "  4%|▍         | 9/223 [00:00<00:07, 27.46it/s]"
     ]
    },
    {
     "name": "stdout",
     "output_type": "stream",
     "text": [
      "0\n"
     ]
    },
    {
     "name": "stderr",
     "output_type": "stream",
     "text": [
      "  9%|▊         | 19/223 [00:00<00:07, 27.30it/s]"
     ]
    },
    {
     "name": "stdout",
     "output_type": "stream",
     "text": [
      "0\n",
      "0\n"
     ]
    },
    {
     "name": "stderr",
     "output_type": "stream",
     "text": [
      " 10%|▉         | 22/223 [00:00<00:07, 27.15it/s]"
     ]
    },
    {
     "name": "stdout",
     "output_type": "stream",
     "text": [
      "0\n",
      "0\n"
     ]
    },
    {
     "name": "stderr",
     "output_type": "stream",
     "text": [
      " 11%|█         | 25/223 [00:00<00:07, 27.49it/s]"
     ]
    },
    {
     "name": "stdout",
     "output_type": "stream",
     "text": [
      "0\n"
     ]
    },
    {
     "name": "stderr",
     "output_type": "stream",
     "text": [
      " 13%|█▎        | 28/223 [00:01<00:06, 27.89it/s]"
     ]
    },
    {
     "name": "stdout",
     "output_type": "stream",
     "text": [
      "0\n"
     ]
    },
    {
     "name": "stderr",
     "output_type": "stream",
     "text": [
      " 17%|█▋        | 37/223 [00:01<00:06, 28.12it/s]"
     ]
    },
    {
     "name": "stdout",
     "output_type": "stream",
     "text": [
      "0\n"
     ]
    },
    {
     "name": "stderr",
     "output_type": "stream",
     "text": [
      " 18%|█▊        | 40/223 [00:01<00:06, 28.30it/s]"
     ]
    },
    {
     "name": "stdout",
     "output_type": "stream",
     "text": [
      "0\n"
     ]
    },
    {
     "name": "stderr",
     "output_type": "stream",
     "text": [
      " 19%|█▉        | 43/223 [00:01<00:06, 28.24it/s]"
     ]
    },
    {
     "name": "stdout",
     "output_type": "stream",
     "text": [
      "0\n"
     ]
    },
    {
     "name": "stderr",
     "output_type": "stream",
     "text": [
      " 25%|██▍       | 55/223 [00:01<00:05, 28.71it/s]"
     ]
    },
    {
     "name": "stdout",
     "output_type": "stream",
     "text": [
      "0\n"
     ]
    },
    {
     "name": "stderr",
     "output_type": "stream",
     "text": [
      " 26%|██▌       | 58/223 [00:02<00:05, 28.59it/s]"
     ]
    },
    {
     "name": "stdout",
     "output_type": "stream",
     "text": [
      "0\n"
     ]
    },
    {
     "name": "stderr",
     "output_type": "stream",
     "text": [
      " 33%|███▎      | 73/223 [00:02<00:05, 28.71it/s]"
     ]
    },
    {
     "name": "stdout",
     "output_type": "stream",
     "text": [
      "0\n",
      "0\n"
     ]
    },
    {
     "name": "stderr",
     "output_type": "stream",
     "text": [
      " 35%|███▌      | 79/223 [00:02<00:05, 28.79it/s]"
     ]
    },
    {
     "name": "stdout",
     "output_type": "stream",
     "text": [
      "0\n"
     ]
    },
    {
     "name": "stderr",
     "output_type": "stream",
     "text": [
      " 37%|███▋      | 82/223 [00:02<00:05, 28.14it/s]"
     ]
    },
    {
     "name": "stdout",
     "output_type": "stream",
     "text": [
      "0\n"
     ]
    },
    {
     "name": "stderr",
     "output_type": "stream",
     "text": [
      " 42%|████▏     | 94/223 [00:03<00:04, 28.79it/s]"
     ]
    },
    {
     "name": "stdout",
     "output_type": "stream",
     "text": [
      "0\n",
      "0\n"
     ]
    },
    {
     "name": "stderr",
     "output_type": "stream",
     "text": [
      " 43%|████▎     | 97/223 [00:03<00:04, 29.01it/s]"
     ]
    },
    {
     "name": "stdout",
     "output_type": "stream",
     "text": [
      "0\n"
     ]
    },
    {
     "name": "stderr",
     "output_type": "stream",
     "text": [
      " 45%|████▍     | 100/223 [00:03<00:04, 29.08it/s]"
     ]
    },
    {
     "name": "stdout",
     "output_type": "stream",
     "text": [
      "0\n",
      "0\n"
     ]
    },
    {
     "name": "stderr",
     "output_type": "stream",
     "text": [
      " 48%|████▊     | 106/223 [00:03<00:04, 29.19it/s]"
     ]
    },
    {
     "name": "stdout",
     "output_type": "stream",
     "text": [
      "0\n",
      "0\n"
     ]
    },
    {
     "name": "stderr",
     "output_type": "stream",
     "text": [
      " 49%|████▉     | 109/223 [00:03<00:03, 29.21it/s]"
     ]
    },
    {
     "name": "stdout",
     "output_type": "stream",
     "text": [
      "0\n"
     ]
    },
    {
     "name": "stderr",
     "output_type": "stream",
     "text": [
      " 50%|█████     | 112/223 [00:03<00:03, 29.32it/s]"
     ]
    },
    {
     "name": "stdout",
     "output_type": "stream",
     "text": [
      "0\n"
     ]
    },
    {
     "name": "stderr",
     "output_type": "stream",
     "text": [
      " 52%|█████▏    | 115/223 [00:04<00:03, 28.89it/s]"
     ]
    },
    {
     "name": "stdout",
     "output_type": "stream",
     "text": [
      "0\n"
     ]
    },
    {
     "name": "stderr",
     "output_type": "stream",
     "text": [
      " 53%|█████▎    | 118/223 [00:04<00:03, 28.85it/s]"
     ]
    },
    {
     "name": "stdout",
     "output_type": "stream",
     "text": [
      "0\n",
      "0\n"
     ]
    },
    {
     "name": "stderr",
     "output_type": "stream",
     "text": [
      " 62%|██████▏   | 139/223 [00:04<00:02, 29.22it/s]"
     ]
    },
    {
     "name": "stdout",
     "output_type": "stream",
     "text": [
      "0\n"
     ]
    },
    {
     "name": "stderr",
     "output_type": "stream",
     "text": [
      " 65%|██████▌   | 145/223 [00:05<00:02, 29.45it/s]"
     ]
    },
    {
     "name": "stdout",
     "output_type": "stream",
     "text": [
      "0\n"
     ]
    },
    {
     "name": "stderr",
     "output_type": "stream",
     "text": [
      " 66%|██████▋   | 148/223 [00:05<00:02, 29.34it/s]"
     ]
    },
    {
     "name": "stdout",
     "output_type": "stream",
     "text": [
      "0\n"
     ]
    },
    {
     "name": "stderr",
     "output_type": "stream",
     "text": [
      " 68%|██████▊   | 151/223 [00:05<00:02, 29.29it/s]"
     ]
    },
    {
     "name": "stdout",
     "output_type": "stream",
     "text": [
      "0\n",
      "0\n"
     ]
    },
    {
     "name": "stderr",
     "output_type": "stream",
     "text": [
      " 73%|███████▎  | 163/223 [00:05<00:02, 29.31it/s]"
     ]
    },
    {
     "name": "stdout",
     "output_type": "stream",
     "text": [
      "0\n"
     ]
    },
    {
     "name": "stderr",
     "output_type": "stream",
     "text": [
      " 76%|███████▌  | 169/223 [00:05<00:01, 28.99it/s]"
     ]
    },
    {
     "name": "stdout",
     "output_type": "stream",
     "text": [
      "0\n"
     ]
    },
    {
     "name": "stderr",
     "output_type": "stream",
     "text": [
      " 80%|███████▉  | 178/223 [00:06<00:01, 28.86it/s]"
     ]
    },
    {
     "name": "stdout",
     "output_type": "stream",
     "text": [
      "0\n"
     ]
    },
    {
     "name": "stderr",
     "output_type": "stream",
     "text": [
      " 81%|████████  | 181/223 [00:06<00:01, 28.90it/s]"
     ]
    },
    {
     "name": "stdout",
     "output_type": "stream",
     "text": [
      "0\n"
     ]
    },
    {
     "name": "stderr",
     "output_type": "stream",
     "text": [
      " 84%|████████▍ | 187/223 [00:06<00:01, 29.22it/s]"
     ]
    },
    {
     "name": "stdout",
     "output_type": "stream",
     "text": [
      "0\n"
     ]
    },
    {
     "name": "stderr",
     "output_type": "stream",
     "text": [
      " 85%|████████▌ | 190/223 [00:06<00:01, 29.18it/s]"
     ]
    },
    {
     "name": "stdout",
     "output_type": "stream",
     "text": [
      "0\n"
     ]
    },
    {
     "name": "stderr",
     "output_type": "stream",
     "text": [
      " 87%|████████▋ | 193/223 [00:06<00:01, 29.09it/s]"
     ]
    },
    {
     "name": "stdout",
     "output_type": "stream",
     "text": [
      "0\n"
     ]
    },
    {
     "name": "stderr",
     "output_type": "stream",
     "text": [
      " 91%|█████████ | 202/223 [00:07<00:00, 29.33it/s]"
     ]
    },
    {
     "name": "stdout",
     "output_type": "stream",
     "text": [
      "0\n"
     ]
    },
    {
     "name": "stderr",
     "output_type": "stream",
     "text": [
      "100%|██████████| 223/223 [00:07<00:00, 28.82it/s]\n"
     ]
    },
    {
     "name": "stdout",
     "output_type": "stream",
     "text": [
      "TEST: 0.0086 0.0094 0.0086 5.2882 | 2.3165 0.0120 2.3165 | 0.0066 62.0926 | Time: 7.7438\n",
      "\n",
      "2024-07-23 13:31:55\n",
      "RMSE Mean: 0.07297746826325811 Median: 0.07160019044506087 Cor 0.8663152574394548\n",
      "len_error 0.00738134844948641\n",
      "-1.0\n",
      "========================================\n",
      "General Configuration:\n",
      "\tMode: test\n",
      "\tWighting: EW\n",
      "\tArchitecture: HPS\n",
      "\tRep_Grad: False\n",
      "\tMulti_Input: False\n",
      "\tSeed: 777\n",
      "\tSave Path: /home/zhangyuanyuan/radarODE_plus_MTL/Model_saved/\n",
      "\tLoad Path: /home/zhangyuanyuan/radarODE_plus_MTL/Model_saved/step/best_UW.pt\n",
      "\tDevice: cuda:5\n",
      "Optimizer Configuration:\n",
      "\toptim: adam\n",
      "\tlr: 0.0001\n",
      "\tweight_decay: 1e-05\n",
      "Load Model from - /home/zhangyuanyuan/radarODE_plus_MTL/Model_saved/step/best_UW.pt\n",
      "========================================\n",
      "Total Params: 37712961\n",
      "Trainable Params: 37712961\n",
      "Non-trainable Params: 0\n",
      "========================================\n",
      "LOG FORMAT | ECG_shape_LOSS MSE CE norm_MSE | PPI_LOSS CE PPI_sec | Anchor_LOSS mse | TIME\n",
      "0"
     ]
    },
    {
     "name": "stderr",
     "output_type": "stream",
     "text": [
      "  0%|          | 0/269 [00:00<?, ?it/s]"
     ]
    },
    {
     "name": "stdout",
     "output_type": "stream",
     "text": [
      "\n",
      "0\n",
      "0\n"
     ]
    },
    {
     "name": "stderr",
     "output_type": "stream",
     "text": [
      "  2%|▏         | 5/269 [00:00<00:13, 19.50it/s]"
     ]
    },
    {
     "name": "stdout",
     "output_type": "stream",
     "text": [
      "0\n",
      "0\n",
      "0\n"
     ]
    },
    {
     "name": "stderr",
     "output_type": "stream",
     "text": [
      "  3%|▎         | 8/269 [00:00<00:12, 21.60it/s]"
     ]
    },
    {
     "name": "stdout",
     "output_type": "stream",
     "text": [
      "0\n"
     ]
    },
    {
     "name": "stderr",
     "output_type": "stream",
     "text": [
      "  5%|▌         | 14/269 [00:00<00:10, 25.05it/s]"
     ]
    },
    {
     "name": "stdout",
     "output_type": "stream",
     "text": [
      "0\n",
      "0\n"
     ]
    },
    {
     "name": "stderr",
     "output_type": "stream",
     "text": [
      "  6%|▋         | 17/269 [00:00<00:09, 26.05it/s]"
     ]
    },
    {
     "name": "stdout",
     "output_type": "stream",
     "text": [
      "0\n"
     ]
    },
    {
     "name": "stderr",
     "output_type": "stream",
     "text": [
      "  7%|▋         | 20/269 [00:00<00:09, 26.58it/s]"
     ]
    },
    {
     "name": "stdout",
     "output_type": "stream",
     "text": [
      "0\n"
     ]
    },
    {
     "name": "stderr",
     "output_type": "stream",
     "text": [
      " 11%|█         | 29/269 [00:01<00:08, 27.42it/s]"
     ]
    },
    {
     "name": "stdout",
     "output_type": "stream",
     "text": [
      "0\n",
      "0\n"
     ]
    },
    {
     "name": "stderr",
     "output_type": "stream",
     "text": [
      " 13%|█▎        | 36/269 [00:01<00:08, 27.90it/s]"
     ]
    },
    {
     "name": "stdout",
     "output_type": "stream",
     "text": [
      "0\n"
     ]
    },
    {
     "name": "stderr",
     "output_type": "stream",
     "text": [
      " 14%|█▍        | 39/269 [00:01<00:08, 28.12it/s]"
     ]
    },
    {
     "name": "stdout",
     "output_type": "stream",
     "text": [
      "0\n"
     ]
    },
    {
     "name": "stderr",
     "output_type": "stream",
     "text": [
      " 16%|█▌        | 42/269 [00:01<00:08, 28.12it/s]"
     ]
    },
    {
     "name": "stdout",
     "output_type": "stream",
     "text": [
      "0\n"
     ]
    },
    {
     "name": "stderr",
     "output_type": "stream",
     "text": [
      " 18%|█▊        | 48/269 [00:01<00:07, 28.40it/s]"
     ]
    },
    {
     "name": "stdout",
     "output_type": "stream",
     "text": [
      "0\n"
     ]
    },
    {
     "name": "stderr",
     "output_type": "stream",
     "text": [
      " 19%|█▉        | 51/269 [00:01<00:07, 28.53it/s]"
     ]
    },
    {
     "name": "stdout",
     "output_type": "stream",
     "text": [
      "0\n"
     ]
    },
    {
     "name": "stderr",
     "output_type": "stream",
     "text": [
      " 21%|██        | 57/269 [00:02<00:07, 28.60it/s]"
     ]
    },
    {
     "name": "stdout",
     "output_type": "stream",
     "text": [
      "0\n"
     ]
    },
    {
     "name": "stderr",
     "output_type": "stream",
     "text": [
      " 22%|██▏       | 60/269 [00:02<00:07, 28.05it/s]"
     ]
    },
    {
     "name": "stdout",
     "output_type": "stream",
     "text": [
      "0\n",
      "0\n"
     ]
    },
    {
     "name": "stderr",
     "output_type": "stream",
     "text": [
      " 25%|██▍       | 66/269 [00:02<00:07, 28.06it/s]"
     ]
    },
    {
     "name": "stdout",
     "output_type": "stream",
     "text": [
      "0\n"
     ]
    },
    {
     "name": "stderr",
     "output_type": "stream",
     "text": [
      " 26%|██▌       | 69/269 [00:02<00:07, 28.15it/s]"
     ]
    },
    {
     "name": "stdout",
     "output_type": "stream",
     "text": [
      "0\n"
     ]
    },
    {
     "name": "stderr",
     "output_type": "stream",
     "text": [
      " 27%|██▋       | 72/269 [00:02<00:06, 28.34it/s]"
     ]
    },
    {
     "name": "stdout",
     "output_type": "stream",
     "text": [
      "0\n"
     ]
    },
    {
     "name": "stderr",
     "output_type": "stream",
     "text": [
      " 28%|██▊       | 75/269 [00:02<00:06, 28.38it/s]"
     ]
    },
    {
     "name": "stdout",
     "output_type": "stream",
     "text": [
      "0\n"
     ]
    },
    {
     "name": "stderr",
     "output_type": "stream",
     "text": [
      " 29%|██▉       | 78/269 [00:02<00:06, 28.39it/s]"
     ]
    },
    {
     "name": "stdout",
     "output_type": "stream",
     "text": [
      "0\n"
     ]
    },
    {
     "name": "stderr",
     "output_type": "stream",
     "text": [
      " 30%|███       | 81/269 [00:02<00:06, 28.32it/s]"
     ]
    },
    {
     "name": "stdout",
     "output_type": "stream",
     "text": [
      "0\n",
      "0\n"
     ]
    },
    {
     "name": "stderr",
     "output_type": "stream",
     "text": [
      " 32%|███▏      | 87/269 [00:03<00:06, 28.68it/s]"
     ]
    },
    {
     "name": "stdout",
     "output_type": "stream",
     "text": [
      "0\n",
      "0\n"
     ]
    },
    {
     "name": "stderr",
     "output_type": "stream",
     "text": [
      " 40%|████      | 108/269 [00:03<00:05, 28.16it/s]"
     ]
    },
    {
     "name": "stdout",
     "output_type": "stream",
     "text": [
      "0\n"
     ]
    },
    {
     "name": "stderr",
     "output_type": "stream",
     "text": [
      " 42%|████▏     | 114/269 [00:04<00:05, 28.58it/s]"
     ]
    },
    {
     "name": "stdout",
     "output_type": "stream",
     "text": [
      "0\n"
     ]
    },
    {
     "name": "stderr",
     "output_type": "stream",
     "text": [
      " 45%|████▍     | 121/269 [00:04<00:04, 30.88it/s]"
     ]
    },
    {
     "name": "stdout",
     "output_type": "stream",
     "text": [
      "0\n",
      "0\n"
     ]
    },
    {
     "name": "stderr",
     "output_type": "stream",
     "text": [
      " 46%|████▋     | 125/269 [00:04<00:04, 32.85it/s]"
     ]
    },
    {
     "name": "stdout",
     "output_type": "stream",
     "text": [
      "0\n",
      "0\n"
     ]
    },
    {
     "name": "stderr",
     "output_type": "stream",
     "text": [
      " 49%|████▉     | 133/269 [00:04<00:03, 34.68it/s]"
     ]
    },
    {
     "name": "stdout",
     "output_type": "stream",
     "text": [
      "0\n"
     ]
    },
    {
     "name": "stderr",
     "output_type": "stream",
     "text": [
      " 54%|█████▍    | 145/269 [00:05<00:03, 31.61it/s]"
     ]
    },
    {
     "name": "stdout",
     "output_type": "stream",
     "text": [
      "0\n"
     ]
    },
    {
     "name": "stderr",
     "output_type": "stream",
     "text": [
      " 57%|█████▋    | 153/269 [00:05<00:04, 28.27it/s]"
     ]
    },
    {
     "name": "stdout",
     "output_type": "stream",
     "text": [
      "0\n",
      "0\n"
     ]
    },
    {
     "name": "stderr",
     "output_type": "stream",
     "text": [
      " 64%|██████▎   | 171/269 [00:06<00:03, 25.80it/s]"
     ]
    },
    {
     "name": "stdout",
     "output_type": "stream",
     "text": [
      "0\n"
     ]
    },
    {
     "name": "stderr",
     "output_type": "stream",
     "text": [
      " 66%|██████▌   | 177/269 [00:06<00:03, 26.78it/s]"
     ]
    },
    {
     "name": "stdout",
     "output_type": "stream",
     "text": [
      "0\n"
     ]
    },
    {
     "name": "stderr",
     "output_type": "stream",
     "text": [
      " 67%|██████▋   | 180/269 [00:06<00:03, 27.06it/s]"
     ]
    },
    {
     "name": "stdout",
     "output_type": "stream",
     "text": [
      "0\n"
     ]
    },
    {
     "name": "stderr",
     "output_type": "stream",
     "text": [
      " 70%|███████   | 189/269 [00:06<00:02, 28.48it/s]"
     ]
    },
    {
     "name": "stdout",
     "output_type": "stream",
     "text": [
      "0\n"
     ]
    },
    {
     "name": "stderr",
     "output_type": "stream",
     "text": [
      " 72%|███████▏  | 195/269 [00:06<00:02, 28.75it/s]"
     ]
    },
    {
     "name": "stdout",
     "output_type": "stream",
     "text": [
      "0\n"
     ]
    },
    {
     "name": "stderr",
     "output_type": "stream",
     "text": [
      " 74%|███████▎  | 198/269 [00:07<00:02, 28.87it/s]"
     ]
    },
    {
     "name": "stdout",
     "output_type": "stream",
     "text": [
      "0\n",
      "0\n",
      "0\n"
     ]
    },
    {
     "name": "stderr",
     "output_type": "stream",
     "text": [
      " 77%|███████▋  | 207/269 [00:07<00:02, 28.82it/s]"
     ]
    },
    {
     "name": "stdout",
     "output_type": "stream",
     "text": [
      "0\n"
     ]
    },
    {
     "name": "stderr",
     "output_type": "stream",
     "text": [
      " 80%|███████▉  | 214/269 [00:07<00:01, 29.32it/s]"
     ]
    },
    {
     "name": "stdout",
     "output_type": "stream",
     "text": [
      "0\n"
     ]
    },
    {
     "name": "stderr",
     "output_type": "stream",
     "text": [
      " 86%|████████▌ | 232/269 [00:08<00:01, 28.93it/s]"
     ]
    },
    {
     "name": "stdout",
     "output_type": "stream",
     "text": [
      "0\n"
     ]
    },
    {
     "name": "stderr",
     "output_type": "stream",
     "text": [
      " 87%|████████▋ | 235/269 [00:08<00:01, 28.73it/s]"
     ]
    },
    {
     "name": "stdout",
     "output_type": "stream",
     "text": [
      "0\n"
     ]
    },
    {
     "name": "stderr",
     "output_type": "stream",
     "text": [
      " 90%|████████▉ | 241/269 [00:08<00:00, 28.75it/s]"
     ]
    },
    {
     "name": "stdout",
     "output_type": "stream",
     "text": [
      "0\n"
     ]
    },
    {
     "name": "stderr",
     "output_type": "stream",
     "text": [
      "100%|██████████| 269/269 [00:09<00:00, 28.39it/s]\n"
     ]
    },
    {
     "name": "stdout",
     "output_type": "stream",
     "text": [
      "TEST: 0.0740 0.0882 0.0740 5.3147 | 4.3079 0.0561 4.3079 | 0.0076 74.9273 | Time: 9.4832\n",
      "\n",
      "2024-07-23 13:32:08\n",
      "RMSE Mean: 0.28069703902625287 Median: 0.27935217718641897 Cor -0.19433543987446292\n",
      "len_error 0.11583662061964656\n",
      "2.0\n",
      "========================================\n",
      "General Configuration:\n",
      "\tMode: test\n",
      "\tWighting: EW\n",
      "\tArchitecture: HPS\n",
      "\tRep_Grad: False\n",
      "\tMulti_Input: False\n",
      "\tSeed: 777\n",
      "\tSave Path: /home/zhangyuanyuan/radarODE_plus_MTL/Model_saved/\n",
      "\tLoad Path: /home/zhangyuanyuan/radarODE_plus_MTL/Model_saved/step/best_UW.pt\n",
      "\tDevice: cuda:5\n",
      "Optimizer Configuration:\n",
      "\toptim: adam\n",
      "\tlr: 0.0001\n",
      "\tweight_decay: 1e-05\n",
      "Load Model from - /home/zhangyuanyuan/radarODE_plus_MTL/Model_saved/step/best_UW.pt\n",
      "========================================\n",
      "Total Params: 37712961\n",
      "Trainable Params: 37712961\n",
      "Non-trainable Params: 0\n",
      "========================================\n",
      "LOG FORMAT | ECG_shape_LOSS MSE CE norm_MSE | PPI_LOSS CE PPI_sec | Anchor_LOSS mse | TIME\n",
      "0\n",
      "0"
     ]
    },
    {
     "name": "stderr",
     "output_type": "stream",
     "text": [
      "  0%|          | 0/189 [00:00<?, ?it/s]"
     ]
    },
    {
     "name": "stdout",
     "output_type": "stream",
     "text": [
      "\n",
      "0\n"
     ]
    },
    {
     "name": "stderr",
     "output_type": "stream",
     "text": [
      "  3%|▎         | 5/189 [00:00<00:08, 21.09it/s]"
     ]
    },
    {
     "name": "stdout",
     "output_type": "stream",
     "text": [
      "0\n"
     ]
    },
    {
     "name": "stderr",
     "output_type": "stream",
     "text": [
      "  4%|▍         | 8/189 [00:00<00:07, 23.98it/s]"
     ]
    },
    {
     "name": "stdout",
     "output_type": "stream",
     "text": [
      "0\n"
     ]
    },
    {
     "name": "stderr",
     "output_type": "stream",
     "text": [
      "  7%|▋         | 14/189 [00:00<00:06, 26.81it/s]"
     ]
    },
    {
     "name": "stdout",
     "output_type": "stream",
     "text": [
      "0\n"
     ]
    },
    {
     "name": "stderr",
     "output_type": "stream",
     "text": [
      " 11%|█         | 20/189 [00:00<00:06, 27.85it/s]"
     ]
    },
    {
     "name": "stdout",
     "output_type": "stream",
     "text": [
      "0\n"
     ]
    },
    {
     "name": "stderr",
     "output_type": "stream",
     "text": [
      " 12%|█▏        | 23/189 [00:00<00:05, 28.13it/s]"
     ]
    },
    {
     "name": "stdout",
     "output_type": "stream",
     "text": [
      "0\n"
     ]
    },
    {
     "name": "stderr",
     "output_type": "stream",
     "text": [
      " 15%|█▌        | 29/189 [00:01<00:05, 28.34it/s]"
     ]
    },
    {
     "name": "stdout",
     "output_type": "stream",
     "text": [
      "0\n"
     ]
    },
    {
     "name": "stderr",
     "output_type": "stream",
     "text": [
      " 17%|█▋        | 32/189 [00:01<00:05, 28.43it/s]"
     ]
    },
    {
     "name": "stdout",
     "output_type": "stream",
     "text": [
      "0\n"
     ]
    },
    {
     "name": "stderr",
     "output_type": "stream",
     "text": [
      " 20%|██        | 38/189 [00:01<00:05, 26.05it/s]"
     ]
    },
    {
     "name": "stdout",
     "output_type": "stream",
     "text": [
      "0\n"
     ]
    },
    {
     "name": "stderr",
     "output_type": "stream",
     "text": [
      " 26%|██▋       | 50/189 [00:01<00:05, 25.29it/s]"
     ]
    },
    {
     "name": "stdout",
     "output_type": "stream",
     "text": [
      "0\n"
     ]
    },
    {
     "name": "stderr",
     "output_type": "stream",
     "text": [
      " 28%|██▊       | 53/189 [00:02<00:05, 25.54it/s]"
     ]
    },
    {
     "name": "stdout",
     "output_type": "stream",
     "text": [
      "0\n"
     ]
    },
    {
     "name": "stderr",
     "output_type": "stream",
     "text": [
      " 36%|███▌      | 68/189 [00:02<00:04, 24.71it/s]"
     ]
    },
    {
     "name": "stdout",
     "output_type": "stream",
     "text": [
      "0\n"
     ]
    },
    {
     "name": "stderr",
     "output_type": "stream",
     "text": [
      " 39%|███▉      | 74/189 [00:02<00:04, 24.47it/s]"
     ]
    },
    {
     "name": "stdout",
     "output_type": "stream",
     "text": [
      "0\n",
      "0\n"
     ]
    },
    {
     "name": "stderr",
     "output_type": "stream",
     "text": [
      " 42%|████▏     | 80/189 [00:03<00:04, 24.89it/s]"
     ]
    },
    {
     "name": "stdout",
     "output_type": "stream",
     "text": [
      "0\n"
     ]
    },
    {
     "name": "stderr",
     "output_type": "stream",
     "text": [
      " 50%|█████     | 95/189 [00:03<00:03, 24.23it/s]"
     ]
    },
    {
     "name": "stdout",
     "output_type": "stream",
     "text": [
      "0\n"
     ]
    },
    {
     "name": "stderr",
     "output_type": "stream",
     "text": [
      " 55%|█████▌    | 104/189 [00:04<00:03, 24.04it/s]"
     ]
    },
    {
     "name": "stdout",
     "output_type": "stream",
     "text": [
      "0\n",
      "0\n"
     ]
    },
    {
     "name": "stderr",
     "output_type": "stream",
     "text": [
      " 57%|█████▋    | 107/189 [00:04<00:03, 23.76it/s]"
     ]
    },
    {
     "name": "stdout",
     "output_type": "stream",
     "text": [
      "0\n",
      "0\n"
     ]
    },
    {
     "name": "stderr",
     "output_type": "stream",
     "text": [
      " 58%|█████▊    | 110/189 [00:04<00:03, 23.89it/s]"
     ]
    },
    {
     "name": "stdout",
     "output_type": "stream",
     "text": [
      "0\n"
     ]
    },
    {
     "name": "stderr",
     "output_type": "stream",
     "text": [
      " 61%|██████▏   | 116/189 [00:04<00:03, 23.73it/s]"
     ]
    },
    {
     "name": "stdout",
     "output_type": "stream",
     "text": [
      "0\n"
     ]
    },
    {
     "name": "stderr",
     "output_type": "stream",
     "text": [
      " 69%|██████▉   | 131/189 [00:05<00:02, 23.68it/s]"
     ]
    },
    {
     "name": "stdout",
     "output_type": "stream",
     "text": [
      "0\n"
     ]
    },
    {
     "name": "stderr",
     "output_type": "stream",
     "text": [
      " 71%|███████   | 134/189 [00:05<00:02, 23.84it/s]"
     ]
    },
    {
     "name": "stdout",
     "output_type": "stream",
     "text": [
      "0\n"
     ]
    },
    {
     "name": "stderr",
     "output_type": "stream",
     "text": [
      " 77%|███████▋  | 146/189 [00:05<00:01, 24.82it/s]"
     ]
    },
    {
     "name": "stdout",
     "output_type": "stream",
     "text": [
      "0\n"
     ]
    },
    {
     "name": "stderr",
     "output_type": "stream",
     "text": [
      " 79%|███████▉  | 149/189 [00:05<00:01, 25.97it/s]"
     ]
    },
    {
     "name": "stdout",
     "output_type": "stream",
     "text": [
      "0\n",
      "0\n"
     ]
    },
    {
     "name": "stderr",
     "output_type": "stream",
     "text": [
      " 82%|████████▏ | 155/189 [00:06<00:01, 27.44it/s]"
     ]
    },
    {
     "name": "stdout",
     "output_type": "stream",
     "text": [
      "0\n"
     ]
    },
    {
     "name": "stderr",
     "output_type": "stream",
     "text": [
      " 84%|████████▎ | 158/189 [00:06<00:01, 27.80it/s]"
     ]
    },
    {
     "name": "stdout",
     "output_type": "stream",
     "text": [
      "0\n"
     ]
    },
    {
     "name": "stderr",
     "output_type": "stream",
     "text": [
      " 85%|████████▌ | 161/189 [00:06<00:00, 28.08it/s]"
     ]
    },
    {
     "name": "stdout",
     "output_type": "stream",
     "text": [
      "0\n",
      "0\n"
     ]
    },
    {
     "name": "stderr",
     "output_type": "stream",
     "text": [
      " 87%|████████▋ | 164/189 [00:06<00:00, 27.99it/s]"
     ]
    },
    {
     "name": "stdout",
     "output_type": "stream",
     "text": [
      "0\n",
      "0\n"
     ]
    },
    {
     "name": "stderr",
     "output_type": "stream",
     "text": [
      " 88%|████████▊ | 167/189 [00:06<00:00, 28.13it/s]"
     ]
    },
    {
     "name": "stdout",
     "output_type": "stream",
     "text": [
      "0\n",
      "0\n"
     ]
    },
    {
     "name": "stderr",
     "output_type": "stream",
     "text": [
      "100%|██████████| 189/189 [00:07<00:00, 25.76it/s]\n"
     ]
    },
    {
     "name": "stdout",
     "output_type": "stream",
     "text": [
      "TEST: 0.0080 0.0106 0.0080 5.2859 | 2.9698 0.0119 2.9698 | 0.0079 62.2676 | Time: 7.3417\n",
      "\n",
      "2024-07-23 13:32:19\n",
      "RMSE Mean: 0.09012205203816014 Median: 0.08152389049971452 Cor 0.9133595491189858\n",
      "len_error 0.009193683131575153\n",
      "-8.0\n",
      "========================================\n",
      "General Configuration:\n",
      "\tMode: test\n",
      "\tWighting: EW\n",
      "\tArchitecture: HPS\n",
      "\tRep_Grad: False\n",
      "\tMulti_Input: False\n",
      "\tSeed: 777\n",
      "\tSave Path: /home/zhangyuanyuan/radarODE_plus_MTL/Model_saved/\n",
      "\tLoad Path: /home/zhangyuanyuan/radarODE_plus_MTL/Model_saved/step/best_UW.pt\n",
      "\tDevice: cuda:5\n",
      "Optimizer Configuration:\n",
      "\toptim: adam\n",
      "\tlr: 0.0001\n",
      "\tweight_decay: 1e-05\n",
      "Load Model from - /home/zhangyuanyuan/radarODE_plus_MTL/Model_saved/step/best_UW.pt\n",
      "========================================\n",
      "Total Params: 37712961\n",
      "Trainable Params: 37712961\n",
      "Non-trainable Params: 0\n",
      "========================================\n",
      "LOG FORMAT | ECG_shape_LOSS MSE CE norm_MSE | PPI_LOSS CE PPI_sec | Anchor_LOSS mse | TIME\n"
     ]
    },
    {
     "name": "stderr",
     "output_type": "stream",
     "text": [
      "  0%|          | 0/189 [00:00<?, ?it/s]"
     ]
    },
    {
     "name": "stdout",
     "output_type": "stream",
     "text": [
      "0\n",
      "0\n",
      "0\n"
     ]
    },
    {
     "name": "stderr",
     "output_type": "stream",
     "text": [
      "  3%|▎         | 5/189 [00:00<00:08, 22.62it/s]"
     ]
    },
    {
     "name": "stdout",
     "output_type": "stream",
     "text": [
      "0\n",
      "0\n"
     ]
    },
    {
     "name": "stderr",
     "output_type": "stream",
     "text": [
      "  4%|▍         | 8/189 [00:00<00:07, 24.74it/s]"
     ]
    },
    {
     "name": "stdout",
     "output_type": "stream",
     "text": [
      "0\n"
     ]
    },
    {
     "name": "stderr",
     "output_type": "stream",
     "text": [
      "  6%|▌         | 11/189 [00:00<00:06, 26.27it/s]"
     ]
    },
    {
     "name": "stdout",
     "output_type": "stream",
     "text": [
      "0\n"
     ]
    },
    {
     "name": "stderr",
     "output_type": "stream",
     "text": [
      "  8%|▊         | 15/189 [00:00<00:06, 28.09it/s]"
     ]
    },
    {
     "name": "stdout",
     "output_type": "stream",
     "text": [
      "0\n",
      "0\n"
     ]
    },
    {
     "name": "stderr",
     "output_type": "stream",
     "text": [
      " 10%|▉         | 18/189 [00:00<00:06, 28.03it/s]"
     ]
    },
    {
     "name": "stdout",
     "output_type": "stream",
     "text": [
      "0\n"
     ]
    },
    {
     "name": "stderr",
     "output_type": "stream",
     "text": [
      " 11%|█         | 21/189 [00:00<00:05, 28.22it/s]"
     ]
    },
    {
     "name": "stdout",
     "output_type": "stream",
     "text": [
      "0\n"
     ]
    },
    {
     "name": "stderr",
     "output_type": "stream",
     "text": [
      " 17%|█▋        | 33/189 [00:01<00:05, 27.75it/s]"
     ]
    },
    {
     "name": "stdout",
     "output_type": "stream",
     "text": [
      "0\n",
      "0\n"
     ]
    },
    {
     "name": "stderr",
     "output_type": "stream",
     "text": [
      " 19%|█▉        | 36/189 [00:01<00:05, 28.15it/s]"
     ]
    },
    {
     "name": "stdout",
     "output_type": "stream",
     "text": [
      "0\n"
     ]
    },
    {
     "name": "stderr",
     "output_type": "stream",
     "text": [
      " 27%|██▋       | 51/189 [00:01<00:04, 32.26it/s]"
     ]
    },
    {
     "name": "stdout",
     "output_type": "stream",
     "text": [
      "0\n"
     ]
    },
    {
     "name": "stderr",
     "output_type": "stream",
     "text": [
      " 29%|██▉       | 55/189 [00:01<00:04, 32.78it/s]"
     ]
    },
    {
     "name": "stdout",
     "output_type": "stream",
     "text": [
      "0\n"
     ]
    },
    {
     "name": "stderr",
     "output_type": "stream",
     "text": [
      " 31%|███       | 59/189 [00:02<00:04, 31.53it/s]"
     ]
    },
    {
     "name": "stdout",
     "output_type": "stream",
     "text": [
      "0\n"
     ]
    },
    {
     "name": "stderr",
     "output_type": "stream",
     "text": [
      " 39%|███▉      | 74/189 [00:02<00:03, 29.70it/s]"
     ]
    },
    {
     "name": "stdout",
     "output_type": "stream",
     "text": [
      "0\n"
     ]
    },
    {
     "name": "stderr",
     "output_type": "stream",
     "text": [
      " 47%|████▋     | 89/189 [00:03<00:03, 29.32it/s]"
     ]
    },
    {
     "name": "stdout",
     "output_type": "stream",
     "text": [
      "0\n",
      "0\n",
      "0\n"
     ]
    },
    {
     "name": "stderr",
     "output_type": "stream",
     "text": [
      " 50%|█████     | 95/189 [00:03<00:03, 29.39it/s]"
     ]
    },
    {
     "name": "stdout",
     "output_type": "stream",
     "text": [
      "0\n"
     ]
    },
    {
     "name": "stderr",
     "output_type": "stream",
     "text": [
      " 55%|█████▌    | 104/189 [00:03<00:02, 29.25it/s]"
     ]
    },
    {
     "name": "stdout",
     "output_type": "stream",
     "text": [
      "0\n"
     ]
    },
    {
     "name": "stderr",
     "output_type": "stream",
     "text": [
      " 57%|█████▋    | 107/189 [00:03<00:02, 29.28it/s]"
     ]
    },
    {
     "name": "stdout",
     "output_type": "stream",
     "text": [
      "0\n"
     ]
    },
    {
     "name": "stderr",
     "output_type": "stream",
     "text": [
      " 58%|█████▊    | 110/189 [00:03<00:02, 29.38it/s]"
     ]
    },
    {
     "name": "stdout",
     "output_type": "stream",
     "text": [
      "0\n"
     ]
    },
    {
     "name": "stderr",
     "output_type": "stream",
     "text": [
      " 63%|██████▎   | 119/189 [00:04<00:02, 29.45it/s]"
     ]
    },
    {
     "name": "stdout",
     "output_type": "stream",
     "text": [
      "0\n"
     ]
    },
    {
     "name": "stderr",
     "output_type": "stream",
     "text": [
      " 66%|██████▌   | 125/189 [00:04<00:02, 29.50it/s]"
     ]
    },
    {
     "name": "stdout",
     "output_type": "stream",
     "text": [
      "0\n"
     ]
    },
    {
     "name": "stderr",
     "output_type": "stream",
     "text": [
      " 68%|██████▊   | 128/189 [00:04<00:02, 29.37it/s]"
     ]
    },
    {
     "name": "stdout",
     "output_type": "stream",
     "text": [
      "0\n"
     ]
    },
    {
     "name": "stderr",
     "output_type": "stream",
     "text": [
      " 72%|███████▏  | 137/189 [00:04<00:01, 28.94it/s]"
     ]
    },
    {
     "name": "stdout",
     "output_type": "stream",
     "text": [
      "0\n"
     ]
    },
    {
     "name": "stderr",
     "output_type": "stream",
     "text": [
      " 74%|███████▍  | 140/189 [00:04<00:01, 28.95it/s]"
     ]
    },
    {
     "name": "stdout",
     "output_type": "stream",
     "text": [
      "0\n"
     ]
    },
    {
     "name": "stderr",
     "output_type": "stream",
     "text": [
      " 79%|███████▉  | 149/189 [00:05<00:01, 28.96it/s]"
     ]
    },
    {
     "name": "stdout",
     "output_type": "stream",
     "text": [
      "0\n",
      "0\n"
     ]
    },
    {
     "name": "stderr",
     "output_type": "stream",
     "text": [
      " 80%|████████  | 152/189 [00:05<00:01, 28.73it/s]"
     ]
    },
    {
     "name": "stdout",
     "output_type": "stream",
     "text": [
      "0\n"
     ]
    },
    {
     "name": "stderr",
     "output_type": "stream",
     "text": [
      " 87%|████████▋ | 164/189 [00:05<00:00, 28.58it/s]"
     ]
    },
    {
     "name": "stdout",
     "output_type": "stream",
     "text": [
      "0\n"
     ]
    },
    {
     "name": "stderr",
     "output_type": "stream",
     "text": [
      " 88%|████████▊ | 167/189 [00:05<00:00, 28.49it/s]"
     ]
    },
    {
     "name": "stdout",
     "output_type": "stream",
     "text": [
      "0\n",
      "0\n",
      "0\n"
     ]
    },
    {
     "name": "stderr",
     "output_type": "stream",
     "text": [
      "100%|██████████| 189/189 [00:06<00:00, 29.08it/s]\n"
     ]
    },
    {
     "name": "stdout",
     "output_type": "stream",
     "text": [
      "TEST: 0.0092 0.0121 0.0092 5.2870 | 2.7304 0.0142 2.7304 | 0.0063 61.9147 | Time: 6.5048\n",
      "\n",
      "2024-07-23 13:32:29\n",
      "RMSE Mean: 0.09002221836200144 Median: 0.08164959371650035 Cor 0.8963279393281425\n",
      "len_error 0.010459040796915097\n",
      "0.0\n",
      "========================================\n",
      "General Configuration:\n",
      "\tMode: test\n",
      "\tWighting: EW\n",
      "\tArchitecture: HPS\n",
      "\tRep_Grad: False\n",
      "\tMulti_Input: False\n",
      "\tSeed: 777\n",
      "\tSave Path: /home/zhangyuanyuan/radarODE_plus_MTL/Model_saved/\n",
      "\tLoad Path: /home/zhangyuanyuan/radarODE_plus_MTL/Model_saved/step/best_UW.pt\n",
      "\tDevice: cuda:5\n",
      "Optimizer Configuration:\n",
      "\toptim: adam\n",
      "\tlr: 0.0001\n",
      "\tweight_decay: 1e-05\n",
      "Load Model from - /home/zhangyuanyuan/radarODE_plus_MTL/Model_saved/step/best_UW.pt\n",
      "========================================\n",
      "Total Params: 37712961\n",
      "Trainable Params: 37712961\n",
      "Non-trainable Params: 0\n",
      "========================================\n",
      "LOG FORMAT | ECG_shape_LOSS MSE CE norm_MSE | PPI_LOSS CE PPI_sec | Anchor_LOSS mse | TIME\n"
     ]
    },
    {
     "name": "stderr",
     "output_type": "stream",
     "text": [
      "  0%|          | 0/196 [00:00<?, ?it/s]"
     ]
    },
    {
     "name": "stdout",
     "output_type": "stream",
     "text": [
      "0\n",
      "0\n",
      "0\n",
      "00\n",
      "\n"
     ]
    },
    {
     "name": "stderr",
     "output_type": "stream",
     "text": [
      "  1%|          | 1/196 [00:00<00:21,  9.11it/s]"
     ]
    },
    {
     "name": "stdout",
     "output_type": "stream",
     "text": [
      "0\n"
     ]
    },
    {
     "name": "stderr",
     "output_type": "stream",
     "text": [
      " 10%|▉         | 19/196 [00:00<00:06, 27.04it/s]"
     ]
    },
    {
     "name": "stdout",
     "output_type": "stream",
     "text": [
      "0\n"
     ]
    },
    {
     "name": "stderr",
     "output_type": "stream",
     "text": [
      " 11%|█         | 22/196 [00:00<00:06, 26.03it/s]"
     ]
    },
    {
     "name": "stdout",
     "output_type": "stream",
     "text": [
      "0\n"
     ]
    },
    {
     "name": "stderr",
     "output_type": "stream",
     "text": [
      " 13%|█▎        | 25/196 [00:00<00:06, 26.23it/s]"
     ]
    },
    {
     "name": "stdout",
     "output_type": "stream",
     "text": [
      "0\n"
     ]
    },
    {
     "name": "stderr",
     "output_type": "stream",
     "text": [
      " 22%|██▏       | 43/196 [00:01<00:05, 27.91it/s]"
     ]
    },
    {
     "name": "stdout",
     "output_type": "stream",
     "text": [
      "0\n"
     ]
    },
    {
     "name": "stderr",
     "output_type": "stream",
     "text": [
      " 28%|██▊       | 55/196 [00:02<00:05, 28.08it/s]"
     ]
    },
    {
     "name": "stdout",
     "output_type": "stream",
     "text": [
      "0\n",
      "0\n"
     ]
    },
    {
     "name": "stderr",
     "output_type": "stream",
     "text": [
      " 30%|██▉       | 58/196 [00:02<00:04, 28.23it/s]"
     ]
    },
    {
     "name": "stdout",
     "output_type": "stream",
     "text": [
      "0\n"
     ]
    },
    {
     "name": "stderr",
     "output_type": "stream",
     "text": [
      " 38%|███▊      | 74/196 [00:02<00:04, 29.86it/s]"
     ]
    },
    {
     "name": "stdout",
     "output_type": "stream",
     "text": [
      "0\n",
      "0\n"
     ]
    },
    {
     "name": "stderr",
     "output_type": "stream",
     "text": [
      " 42%|████▏     | 82/196 [00:02<00:03, 32.98it/s]"
     ]
    },
    {
     "name": "stdout",
     "output_type": "stream",
     "text": [
      "0\n",
      "0\n"
     ]
    },
    {
     "name": "stderr",
     "output_type": "stream",
     "text": [
      " 44%|████▍     | 86/196 [00:03<00:03, 33.69it/s]"
     ]
    },
    {
     "name": "stdout",
     "output_type": "stream",
     "text": [
      "0\n"
     ]
    },
    {
     "name": "stderr",
     "output_type": "stream",
     "text": [
      " 48%|████▊     | 94/196 [00:03<00:03, 32.98it/s]"
     ]
    },
    {
     "name": "stdout",
     "output_type": "stream",
     "text": [
      "0\n",
      "0\n"
     ]
    },
    {
     "name": "stderr",
     "output_type": "stream",
     "text": [
      " 50%|█████     | 98/196 [00:03<00:03, 30.04it/s]"
     ]
    },
    {
     "name": "stdout",
     "output_type": "stream",
     "text": [
      "0\n"
     ]
    },
    {
     "name": "stderr",
     "output_type": "stream",
     "text": [
      " 54%|█████▎    | 105/196 [00:03<00:03, 27.23it/s]"
     ]
    },
    {
     "name": "stdout",
     "output_type": "stream",
     "text": [
      "0\n"
     ]
    },
    {
     "name": "stderr",
     "output_type": "stream",
     "text": [
      " 60%|██████    | 118/196 [00:04<00:03, 23.77it/s]"
     ]
    },
    {
     "name": "stdout",
     "output_type": "stream",
     "text": [
      "0\n"
     ]
    },
    {
     "name": "stderr",
     "output_type": "stream",
     "text": [
      " 63%|██████▎   | 124/196 [00:04<00:03, 22.70it/s]"
     ]
    },
    {
     "name": "stdout",
     "output_type": "stream",
     "text": [
      "0\n",
      "0\n"
     ]
    },
    {
     "name": "stderr",
     "output_type": "stream",
     "text": [
      " 65%|██████▍   | 127/196 [00:04<00:02, 24.18it/s]"
     ]
    },
    {
     "name": "stdout",
     "output_type": "stream",
     "text": [
      "0\n"
     ]
    },
    {
     "name": "stderr",
     "output_type": "stream",
     "text": [
      " 68%|██████▊   | 133/196 [00:04<00:02, 26.21it/s]"
     ]
    },
    {
     "name": "stdout",
     "output_type": "stream",
     "text": [
      "0\n",
      "0\n"
     ]
    },
    {
     "name": "stderr",
     "output_type": "stream",
     "text": [
      " 69%|██████▉   | 136/196 [00:04<00:02, 27.14it/s]"
     ]
    },
    {
     "name": "stdout",
     "output_type": "stream",
     "text": [
      "0\n"
     ]
    },
    {
     "name": "stderr",
     "output_type": "stream",
     "text": [
      " 71%|███████   | 139/196 [00:05<00:02, 27.26it/s]"
     ]
    },
    {
     "name": "stdout",
     "output_type": "stream",
     "text": [
      "0\n"
     ]
    },
    {
     "name": "stderr",
     "output_type": "stream",
     "text": [
      " 72%|███████▏  | 142/196 [00:05<00:01, 27.29it/s]"
     ]
    },
    {
     "name": "stdout",
     "output_type": "stream",
     "text": [
      "0\n"
     ]
    },
    {
     "name": "stderr",
     "output_type": "stream",
     "text": [
      " 74%|███████▍  | 145/196 [00:05<00:01, 27.26it/s]"
     ]
    },
    {
     "name": "stdout",
     "output_type": "stream",
     "text": [
      "0\n"
     ]
    },
    {
     "name": "stderr",
     "output_type": "stream",
     "text": [
      " 77%|███████▋  | 151/196 [00:05<00:01, 28.12it/s]"
     ]
    },
    {
     "name": "stdout",
     "output_type": "stream",
     "text": [
      "0\n"
     ]
    },
    {
     "name": "stderr",
     "output_type": "stream",
     "text": [
      " 79%|███████▊  | 154/196 [00:05<00:01, 28.29it/s]"
     ]
    },
    {
     "name": "stdout",
     "output_type": "stream",
     "text": [
      "0\n"
     ]
    },
    {
     "name": "stderr",
     "output_type": "stream",
     "text": [
      " 82%|████████▏ | 160/196 [00:05<00:01, 28.50it/s]"
     ]
    },
    {
     "name": "stdout",
     "output_type": "stream",
     "text": [
      "0\n"
     ]
    },
    {
     "name": "stderr",
     "output_type": "stream",
     "text": [
      " 86%|████████▌ | 169/196 [00:06<00:00, 28.87it/s]"
     ]
    },
    {
     "name": "stdout",
     "output_type": "stream",
     "text": [
      "0\n"
     ]
    },
    {
     "name": "stderr",
     "output_type": "stream",
     "text": [
      " 88%|████████▊ | 172/196 [00:06<00:00, 28.95it/s]"
     ]
    },
    {
     "name": "stdout",
     "output_type": "stream",
     "text": [
      "0\n"
     ]
    },
    {
     "name": "stderr",
     "output_type": "stream",
     "text": [
      " 89%|████████▉ | 175/196 [00:06<00:00, 28.93it/s]"
     ]
    },
    {
     "name": "stdout",
     "output_type": "stream",
     "text": [
      "0\n"
     ]
    },
    {
     "name": "stderr",
     "output_type": "stream",
     "text": [
      " 91%|█████████ | 178/196 [00:06<00:00, 28.96it/s]"
     ]
    },
    {
     "name": "stdout",
     "output_type": "stream",
     "text": [
      "0\n"
     ]
    },
    {
     "name": "stderr",
     "output_type": "stream",
     "text": [
      "100%|██████████| 196/196 [00:07<00:00, 27.85it/s]\n"
     ]
    },
    {
     "name": "stdout",
     "output_type": "stream",
     "text": [
      "TEST: 0.0180 0.0208 0.0180 5.2924 | 3.1045 0.0132 3.1045 | 0.0069 61.9548 | Time: 7.0429\n",
      "\n",
      "2024-07-23 13:32:40\n",
      "RMSE Mean: 0.12536875961790067 Median: 0.125253963412955 Cor 0.7556028414243233\n",
      "len_error 0.01682745569912821\n",
      "4.0\n",
      "========================================\n",
      "General Configuration:\n",
      "\tMode: test\n",
      "\tWighting: EW\n",
      "\tArchitecture: HPS\n",
      "\tRep_Grad: False\n",
      "\tMulti_Input: False\n",
      "\tSeed: 777\n",
      "\tSave Path: /home/zhangyuanyuan/radarODE_plus_MTL/Model_saved/\n",
      "\tLoad Path: /home/zhangyuanyuan/radarODE_plus_MTL/Model_saved/step/best_UW.pt\n",
      "\tDevice: cuda:5\n",
      "Optimizer Configuration:\n",
      "\toptim: adam\n",
      "\tlr: 0.0001\n",
      "\tweight_decay: 1e-05\n",
      "Load Model from - /home/zhangyuanyuan/radarODE_plus_MTL/Model_saved/step/best_UW.pt\n",
      "========================================\n",
      "Total Params: 37712961\n",
      "Trainable Params: 37712961\n",
      "Non-trainable Params: 0\n",
      "========================================\n",
      "LOG FORMAT | ECG_shape_LOSS MSE CE norm_MSE | PPI_LOSS CE PPI_sec | Anchor_LOSS mse | TIME\n",
      "0\n"
     ]
    },
    {
     "name": "stderr",
     "output_type": "stream",
     "text": [
      "  0%|          | 0/223 [00:00<?, ?it/s]"
     ]
    },
    {
     "name": "stdout",
     "output_type": "stream",
     "text": [
      "0\n"
     ]
    },
    {
     "name": "stderr",
     "output_type": "stream",
     "text": [
      "  1%|          | 2/223 [00:00<00:13, 16.81it/s]"
     ]
    },
    {
     "name": "stdout",
     "output_type": "stream",
     "text": [
      "0\n",
      "0\n"
     ]
    },
    {
     "name": "stderr",
     "output_type": "stream",
     "text": [
      "  5%|▍         | 11/223 [00:00<00:08, 26.33it/s]"
     ]
    },
    {
     "name": "stdout",
     "output_type": "stream",
     "text": [
      "0\n"
     ]
    },
    {
     "name": "stderr",
     "output_type": "stream",
     "text": [
      "  6%|▋         | 14/223 [00:00<00:07, 26.89it/s]"
     ]
    },
    {
     "name": "stdout",
     "output_type": "stream",
     "text": [
      "0\n"
     ]
    },
    {
     "name": "stderr",
     "output_type": "stream",
     "text": [
      "  9%|▉         | 20/223 [00:00<00:07, 27.31it/s]"
     ]
    },
    {
     "name": "stdout",
     "output_type": "stream",
     "text": [
      "0\n",
      "0\n"
     ]
    },
    {
     "name": "stderr",
     "output_type": "stream",
     "text": [
      " 10%|█         | 23/223 [00:00<00:07, 27.79it/s]"
     ]
    },
    {
     "name": "stdout",
     "output_type": "stream",
     "text": [
      "0\n"
     ]
    },
    {
     "name": "stderr",
     "output_type": "stream",
     "text": [
      " 14%|█▍        | 32/223 [00:01<00:06, 28.40it/s]"
     ]
    },
    {
     "name": "stdout",
     "output_type": "stream",
     "text": [
      "0\n",
      "0\n"
     ]
    },
    {
     "name": "stderr",
     "output_type": "stream",
     "text": [
      " 16%|█▌        | 35/223 [00:01<00:06, 26.93it/s]"
     ]
    },
    {
     "name": "stdout",
     "output_type": "stream",
     "text": [
      "0\n"
     ]
    },
    {
     "name": "stderr",
     "output_type": "stream",
     "text": [
      " 17%|█▋        | 38/223 [00:01<00:07, 26.02it/s]"
     ]
    },
    {
     "name": "stdout",
     "output_type": "stream",
     "text": [
      "0\n"
     ]
    },
    {
     "name": "stderr",
     "output_type": "stream",
     "text": [
      " 18%|█▊        | 41/223 [00:01<00:07, 25.37it/s]"
     ]
    },
    {
     "name": "stdout",
     "output_type": "stream",
     "text": [
      "0\n"
     ]
    },
    {
     "name": "stderr",
     "output_type": "stream",
     "text": [
      " 21%|██        | 47/223 [00:01<00:06, 26.80it/s]"
     ]
    },
    {
     "name": "stdout",
     "output_type": "stream",
     "text": [
      "0\n"
     ]
    },
    {
     "name": "stderr",
     "output_type": "stream",
     "text": [
      " 22%|██▏       | 50/223 [00:01<00:06, 27.39it/s]"
     ]
    },
    {
     "name": "stdout",
     "output_type": "stream",
     "text": [
      "0\n"
     ]
    },
    {
     "name": "stderr",
     "output_type": "stream",
     "text": [
      " 24%|██▍       | 53/223 [00:01<00:06, 27.81it/s]"
     ]
    },
    {
     "name": "stdout",
     "output_type": "stream",
     "text": [
      "0\n"
     ]
    },
    {
     "name": "stderr",
     "output_type": "stream",
     "text": [
      " 25%|██▌       | 56/223 [00:02<00:05, 28.08it/s]"
     ]
    },
    {
     "name": "stdout",
     "output_type": "stream",
     "text": [
      "0\n"
     ]
    },
    {
     "name": "stderr",
     "output_type": "stream",
     "text": [
      " 26%|██▋       | 59/223 [00:02<00:05, 27.81it/s]"
     ]
    },
    {
     "name": "stdout",
     "output_type": "stream",
     "text": [
      "0\n"
     ]
    },
    {
     "name": "stderr",
     "output_type": "stream",
     "text": [
      " 28%|██▊       | 62/223 [00:02<00:05, 28.10it/s]"
     ]
    },
    {
     "name": "stdout",
     "output_type": "stream",
     "text": [
      "0\n"
     ]
    },
    {
     "name": "stderr",
     "output_type": "stream",
     "text": [
      " 32%|███▏      | 71/223 [00:02<00:05, 28.21it/s]"
     ]
    },
    {
     "name": "stdout",
     "output_type": "stream",
     "text": [
      "0\n"
     ]
    },
    {
     "name": "stderr",
     "output_type": "stream",
     "text": [
      " 35%|███▍      | 77/223 [00:02<00:05, 28.40it/s]"
     ]
    },
    {
     "name": "stdout",
     "output_type": "stream",
     "text": [
      "0\n",
      "0\n"
     ]
    },
    {
     "name": "stderr",
     "output_type": "stream",
     "text": [
      " 37%|███▋      | 83/223 [00:03<00:04, 28.42it/s]"
     ]
    },
    {
     "name": "stdout",
     "output_type": "stream",
     "text": [
      "0\n"
     ]
    },
    {
     "name": "stderr",
     "output_type": "stream",
     "text": [
      " 42%|████▏     | 93/223 [00:03<00:04, 29.51it/s]"
     ]
    },
    {
     "name": "stdout",
     "output_type": "stream",
     "text": [
      "0\n"
     ]
    },
    {
     "name": "stderr",
     "output_type": "stream",
     "text": [
      " 47%|████▋     | 105/223 [00:03<00:04, 28.59it/s]"
     ]
    },
    {
     "name": "stdout",
     "output_type": "stream",
     "text": [
      "0\n"
     ]
    },
    {
     "name": "stderr",
     "output_type": "stream",
     "text": [
      " 48%|████▊     | 108/223 [00:03<00:03, 28.78it/s]"
     ]
    },
    {
     "name": "stdout",
     "output_type": "stream",
     "text": [
      "0\n"
     ]
    },
    {
     "name": "stderr",
     "output_type": "stream",
     "text": [
      " 50%|████▉     | 111/223 [00:04<00:03, 28.91it/s]"
     ]
    },
    {
     "name": "stdout",
     "output_type": "stream",
     "text": [
      "0\n"
     ]
    },
    {
     "name": "stderr",
     "output_type": "stream",
     "text": [
      " 51%|█████     | 114/223 [00:04<00:03, 29.02it/s]"
     ]
    },
    {
     "name": "stdout",
     "output_type": "stream",
     "text": [
      "0\n",
      "0\n"
     ]
    },
    {
     "name": "stderr",
     "output_type": "stream",
     "text": [
      " 54%|█████▍    | 120/223 [00:04<00:03, 29.31it/s]"
     ]
    },
    {
     "name": "stdout",
     "output_type": "stream",
     "text": [
      "0\n",
      "0\n"
     ]
    },
    {
     "name": "stderr",
     "output_type": "stream",
     "text": [
      " 65%|██████▍   | 144/223 [00:05<00:02, 29.22it/s]"
     ]
    },
    {
     "name": "stdout",
     "output_type": "stream",
     "text": [
      "0\n",
      "0\n"
     ]
    },
    {
     "name": "stderr",
     "output_type": "stream",
     "text": [
      " 66%|██████▌   | 147/223 [00:05<00:02, 28.10it/s]"
     ]
    },
    {
     "name": "stdout",
     "output_type": "stream",
     "text": [
      "0\n"
     ]
    },
    {
     "name": "stderr",
     "output_type": "stream",
     "text": [
      " 67%|██████▋   | 150/223 [00:05<00:02, 26.24it/s]"
     ]
    },
    {
     "name": "stdout",
     "output_type": "stream",
     "text": [
      "0\n"
     ]
    },
    {
     "name": "stderr",
     "output_type": "stream",
     "text": [
      " 69%|██████▊   | 153/223 [00:05<00:02, 26.37it/s]"
     ]
    },
    {
     "name": "stdout",
     "output_type": "stream",
     "text": [
      "0\n"
     ]
    },
    {
     "name": "stderr",
     "output_type": "stream",
     "text": [
      " 72%|███████▏  | 160/223 [00:05<00:02, 28.15it/s]"
     ]
    },
    {
     "name": "stdout",
     "output_type": "stream",
     "text": [
      "0\n"
     ]
    },
    {
     "name": "stderr",
     "output_type": "stream",
     "text": [
      " 74%|███████▍  | 166/223 [00:05<00:02, 28.06it/s]"
     ]
    },
    {
     "name": "stdout",
     "output_type": "stream",
     "text": [
      "0\n"
     ]
    },
    {
     "name": "stderr",
     "output_type": "stream",
     "text": [
      " 78%|███████▊  | 175/223 [00:06<00:01, 28.50it/s]"
     ]
    },
    {
     "name": "stdout",
     "output_type": "stream",
     "text": [
      "0\n"
     ]
    },
    {
     "name": "stderr",
     "output_type": "stream",
     "text": [
      " 80%|███████▉  | 178/223 [00:06<00:01, 28.66it/s]"
     ]
    },
    {
     "name": "stdout",
     "output_type": "stream",
     "text": [
      "0\n"
     ]
    },
    {
     "name": "stderr",
     "output_type": "stream",
     "text": [
      " 84%|████████▍ | 188/223 [00:06<00:01, 30.30it/s]"
     ]
    },
    {
     "name": "stdout",
     "output_type": "stream",
     "text": [
      "0\n"
     ]
    },
    {
     "name": "stderr",
     "output_type": "stream",
     "text": [
      " 88%|████████▊ | 196/223 [00:06<00:00, 29.73it/s]"
     ]
    },
    {
     "name": "stdout",
     "output_type": "stream",
     "text": [
      "0\n"
     ]
    },
    {
     "name": "stderr",
     "output_type": "stream",
     "text": [
      " 90%|████████▉ | 200/223 [00:07<00:00, 30.89it/s]"
     ]
    },
    {
     "name": "stdout",
     "output_type": "stream",
     "text": [
      "0\n"
     ]
    },
    {
     "name": "stderr",
     "output_type": "stream",
     "text": [
      "100%|██████████| 223/223 [00:07<00:00, 28.39it/s]\n"
     ]
    },
    {
     "name": "stdout",
     "output_type": "stream",
     "text": [
      "TEST: 0.0146 0.0180 0.0146 5.2880 | 2.6722 0.0136 2.6722 | 0.0071 62.2669 | Time: 7.8620\n",
      "\n",
      "2024-07-23 13:32:51\n",
      "RMSE Mean: 0.12035271159637141 Median: 0.11396650188388506 Cor 0.7851123749510246\n",
      "len_error 0.021016756074010073\n",
      "-6.0\n",
      "========================================\n",
      "General Configuration:\n",
      "\tMode: test\n",
      "\tWighting: EW\n",
      "\tArchitecture: HPS\n",
      "\tRep_Grad: False\n",
      "\tMulti_Input: False\n",
      "\tSeed: 777\n",
      "\tSave Path: /home/zhangyuanyuan/radarODE_plus_MTL/Model_saved/\n",
      "\tLoad Path: /home/zhangyuanyuan/radarODE_plus_MTL/Model_saved/step/best_UW.pt\n",
      "\tDevice: cuda:5\n",
      "Optimizer Configuration:\n",
      "\toptim: adam\n",
      "\tlr: 0.0001\n",
      "\tweight_decay: 1e-05\n",
      "Load Model from - /home/zhangyuanyuan/radarODE_plus_MTL/Model_saved/step/best_UW.pt\n",
      "========================================\n",
      "Total Params: 37712961\n",
      "Trainable Params: 37712961\n",
      "Non-trainable Params: 0\n",
      "========================================\n",
      "LOG FORMAT | ECG_shape_LOSS MSE CE norm_MSE | PPI_LOSS CE PPI_sec | Anchor_LOSS mse | TIME\n",
      "0"
     ]
    },
    {
     "name": "stderr",
     "output_type": "stream",
     "text": [
      "  0%|          | 0/208 [00:00<?, ?it/s]"
     ]
    },
    {
     "name": "stdout",
     "output_type": "stream",
     "text": [
      "\n"
     ]
    },
    {
     "name": "stderr",
     "output_type": "stream",
     "text": [
      "  2%|▏         | 5/208 [00:00<00:08, 23.75it/s]"
     ]
    },
    {
     "name": "stdout",
     "output_type": "stream",
     "text": [
      "0\n"
     ]
    },
    {
     "name": "stderr",
     "output_type": "stream",
     "text": [
      "  4%|▍         | 8/208 [00:00<00:07, 25.81it/s]"
     ]
    },
    {
     "name": "stdout",
     "output_type": "stream",
     "text": [
      "0\n",
      "0\n"
     ]
    },
    {
     "name": "stderr",
     "output_type": "stream",
     "text": [
      "  5%|▌         | 11/208 [00:00<00:07, 26.78it/s]"
     ]
    },
    {
     "name": "stdout",
     "output_type": "stream",
     "text": [
      "0\n",
      "0\n"
     ]
    },
    {
     "name": "stderr",
     "output_type": "stream",
     "text": [
      "  7%|▋         | 14/208 [00:00<00:07, 27.46it/s]"
     ]
    },
    {
     "name": "stdout",
     "output_type": "stream",
     "text": [
      "0\n"
     ]
    },
    {
     "name": "stderr",
     "output_type": "stream",
     "text": [
      "  8%|▊         | 17/208 [00:00<00:06, 27.98it/s]"
     ]
    },
    {
     "name": "stdout",
     "output_type": "stream",
     "text": [
      "0\n"
     ]
    },
    {
     "name": "stderr",
     "output_type": "stream",
     "text": [
      " 11%|█         | 23/208 [00:00<00:06, 27.87it/s]"
     ]
    },
    {
     "name": "stdout",
     "output_type": "stream",
     "text": [
      "0\n"
     ]
    },
    {
     "name": "stderr",
     "output_type": "stream",
     "text": [
      " 12%|█▎        | 26/208 [00:00<00:06, 27.76it/s]"
     ]
    },
    {
     "name": "stdout",
     "output_type": "stream",
     "text": [
      "0\n"
     ]
    },
    {
     "name": "stderr",
     "output_type": "stream",
     "text": [
      " 14%|█▍        | 29/208 [00:01<00:06, 27.86it/s]"
     ]
    },
    {
     "name": "stdout",
     "output_type": "stream",
     "text": [
      "0\n"
     ]
    },
    {
     "name": "stderr",
     "output_type": "stream",
     "text": [
      " 15%|█▌        | 32/208 [00:01<00:06, 27.66it/s]"
     ]
    },
    {
     "name": "stdout",
     "output_type": "stream",
     "text": [
      "0\n"
     ]
    },
    {
     "name": "stderr",
     "output_type": "stream",
     "text": [
      " 20%|█▉        | 41/208 [00:01<00:05, 28.34it/s]"
     ]
    },
    {
     "name": "stdout",
     "output_type": "stream",
     "text": [
      "0\n"
     ]
    },
    {
     "name": "stderr",
     "output_type": "stream",
     "text": [
      " 27%|██▋       | 56/208 [00:02<00:05, 28.03it/s]"
     ]
    },
    {
     "name": "stdout",
     "output_type": "stream",
     "text": [
      "0\n"
     ]
    },
    {
     "name": "stderr",
     "output_type": "stream",
     "text": [
      " 32%|███▏      | 66/208 [00:02<00:04, 28.94it/s]"
     ]
    },
    {
     "name": "stdout",
     "output_type": "stream",
     "text": [
      "0\n"
     ]
    },
    {
     "name": "stderr",
     "output_type": "stream",
     "text": [
      " 37%|███▋      | 76/208 [00:02<00:04, 28.30it/s]"
     ]
    },
    {
     "name": "stdout",
     "output_type": "stream",
     "text": [
      "0\n"
     ]
    },
    {
     "name": "stderr",
     "output_type": "stream",
     "text": [
      " 41%|████      | 85/208 [00:03<00:04, 26.56it/s]"
     ]
    },
    {
     "name": "stdout",
     "output_type": "stream",
     "text": [
      "0\n"
     ]
    },
    {
     "name": "stderr",
     "output_type": "stream",
     "text": [
      " 42%|████▏     | 88/208 [00:03<00:04, 27.03it/s]"
     ]
    },
    {
     "name": "stdout",
     "output_type": "stream",
     "text": [
      "0\n",
      "0\n"
     ]
    },
    {
     "name": "stderr",
     "output_type": "stream",
     "text": [
      " 48%|████▊     | 100/208 [00:03<00:03, 28.09it/s]"
     ]
    },
    {
     "name": "stdout",
     "output_type": "stream",
     "text": [
      "0\n",
      "0\n"
     ]
    },
    {
     "name": "stderr",
     "output_type": "stream",
     "text": [
      " 51%|█████     | 106/208 [00:03<00:03, 28.10it/s]"
     ]
    },
    {
     "name": "stdout",
     "output_type": "stream",
     "text": [
      "0\n"
     ]
    },
    {
     "name": "stderr",
     "output_type": "stream",
     "text": [
      " 54%|█████▍    | 113/208 [00:04<00:03, 29.07it/s]"
     ]
    },
    {
     "name": "stdout",
     "output_type": "stream",
     "text": [
      "0\n"
     ]
    },
    {
     "name": "stderr",
     "output_type": "stream",
     "text": [
      " 56%|█████▋    | 117/208 [00:04<00:03, 30.08it/s]"
     ]
    },
    {
     "name": "stdout",
     "output_type": "stream",
     "text": [
      "0\n"
     ]
    },
    {
     "name": "stderr",
     "output_type": "stream",
     "text": [
      " 58%|█████▊    | 121/208 [00:04<00:02, 30.68it/s]"
     ]
    },
    {
     "name": "stdout",
     "output_type": "stream",
     "text": [
      "0\n",
      "0\n"
     ]
    },
    {
     "name": "stderr",
     "output_type": "stream",
     "text": [
      " 60%|██████    | 125/208 [00:04<00:02, 30.12it/s]"
     ]
    },
    {
     "name": "stdout",
     "output_type": "stream",
     "text": [
      "0\n"
     ]
    },
    {
     "name": "stderr",
     "output_type": "stream",
     "text": [
      " 62%|██████▏   | 129/208 [00:04<00:02, 29.88it/s]"
     ]
    },
    {
     "name": "stdout",
     "output_type": "stream",
     "text": [
      "0\n",
      "0\n"
     ]
    },
    {
     "name": "stderr",
     "output_type": "stream",
     "text": [
      " 68%|██████▊   | 141/208 [00:04<00:01, 33.78it/s]"
     ]
    },
    {
     "name": "stdout",
     "output_type": "stream",
     "text": [
      "0\n"
     ]
    },
    {
     "name": "stderr",
     "output_type": "stream",
     "text": [
      " 72%|███████▏  | 149/208 [00:05<00:01, 29.67it/s]"
     ]
    },
    {
     "name": "stdout",
     "output_type": "stream",
     "text": [
      "0\n",
      "0\n"
     ]
    },
    {
     "name": "stderr",
     "output_type": "stream",
     "text": [
      " 75%|███████▌  | 156/208 [00:05<00:01, 29.04it/s]"
     ]
    },
    {
     "name": "stdout",
     "output_type": "stream",
     "text": [
      "0\n",
      "0\n"
     ]
    },
    {
     "name": "stderr",
     "output_type": "stream",
     "text": [
      " 76%|███████▋  | 159/208 [00:05<00:01, 28.90it/s]"
     ]
    },
    {
     "name": "stdout",
     "output_type": "stream",
     "text": [
      "0\n"
     ]
    },
    {
     "name": "stderr",
     "output_type": "stream",
     "text": [
      " 79%|███████▉  | 165/208 [00:05<00:01, 28.32it/s]"
     ]
    },
    {
     "name": "stdout",
     "output_type": "stream",
     "text": [
      "0\n"
     ]
    },
    {
     "name": "stderr",
     "output_type": "stream",
     "text": [
      " 81%|████████  | 168/208 [00:05<00:01, 28.54it/s]"
     ]
    },
    {
     "name": "stdout",
     "output_type": "stream",
     "text": [
      "0\n"
     ]
    },
    {
     "name": "stderr",
     "output_type": "stream",
     "text": [
      " 82%|████████▏ | 171/208 [00:05<00:01, 28.54it/s]"
     ]
    },
    {
     "name": "stdout",
     "output_type": "stream",
     "text": [
      "0\n"
     ]
    },
    {
     "name": "stderr",
     "output_type": "stream",
     "text": [
      " 86%|████████▌ | 178/208 [00:06<00:01, 29.06it/s]"
     ]
    },
    {
     "name": "stdout",
     "output_type": "stream",
     "text": [
      "0\n",
      "0\n"
     ]
    },
    {
     "name": "stderr",
     "output_type": "stream",
     "text": [
      " 88%|████████▊ | 184/208 [00:06<00:00, 28.96it/s]"
     ]
    },
    {
     "name": "stdout",
     "output_type": "stream",
     "text": [
      "0\n"
     ]
    },
    {
     "name": "stderr",
     "output_type": "stream",
     "text": [
      "100%|██████████| 208/208 [00:07<00:00, 28.69it/s]\n"
     ]
    },
    {
     "name": "stdout",
     "output_type": "stream",
     "text": [
      "TEST: 0.0194 0.0224 0.0194 5.2917 | 2.6149 0.0089 2.6149 | 0.0062 62.1401 | Time: 7.2595\n",
      "\n",
      "2024-07-23 13:33:02\n",
      "RMSE Mean: 0.13542223600603365 Median: 0.13047812659217267 Cor 0.7483483848233236\n",
      "len_error 0.01101790500817786\n",
      "2.75\n",
      "========================================\n",
      "General Configuration:\n",
      "\tMode: test\n",
      "\tWighting: EW\n",
      "\tArchitecture: HPS\n",
      "\tRep_Grad: False\n",
      "\tMulti_Input: False\n",
      "\tSeed: 777\n",
      "\tSave Path: /home/zhangyuanyuan/radarODE_plus_MTL/Model_saved/\n",
      "\tLoad Path: /home/zhangyuanyuan/radarODE_plus_MTL/Model_saved/step/best_UW.pt\n",
      "\tDevice: cuda:5\n",
      "Optimizer Configuration:\n",
      "\toptim: adam\n",
      "\tlr: 0.0001\n",
      "\tweight_decay: 1e-05\n",
      "Load Model from - /home/zhangyuanyuan/radarODE_plus_MTL/Model_saved/step/best_UW.pt\n",
      "========================================\n",
      "Total Params: 37712961\n",
      "Trainable Params: 37712961\n",
      "Non-trainable Params: 0\n",
      "========================================\n",
      "LOG FORMAT | ECG_shape_LOSS MSE CE norm_MSE | PPI_LOSS CE PPI_sec | Anchor_LOSS mse | TIME\n",
      "0\n"
     ]
    },
    {
     "name": "stderr",
     "output_type": "stream",
     "text": [
      "  0%|          | 0/193 [00:00<?, ?it/s]"
     ]
    },
    {
     "name": "stdout",
     "output_type": "stream",
     "text": [
      "0\n"
     ]
    },
    {
     "name": "stderr",
     "output_type": "stream",
     "text": [
      "  1%|          | 1/193 [00:00<00:19,  9.98it/s]"
     ]
    },
    {
     "name": "stdout",
     "output_type": "stream",
     "text": [
      "0\n"
     ]
    },
    {
     "name": "stderr",
     "output_type": "stream",
     "text": [
      "  2%|▏         | 4/193 [00:00<00:09, 20.51it/s]"
     ]
    },
    {
     "name": "stdout",
     "output_type": "stream",
     "text": [
      "0\n"
     ]
    },
    {
     "name": "stderr",
     "output_type": "stream",
     "text": [
      "  7%|▋         | 13/193 [00:00<00:06, 27.07it/s]"
     ]
    },
    {
     "name": "stdout",
     "output_type": "stream",
     "text": [
      "0\n",
      "0\n"
     ]
    },
    {
     "name": "stderr",
     "output_type": "stream",
     "text": [
      "  8%|▊         | 16/193 [00:00<00:06, 27.65it/s]"
     ]
    },
    {
     "name": "stdout",
     "output_type": "stream",
     "text": [
      "0\n"
     ]
    },
    {
     "name": "stderr",
     "output_type": "stream",
     "text": [
      " 10%|▉         | 19/193 [00:00<00:06, 28.04it/s]"
     ]
    },
    {
     "name": "stdout",
     "output_type": "stream",
     "text": [
      "0\n"
     ]
    },
    {
     "name": "stderr",
     "output_type": "stream",
     "text": [
      " 11%|█▏        | 22/193 [00:00<00:06, 28.24it/s]"
     ]
    },
    {
     "name": "stdout",
     "output_type": "stream",
     "text": [
      "0\n"
     ]
    },
    {
     "name": "stderr",
     "output_type": "stream",
     "text": [
      " 13%|█▎        | 25/193 [00:00<00:05, 28.47it/s]"
     ]
    },
    {
     "name": "stdout",
     "output_type": "stream",
     "text": [
      "0\n"
     ]
    },
    {
     "name": "stderr",
     "output_type": "stream",
     "text": [
      " 15%|█▍        | 28/193 [00:01<00:05, 28.44it/s]"
     ]
    },
    {
     "name": "stdout",
     "output_type": "stream",
     "text": [
      "0\n"
     ]
    },
    {
     "name": "stderr",
     "output_type": "stream",
     "text": [
      " 16%|█▌        | 31/193 [00:01<00:05, 28.44it/s]"
     ]
    },
    {
     "name": "stdout",
     "output_type": "stream",
     "text": [
      "0\n"
     ]
    },
    {
     "name": "stderr",
     "output_type": "stream",
     "text": [
      " 18%|█▊        | 34/193 [00:01<00:05, 28.51it/s]"
     ]
    },
    {
     "name": "stdout",
     "output_type": "stream",
     "text": [
      "0\n",
      "0\n"
     ]
    },
    {
     "name": "stderr",
     "output_type": "stream",
     "text": [
      " 23%|██▎       | 45/193 [00:01<00:04, 32.49it/s]"
     ]
    },
    {
     "name": "stdout",
     "output_type": "stream",
     "text": [
      "0\n"
     ]
    },
    {
     "name": "stderr",
     "output_type": "stream",
     "text": [
      " 25%|██▌       | 49/193 [00:01<00:04, 33.83it/s]"
     ]
    },
    {
     "name": "stdout",
     "output_type": "stream",
     "text": [
      "0\n"
     ]
    },
    {
     "name": "stderr",
     "output_type": "stream",
     "text": [
      " 27%|██▋       | 53/193 [00:01<00:04, 33.76it/s]"
     ]
    },
    {
     "name": "stdout",
     "output_type": "stream",
     "text": [
      "0\n",
      "0\n"
     ]
    },
    {
     "name": "stderr",
     "output_type": "stream",
     "text": [
      " 30%|██▉       | 57/193 [00:01<00:03, 34.68it/s]"
     ]
    },
    {
     "name": "stdout",
     "output_type": "stream",
     "text": [
      "0\n"
     ]
    },
    {
     "name": "stderr",
     "output_type": "stream",
     "text": [
      " 34%|███▎      | 65/193 [00:02<00:04, 31.86it/s]"
     ]
    },
    {
     "name": "stdout",
     "output_type": "stream",
     "text": [
      "0\n",
      "0\n"
     ]
    },
    {
     "name": "stderr",
     "output_type": "stream",
     "text": [
      " 36%|███▌      | 69/193 [00:02<00:04, 30.85it/s]"
     ]
    },
    {
     "name": "stdout",
     "output_type": "stream",
     "text": [
      "0\n"
     ]
    },
    {
     "name": "stderr",
     "output_type": "stream",
     "text": [
      " 38%|███▊      | 73/193 [00:02<00:03, 30.38it/s]"
     ]
    },
    {
     "name": "stdout",
     "output_type": "stream",
     "text": [
      "0\n"
     ]
    },
    {
     "name": "stderr",
     "output_type": "stream",
     "text": [
      " 46%|████▌     | 89/193 [00:02<00:03, 32.13it/s]"
     ]
    },
    {
     "name": "stdout",
     "output_type": "stream",
     "text": [
      "0\n",
      "0\n"
     ]
    },
    {
     "name": "stderr",
     "output_type": "stream",
     "text": [
      " 54%|█████▍    | 105/193 [00:03<00:02, 31.84it/s]"
     ]
    },
    {
     "name": "stdout",
     "output_type": "stream",
     "text": [
      "0\n"
     ]
    },
    {
     "name": "stderr",
     "output_type": "stream",
     "text": [
      " 56%|█████▋    | 109/193 [00:03<00:02, 32.43it/s]"
     ]
    },
    {
     "name": "stdout",
     "output_type": "stream",
     "text": [
      "0\n"
     ]
    },
    {
     "name": "stderr",
     "output_type": "stream",
     "text": [
      " 65%|██████▍   | 125/193 [00:04<00:02, 29.66it/s]"
     ]
    },
    {
     "name": "stdout",
     "output_type": "stream",
     "text": [
      "0\n",
      "0\n",
      "0\n"
     ]
    },
    {
     "name": "stderr",
     "output_type": "stream",
     "text": [
      " 66%|██████▋   | 128/193 [00:04<00:02, 29.46it/s]"
     ]
    },
    {
     "name": "stdout",
     "output_type": "stream",
     "text": [
      "0\n"
     ]
    },
    {
     "name": "stderr",
     "output_type": "stream",
     "text": [
      " 68%|██████▊   | 131/193 [00:04<00:02, 29.44it/s]"
     ]
    },
    {
     "name": "stdout",
     "output_type": "stream",
     "text": [
      "0\n"
     ]
    },
    {
     "name": "stderr",
     "output_type": "stream",
     "text": [
      " 79%|███████▉  | 152/193 [00:05<00:01, 26.37it/s]"
     ]
    },
    {
     "name": "stdout",
     "output_type": "stream",
     "text": [
      "0\n"
     ]
    },
    {
     "name": "stderr",
     "output_type": "stream",
     "text": [
      " 80%|████████  | 155/193 [00:05<00:01, 26.86it/s]"
     ]
    },
    {
     "name": "stdout",
     "output_type": "stream",
     "text": [
      "0\n"
     ]
    },
    {
     "name": "stderr",
     "output_type": "stream",
     "text": [
      " 82%|████████▏ | 158/193 [00:05<00:01, 27.24it/s]"
     ]
    },
    {
     "name": "stdout",
     "output_type": "stream",
     "text": [
      "0\n"
     ]
    },
    {
     "name": "stderr",
     "output_type": "stream",
     "text": [
      " 83%|████████▎ | 161/193 [00:05<00:01, 27.70it/s]"
     ]
    },
    {
     "name": "stdout",
     "output_type": "stream",
     "text": [
      "0\n"
     ]
    },
    {
     "name": "stderr",
     "output_type": "stream",
     "text": [
      " 85%|████████▍ | 164/193 [00:05<00:01, 28.11it/s]"
     ]
    },
    {
     "name": "stdout",
     "output_type": "stream",
     "text": [
      "0\n"
     ]
    },
    {
     "name": "stderr",
     "output_type": "stream",
     "text": [
      " 88%|████████▊ | 170/193 [00:05<00:00, 28.72it/s]"
     ]
    },
    {
     "name": "stdout",
     "output_type": "stream",
     "text": [
      "0\n"
     ]
    },
    {
     "name": "stderr",
     "output_type": "stream",
     "text": [
      "100%|██████████| 193/193 [00:06<00:00, 29.63it/s]\n"
     ]
    },
    {
     "name": "stdout",
     "output_type": "stream",
     "text": [
      "TEST: 0.0132 0.0162 0.0132 5.2851 | 3.1606 0.0131 3.1606 | 0.0060 62.0685 | Time: 6.5218\n",
      "\n",
      "2024-07-23 13:33:12\n",
      "RMSE Mean: 0.10894703532013861 Median: 0.09988523490356173 Cor 0.904205116236965\n",
      "len_error 0.013209158386701786\n",
      "1.0\n",
      "113\n",
      "========================================\n",
      "General Configuration:\n",
      "\tMode: test\n",
      "\tWighting: EW\n",
      "\tArchitecture: HPS\n",
      "\tRep_Grad: False\n",
      "\tMulti_Input: False\n",
      "\tSeed: 777\n",
      "\tSave Path: /home/zhangyuanyuan/radarODE_plus_MTL/Model_saved/\n",
      "\tLoad Path: /home/zhangyuanyuan/radarODE_plus_MTL/Model_saved/step/best_UW.pt\n",
      "\tDevice: cuda:5\n",
      "Optimizer Configuration:\n",
      "\toptim: adam\n",
      "\tlr: 0.0001\n",
      "\tweight_decay: 1e-05\n",
      "Load Model from - /home/zhangyuanyuan/radarODE_plus_MTL/Model_saved/step/best_UW.pt\n",
      "========================================\n",
      "Total Params: 37712961\n",
      "Trainable Params: 37712961\n",
      "Non-trainable Params: 0\n",
      "========================================\n",
      "LOG FORMAT | ECG_shape_LOSS MSE CE norm_MSE | PPI_LOSS CE PPI_sec | Anchor_LOSS mse | TIME\n",
      "0\n"
     ]
    },
    {
     "name": "stderr",
     "output_type": "stream",
     "text": [
      "  0%|          | 0/227 [00:00<?, ?it/s]"
     ]
    },
    {
     "name": "stdout",
     "output_type": "stream",
     "text": [
      "0\n"
     ]
    },
    {
     "name": "stderr",
     "output_type": "stream",
     "text": [
      "  4%|▍         | 9/227 [00:00<00:07, 27.94it/s]"
     ]
    },
    {
     "name": "stdout",
     "output_type": "stream",
     "text": [
      "0\n"
     ]
    },
    {
     "name": "stderr",
     "output_type": "stream",
     "text": [
      "  7%|▋         | 15/227 [00:00<00:08, 25.89it/s]"
     ]
    },
    {
     "name": "stdout",
     "output_type": "stream",
     "text": [
      "0\n",
      "0\n"
     ]
    },
    {
     "name": "stderr",
     "output_type": "stream",
     "text": [
      "  9%|▉         | 21/227 [00:00<00:08, 25.00it/s]"
     ]
    },
    {
     "name": "stdout",
     "output_type": "stream",
     "text": [
      "0\n"
     ]
    },
    {
     "name": "stderr",
     "output_type": "stream",
     "text": [
      " 11%|█         | 24/227 [00:00<00:08, 24.78it/s]"
     ]
    },
    {
     "name": "stdout",
     "output_type": "stream",
     "text": [
      "0\n"
     ]
    },
    {
     "name": "stderr",
     "output_type": "stream",
     "text": [
      " 13%|█▎        | 30/227 [00:01<00:08, 24.32it/s]"
     ]
    },
    {
     "name": "stdout",
     "output_type": "stream",
     "text": [
      "0\n",
      "0\n"
     ]
    },
    {
     "name": "stderr",
     "output_type": "stream",
     "text": [
      " 15%|█▍        | 33/227 [00:01<00:07, 24.62it/s]"
     ]
    },
    {
     "name": "stdout",
     "output_type": "stream",
     "text": [
      "0\n",
      "0\n",
      "0\n"
     ]
    },
    {
     "name": "stderr",
     "output_type": "stream",
     "text": [
      " 20%|█▉        | 45/227 [00:01<00:06, 26.36it/s]"
     ]
    },
    {
     "name": "stdout",
     "output_type": "stream",
     "text": [
      "0\n"
     ]
    },
    {
     "name": "stderr",
     "output_type": "stream",
     "text": [
      " 22%|██▏       | 49/227 [00:01<00:06, 29.04it/s]"
     ]
    },
    {
     "name": "stdout",
     "output_type": "stream",
     "text": [
      "0\n"
     ]
    },
    {
     "name": "stderr",
     "output_type": "stream",
     "text": [
      " 25%|██▌       | 57/227 [00:02<00:05, 32.70it/s]"
     ]
    },
    {
     "name": "stdout",
     "output_type": "stream",
     "text": [
      "0\n"
     ]
    },
    {
     "name": "stderr",
     "output_type": "stream",
     "text": [
      " 27%|██▋       | 61/227 [00:02<00:05, 32.56it/s]"
     ]
    },
    {
     "name": "stdout",
     "output_type": "stream",
     "text": [
      "0\n"
     ]
    },
    {
     "name": "stderr",
     "output_type": "stream",
     "text": [
      " 29%|██▊       | 65/227 [00:02<00:05, 30.79it/s]"
     ]
    },
    {
     "name": "stdout",
     "output_type": "stream",
     "text": [
      "0\n",
      "0\n"
     ]
    },
    {
     "name": "stderr",
     "output_type": "stream",
     "text": [
      " 30%|███       | 69/227 [00:02<00:05, 30.30it/s]"
     ]
    },
    {
     "name": "stdout",
     "output_type": "stream",
     "text": [
      "0\n"
     ]
    },
    {
     "name": "stderr",
     "output_type": "stream",
     "text": [
      " 34%|███▍      | 77/227 [00:02<00:04, 31.29it/s]"
     ]
    },
    {
     "name": "stdout",
     "output_type": "stream",
     "text": [
      "0\n"
     ]
    },
    {
     "name": "stderr",
     "output_type": "stream",
     "text": [
      " 36%|███▌      | 81/227 [00:02<00:04, 30.24it/s]"
     ]
    },
    {
     "name": "stdout",
     "output_type": "stream",
     "text": [
      "0\n",
      "0\n"
     ]
    },
    {
     "name": "stderr",
     "output_type": "stream",
     "text": [
      " 41%|████      | 92/227 [00:03<00:04, 27.89it/s]"
     ]
    },
    {
     "name": "stdout",
     "output_type": "stream",
     "text": [
      "0\n"
     ]
    },
    {
     "name": "stderr",
     "output_type": "stream",
     "text": [
      " 42%|████▏     | 96/227 [00:03<00:04, 29.19it/s]"
     ]
    },
    {
     "name": "stdout",
     "output_type": "stream",
     "text": [
      "0\n"
     ]
    },
    {
     "name": "stderr",
     "output_type": "stream",
     "text": [
      " 44%|████▎     | 99/227 [00:03<00:04, 28.91it/s]"
     ]
    },
    {
     "name": "stdout",
     "output_type": "stream",
     "text": [
      "0\n"
     ]
    },
    {
     "name": "stderr",
     "output_type": "stream",
     "text": [
      " 49%|████▉     | 111/227 [00:04<00:04, 25.12it/s]"
     ]
    },
    {
     "name": "stdout",
     "output_type": "stream",
     "text": [
      "0\n"
     ]
    },
    {
     "name": "stderr",
     "output_type": "stream",
     "text": [
      " 52%|█████▏    | 117/227 [00:04<00:04, 24.51it/s]"
     ]
    },
    {
     "name": "stdout",
     "output_type": "stream",
     "text": [
      "0\n"
     ]
    },
    {
     "name": "stderr",
     "output_type": "stream",
     "text": [
      " 53%|█████▎    | 120/227 [00:04<00:04, 24.95it/s]"
     ]
    },
    {
     "name": "stdout",
     "output_type": "stream",
     "text": [
      "0\n"
     ]
    },
    {
     "name": "stderr",
     "output_type": "stream",
     "text": [
      " 54%|█████▍    | 123/227 [00:04<00:04, 25.42it/s]"
     ]
    },
    {
     "name": "stdout",
     "output_type": "stream",
     "text": [
      "0\n"
     ]
    },
    {
     "name": "stderr",
     "output_type": "stream",
     "text": [
      " 56%|█████▌    | 126/227 [00:04<00:03, 25.28it/s]"
     ]
    },
    {
     "name": "stdout",
     "output_type": "stream",
     "text": [
      "0\n"
     ]
    },
    {
     "name": "stderr",
     "output_type": "stream",
     "text": [
      " 58%|█████▊    | 132/227 [00:04<00:03, 25.91it/s]"
     ]
    },
    {
     "name": "stdout",
     "output_type": "stream",
     "text": [
      "0\n",
      "0\n"
     ]
    },
    {
     "name": "stderr",
     "output_type": "stream",
     "text": [
      " 61%|██████    | 138/227 [00:05<00:03, 27.26it/s]"
     ]
    },
    {
     "name": "stdout",
     "output_type": "stream",
     "text": [
      "0\n"
     ]
    },
    {
     "name": "stderr",
     "output_type": "stream",
     "text": [
      " 62%|██████▏   | 141/227 [00:05<00:03, 27.24it/s]"
     ]
    },
    {
     "name": "stdout",
     "output_type": "stream",
     "text": [
      "0\n"
     ]
    },
    {
     "name": "stderr",
     "output_type": "stream",
     "text": [
      " 68%|██████▊   | 154/227 [00:05<00:02, 30.79it/s]"
     ]
    },
    {
     "name": "stdout",
     "output_type": "stream",
     "text": [
      "0\n",
      "0\n"
     ]
    },
    {
     "name": "stderr",
     "output_type": "stream",
     "text": [
      " 70%|██████▉   | 158/227 [00:05<00:02, 30.77it/s]"
     ]
    },
    {
     "name": "stdout",
     "output_type": "stream",
     "text": [
      "0\n"
     ]
    },
    {
     "name": "stderr",
     "output_type": "stream",
     "text": [
      " 73%|███████▎  | 166/227 [00:06<00:02, 29.77it/s]"
     ]
    },
    {
     "name": "stdout",
     "output_type": "stream",
     "text": [
      "0\n"
     ]
    },
    {
     "name": "stderr",
     "output_type": "stream",
     "text": [
      " 77%|███████▋  | 175/227 [00:06<00:01, 29.09it/s]"
     ]
    },
    {
     "name": "stdout",
     "output_type": "stream",
     "text": [
      "0\n"
     ]
    },
    {
     "name": "stderr",
     "output_type": "stream",
     "text": [
      " 78%|███████▊  | 178/227 [00:06<00:01, 29.04it/s]"
     ]
    },
    {
     "name": "stdout",
     "output_type": "stream",
     "text": [
      "0\n"
     ]
    },
    {
     "name": "stderr",
     "output_type": "stream",
     "text": [
      " 84%|████████▎ | 190/227 [00:06<00:01, 29.06it/s]"
     ]
    },
    {
     "name": "stdout",
     "output_type": "stream",
     "text": [
      "0\n"
     ]
    },
    {
     "name": "stderr",
     "output_type": "stream",
     "text": [
      " 86%|████████▋ | 196/227 [00:07<00:01, 28.90it/s]"
     ]
    },
    {
     "name": "stdout",
     "output_type": "stream",
     "text": [
      "0\n",
      "0\n"
     ]
    },
    {
     "name": "stderr",
     "output_type": "stream",
     "text": [
      " 88%|████████▊ | 199/227 [00:07<00:00, 28.76it/s]"
     ]
    },
    {
     "name": "stdout",
     "output_type": "stream",
     "text": [
      "0\n",
      "0\n"
     ]
    },
    {
     "name": "stderr",
     "output_type": "stream",
     "text": [
      "100%|██████████| 227/227 [00:08<00:00, 27.94it/s]\n"
     ]
    },
    {
     "name": "stdout",
     "output_type": "stream",
     "text": [
      "TEST: 0.0052 0.0063 0.0052 5.2854 | 2.9001 0.0112 2.9001 | 0.0084 62.4160 | Time: 8.1343\n",
      "\n",
      "2024-07-23 13:33:24\n",
      "RMSE Mean: 0.07067714296354898 Median: 0.0657846153079927 Cor 0.9086810932375922\n",
      "len_error 0.009202805548089513\n",
      "-13.0\n",
      "========================================\n",
      "General Configuration:\n",
      "\tMode: test\n",
      "\tWighting: EW\n",
      "\tArchitecture: HPS\n",
      "\tRep_Grad: False\n",
      "\tMulti_Input: False\n",
      "\tSeed: 777\n",
      "\tSave Path: /home/zhangyuanyuan/radarODE_plus_MTL/Model_saved/\n",
      "\tLoad Path: /home/zhangyuanyuan/radarODE_plus_MTL/Model_saved/step/best_UW.pt\n",
      "\tDevice: cuda:5\n",
      "Optimizer Configuration:\n",
      "\toptim: adam\n",
      "\tlr: 0.0001\n",
      "\tweight_decay: 1e-05\n",
      "Load Model from - /home/zhangyuanyuan/radarODE_plus_MTL/Model_saved/step/best_UW.pt\n",
      "========================================\n",
      "Total Params: 37712961\n",
      "Trainable Params: 37712961\n",
      "Non-trainable Params: 0\n",
      "========================================\n",
      "LOG FORMAT | ECG_shape_LOSS MSE CE norm_MSE | PPI_LOSS CE PPI_sec | Anchor_LOSS mse | TIME\n",
      "0"
     ]
    },
    {
     "name": "stderr",
     "output_type": "stream",
     "text": [
      "  0%|          | 0/223 [00:00<?, ?it/s]"
     ]
    },
    {
     "name": "stdout",
     "output_type": "stream",
     "text": [
      "00\n",
      "\n",
      "\n"
     ]
    },
    {
     "name": "stderr",
     "output_type": "stream",
     "text": [
      "  9%|▉         | 20/223 [00:00<00:07, 27.17it/s]"
     ]
    },
    {
     "name": "stdout",
     "output_type": "stream",
     "text": [
      "0\n",
      "0\n"
     ]
    },
    {
     "name": "stderr",
     "output_type": "stream",
     "text": [
      " 10%|█         | 23/223 [00:00<00:07, 27.25it/s]"
     ]
    },
    {
     "name": "stdout",
     "output_type": "stream",
     "text": [
      "0\n"
     ]
    },
    {
     "name": "stderr",
     "output_type": "stream",
     "text": [
      " 12%|█▏        | 26/223 [00:00<00:07, 27.52it/s]"
     ]
    },
    {
     "name": "stdout",
     "output_type": "stream",
     "text": [
      "0\n"
     ]
    },
    {
     "name": "stderr",
     "output_type": "stream",
     "text": [
      " 13%|█▎        | 29/223 [00:01<00:06, 27.74it/s]"
     ]
    },
    {
     "name": "stdout",
     "output_type": "stream",
     "text": [
      "0\n"
     ]
    },
    {
     "name": "stderr",
     "output_type": "stream",
     "text": [
      " 14%|█▍        | 32/223 [00:01<00:06, 27.86it/s]"
     ]
    },
    {
     "name": "stdout",
     "output_type": "stream",
     "text": [
      "0\n"
     ]
    },
    {
     "name": "stderr",
     "output_type": "stream",
     "text": [
      " 16%|█▌        | 35/223 [00:01<00:06, 28.06it/s]"
     ]
    },
    {
     "name": "stdout",
     "output_type": "stream",
     "text": [
      "0\n"
     ]
    },
    {
     "name": "stderr",
     "output_type": "stream",
     "text": [
      " 17%|█▋        | 38/223 [00:01<00:06, 28.13it/s]"
     ]
    },
    {
     "name": "stdout",
     "output_type": "stream",
     "text": [
      "0\n"
     ]
    },
    {
     "name": "stderr",
     "output_type": "stream",
     "text": [
      " 18%|█▊        | 41/223 [00:01<00:06, 28.24it/s]"
     ]
    },
    {
     "name": "stdout",
     "output_type": "stream",
     "text": [
      "0\n"
     ]
    },
    {
     "name": "stderr",
     "output_type": "stream",
     "text": [
      " 21%|██        | 47/223 [00:01<00:06, 27.30it/s]"
     ]
    },
    {
     "name": "stdout",
     "output_type": "stream",
     "text": [
      "0\n"
     ]
    },
    {
     "name": "stderr",
     "output_type": "stream",
     "text": [
      " 24%|██▍       | 53/223 [00:01<00:06, 27.89it/s]"
     ]
    },
    {
     "name": "stdout",
     "output_type": "stream",
     "text": [
      "0\n"
     ]
    },
    {
     "name": "stderr",
     "output_type": "stream",
     "text": [
      " 26%|██▋       | 59/223 [00:02<00:05, 28.16it/s]"
     ]
    },
    {
     "name": "stdout",
     "output_type": "stream",
     "text": [
      "0\n"
     ]
    },
    {
     "name": "stderr",
     "output_type": "stream",
     "text": [
      " 28%|██▊       | 62/223 [00:02<00:05, 28.25it/s]"
     ]
    },
    {
     "name": "stdout",
     "output_type": "stream",
     "text": [
      "0\n"
     ]
    },
    {
     "name": "stderr",
     "output_type": "stream",
     "text": [
      " 29%|██▉       | 65/223 [00:02<00:05, 28.24it/s]"
     ]
    },
    {
     "name": "stdout",
     "output_type": "stream",
     "text": [
      "0\n"
     ]
    },
    {
     "name": "stderr",
     "output_type": "stream",
     "text": [
      " 30%|███       | 68/223 [00:02<00:05, 28.20it/s]"
     ]
    },
    {
     "name": "stdout",
     "output_type": "stream",
     "text": [
      "0\n"
     ]
    },
    {
     "name": "stderr",
     "output_type": "stream",
     "text": [
      " 36%|███▌      | 80/223 [00:02<00:04, 28.60it/s]"
     ]
    },
    {
     "name": "stdout",
     "output_type": "stream",
     "text": [
      "0\n",
      "0\n"
     ]
    },
    {
     "name": "stderr",
     "output_type": "stream",
     "text": [
      " 39%|███▉      | 87/223 [00:03<00:04, 29.76it/s]"
     ]
    },
    {
     "name": "stdout",
     "output_type": "stream",
     "text": [
      "0\n"
     ]
    },
    {
     "name": "stderr",
     "output_type": "stream",
     "text": [
      " 44%|████▍     | 98/223 [00:03<00:04, 29.38it/s]"
     ]
    },
    {
     "name": "stdout",
     "output_type": "stream",
     "text": [
      "0\n",
      "0\n"
     ]
    },
    {
     "name": "stderr",
     "output_type": "stream",
     "text": [
      " 45%|████▌     | 101/223 [00:03<00:04, 27.23it/s]"
     ]
    },
    {
     "name": "stdout",
     "output_type": "stream",
     "text": [
      "0\n"
     ]
    },
    {
     "name": "stderr",
     "output_type": "stream",
     "text": [
      " 51%|█████     | 113/223 [00:03<00:03, 33.12it/s]"
     ]
    },
    {
     "name": "stdout",
     "output_type": "stream",
     "text": [
      "0\n"
     ]
    },
    {
     "name": "stderr",
     "output_type": "stream",
     "text": [
      " 52%|█████▏    | 117/223 [00:04<00:03, 32.40it/s]"
     ]
    },
    {
     "name": "stdout",
     "output_type": "stream",
     "text": [
      "0\n",
      "0\n"
     ]
    },
    {
     "name": "stderr",
     "output_type": "stream",
     "text": [
      " 56%|█████▌    | 125/223 [00:04<00:03, 30.90it/s]"
     ]
    },
    {
     "name": "stdout",
     "output_type": "stream",
     "text": [
      "0\n"
     ]
    },
    {
     "name": "stderr",
     "output_type": "stream",
     "text": [
      " 58%|█████▊    | 129/223 [00:04<00:03, 30.26it/s]"
     ]
    },
    {
     "name": "stdout",
     "output_type": "stream",
     "text": [
      "0\n",
      "0\n"
     ]
    },
    {
     "name": "stderr",
     "output_type": "stream",
     "text": [
      " 63%|██████▎   | 140/223 [00:04<00:02, 29.43it/s]"
     ]
    },
    {
     "name": "stdout",
     "output_type": "stream",
     "text": [
      "0\n",
      "0\n"
     ]
    },
    {
     "name": "stderr",
     "output_type": "stream",
     "text": [
      " 64%|██████▍   | 143/223 [00:04<00:02, 29.01it/s]"
     ]
    },
    {
     "name": "stdout",
     "output_type": "stream",
     "text": [
      "0\n"
     ]
    },
    {
     "name": "stderr",
     "output_type": "stream",
     "text": [
      " 65%|██████▌   | 146/223 [00:05<00:02, 28.97it/s]"
     ]
    },
    {
     "name": "stdout",
     "output_type": "stream",
     "text": [
      "0\n"
     ]
    },
    {
     "name": "stderr",
     "output_type": "stream",
     "text": [
      " 67%|██████▋   | 149/223 [00:05<00:02, 29.02it/s]"
     ]
    },
    {
     "name": "stdout",
     "output_type": "stream",
     "text": [
      "0\n"
     ]
    },
    {
     "name": "stderr",
     "output_type": "stream",
     "text": [
      " 71%|███████   | 158/223 [00:05<00:02, 29.32it/s]"
     ]
    },
    {
     "name": "stdout",
     "output_type": "stream",
     "text": [
      "0\n"
     ]
    },
    {
     "name": "stderr",
     "output_type": "stream",
     "text": [
      " 72%|███████▏  | 161/223 [00:05<00:02, 29.28it/s]"
     ]
    },
    {
     "name": "stdout",
     "output_type": "stream",
     "text": [
      "0\n"
     ]
    },
    {
     "name": "stderr",
     "output_type": "stream",
     "text": [
      " 74%|███████▎  | 164/223 [00:05<00:02, 29.20it/s]"
     ]
    },
    {
     "name": "stdout",
     "output_type": "stream",
     "text": [
      "0\n",
      "0\n"
     ]
    },
    {
     "name": "stderr",
     "output_type": "stream",
     "text": [
      " 76%|███████▌  | 170/223 [00:05<00:01, 29.20it/s]"
     ]
    },
    {
     "name": "stdout",
     "output_type": "stream",
     "text": [
      "0\n",
      "0\n"
     ]
    },
    {
     "name": "stderr",
     "output_type": "stream",
     "text": [
      " 80%|████████  | 179/223 [00:06<00:01, 29.15it/s]"
     ]
    },
    {
     "name": "stdout",
     "output_type": "stream",
     "text": [
      "0\n"
     ]
    },
    {
     "name": "stderr",
     "output_type": "stream",
     "text": [
      " 86%|████████▌ | 191/223 [00:06<00:01, 28.37it/s]"
     ]
    },
    {
     "name": "stdout",
     "output_type": "stream",
     "text": [
      "0\n"
     ]
    },
    {
     "name": "stderr",
     "output_type": "stream",
     "text": [
      " 91%|█████████ | 203/223 [00:07<00:00, 28.98it/s]"
     ]
    },
    {
     "name": "stdout",
     "output_type": "stream",
     "text": [
      "0\n"
     ]
    },
    {
     "name": "stderr",
     "output_type": "stream",
     "text": [
      "100%|██████████| 223/223 [00:07<00:00, 28.87it/s]\n"
     ]
    },
    {
     "name": "stdout",
     "output_type": "stream",
     "text": [
      "TEST: 0.0040 0.0048 0.0040 5.2851 | 2.4891 0.0120 2.4891 | 0.0084 62.3017 | Time: 7.7309\n",
      "\n",
      "2024-07-23 13:33:35\n",
      "RMSE Mean: 0.05247767604140699 Median: 0.04734464208636519 Cor 0.9658590316556889\n",
      "len_error 0.008363919951235345\n",
      "-8.0\n",
      "========================================\n",
      "General Configuration:\n",
      "\tMode: test\n",
      "\tWighting: EW\n",
      "\tArchitecture: HPS\n",
      "\tRep_Grad: False\n",
      "\tMulti_Input: False\n",
      "\tSeed: 777\n",
      "\tSave Path: /home/zhangyuanyuan/radarODE_plus_MTL/Model_saved/\n",
      "\tLoad Path: /home/zhangyuanyuan/radarODE_plus_MTL/Model_saved/step/best_UW.pt\n",
      "\tDevice: cuda:5\n",
      "Optimizer Configuration:\n",
      "\toptim: adam\n",
      "\tlr: 0.0001\n",
      "\tweight_decay: 1e-05\n",
      "Load Model from - /home/zhangyuanyuan/radarODE_plus_MTL/Model_saved/step/best_UW.pt\n",
      "========================================\n",
      "Total Params: 37712961\n",
      "Trainable Params: 37712961\n",
      "Non-trainable Params: 0\n",
      "========================================\n",
      "LOG FORMAT | ECG_shape_LOSS MSE CE norm_MSE | PPI_LOSS CE PPI_sec | Anchor_LOSS mse | TIME\n"
     ]
    },
    {
     "name": "stderr",
     "output_type": "stream",
     "text": [
      "  0%|          | 0/225 [00:00<?, ?it/s]"
     ]
    },
    {
     "name": "stdout",
     "output_type": "stream",
     "text": [
      "00\n",
      "\n",
      "0\n",
      "0\n",
      "0\n"
     ]
    },
    {
     "name": "stderr",
     "output_type": "stream",
     "text": [
      "  1%|          | 2/225 [00:00<00:11, 19.15it/s]"
     ]
    },
    {
     "name": "stdout",
     "output_type": "stream",
     "text": [
      "0\n",
      "0\n"
     ]
    },
    {
     "name": "stderr",
     "output_type": "stream",
     "text": [
      "  3%|▎         | 6/225 [00:00<00:08, 26.26it/s]"
     ]
    },
    {
     "name": "stdout",
     "output_type": "stream",
     "text": [
      "0\n"
     ]
    },
    {
     "name": "stderr",
     "output_type": "stream",
     "text": [
      "  7%|▋         | 15/225 [00:00<00:08, 24.24it/s]"
     ]
    },
    {
     "name": "stdout",
     "output_type": "stream",
     "text": [
      "0\n",
      "0\n"
     ]
    },
    {
     "name": "stderr",
     "output_type": "stream",
     "text": [
      "  9%|▉         | 21/225 [00:00<00:08, 24.21it/s]"
     ]
    },
    {
     "name": "stdout",
     "output_type": "stream",
     "text": [
      "0\n"
     ]
    },
    {
     "name": "stderr",
     "output_type": "stream",
     "text": [
      " 12%|█▏        | 27/225 [00:01<00:07, 26.48it/s]"
     ]
    },
    {
     "name": "stdout",
     "output_type": "stream",
     "text": [
      "0\n"
     ]
    },
    {
     "name": "stderr",
     "output_type": "stream",
     "text": [
      " 13%|█▎        | 30/225 [00:01<00:07, 26.11it/s]"
     ]
    },
    {
     "name": "stdout",
     "output_type": "stream",
     "text": [
      "0\n"
     ]
    },
    {
     "name": "stderr",
     "output_type": "stream",
     "text": [
      " 15%|█▍        | 33/225 [00:01<00:07, 26.18it/s]"
     ]
    },
    {
     "name": "stdout",
     "output_type": "stream",
     "text": [
      "0\n"
     ]
    },
    {
     "name": "stderr",
     "output_type": "stream",
     "text": [
      " 19%|█▊        | 42/225 [00:01<00:07, 25.06it/s]"
     ]
    },
    {
     "name": "stdout",
     "output_type": "stream",
     "text": [
      "0\n"
     ]
    },
    {
     "name": "stderr",
     "output_type": "stream",
     "text": [
      " 21%|██▏       | 48/225 [00:01<00:07, 24.57it/s]"
     ]
    },
    {
     "name": "stdout",
     "output_type": "stream",
     "text": [
      "0\n"
     ]
    },
    {
     "name": "stderr",
     "output_type": "stream",
     "text": [
      " 24%|██▍       | 54/225 [00:02<00:07, 24.29it/s]"
     ]
    },
    {
     "name": "stdout",
     "output_type": "stream",
     "text": [
      "0\n"
     ]
    },
    {
     "name": "stderr",
     "output_type": "stream",
     "text": [
      " 27%|██▋       | 60/225 [00:02<00:06, 24.31it/s]"
     ]
    },
    {
     "name": "stdout",
     "output_type": "stream",
     "text": [
      "0\n"
     ]
    },
    {
     "name": "stderr",
     "output_type": "stream",
     "text": [
      " 28%|██▊       | 63/225 [00:02<00:06, 24.23it/s]"
     ]
    },
    {
     "name": "stdout",
     "output_type": "stream",
     "text": [
      "0\n"
     ]
    },
    {
     "name": "stderr",
     "output_type": "stream",
     "text": [
      " 32%|███▏      | 73/225 [00:02<00:05, 27.08it/s]"
     ]
    },
    {
     "name": "stdout",
     "output_type": "stream",
     "text": [
      "0\n"
     ]
    },
    {
     "name": "stderr",
     "output_type": "stream",
     "text": [
      " 34%|███▍      | 77/225 [00:03<00:05, 28.05it/s]"
     ]
    },
    {
     "name": "stdout",
     "output_type": "stream",
     "text": [
      "0\n"
     ]
    },
    {
     "name": "stderr",
     "output_type": "stream",
     "text": [
      " 36%|███▌      | 80/225 [00:03<00:05, 27.88it/s]"
     ]
    },
    {
     "name": "stdout",
     "output_type": "stream",
     "text": [
      "0\n"
     ]
    },
    {
     "name": "stderr",
     "output_type": "stream",
     "text": [
      " 38%|███▊      | 86/225 [00:03<00:05, 27.43it/s]"
     ]
    },
    {
     "name": "stdout",
     "output_type": "stream",
     "text": [
      "0\n"
     ]
    },
    {
     "name": "stderr",
     "output_type": "stream",
     "text": [
      " 45%|████▌     | 102/225 [00:03<00:04, 28.65it/s]"
     ]
    },
    {
     "name": "stdout",
     "output_type": "stream",
     "text": [
      "0\n"
     ]
    },
    {
     "name": "stderr",
     "output_type": "stream",
     "text": [
      " 49%|████▉     | 110/225 [00:04<00:03, 31.62it/s]"
     ]
    },
    {
     "name": "stdout",
     "output_type": "stream",
     "text": [
      "0\n"
     ]
    },
    {
     "name": "stderr",
     "output_type": "stream",
     "text": [
      " 51%|█████     | 114/225 [00:04<00:03, 31.90it/s]"
     ]
    },
    {
     "name": "stdout",
     "output_type": "stream",
     "text": [
      "0\n",
      "0\n"
     ]
    },
    {
     "name": "stderr",
     "output_type": "stream",
     "text": [
      " 54%|█████▍    | 122/225 [00:04<00:03, 30.68it/s]"
     ]
    },
    {
     "name": "stdout",
     "output_type": "stream",
     "text": [
      "0\n"
     ]
    },
    {
     "name": "stderr",
     "output_type": "stream",
     "text": [
      " 56%|█████▌    | 126/225 [00:04<00:03, 29.76it/s]"
     ]
    },
    {
     "name": "stdout",
     "output_type": "stream",
     "text": [
      "0\n",
      "0\n"
     ]
    },
    {
     "name": "stderr",
     "output_type": "stream",
     "text": [
      " 57%|█████▋    | 129/225 [00:04<00:03, 29.26it/s]"
     ]
    },
    {
     "name": "stdout",
     "output_type": "stream",
     "text": [
      "0\n",
      "0\n"
     ]
    },
    {
     "name": "stderr",
     "output_type": "stream",
     "text": [
      " 65%|██████▌   | 147/225 [00:05<00:02, 29.26it/s]"
     ]
    },
    {
     "name": "stdout",
     "output_type": "stream",
     "text": [
      "0\n"
     ]
    },
    {
     "name": "stderr",
     "output_type": "stream",
     "text": [
      " 67%|██████▋   | 150/225 [00:05<00:02, 28.91it/s]"
     ]
    },
    {
     "name": "stdout",
     "output_type": "stream",
     "text": [
      "0\n",
      "0\n",
      "0\n"
     ]
    },
    {
     "name": "stderr",
     "output_type": "stream",
     "text": [
      " 68%|██████▊   | 154/225 [00:05<00:02, 29.58it/s]"
     ]
    },
    {
     "name": "stdout",
     "output_type": "stream",
     "text": [
      "0\n"
     ]
    },
    {
     "name": "stderr",
     "output_type": "stream",
     "text": [
      " 72%|███████▏  | 161/225 [00:05<00:02, 29.62it/s]"
     ]
    },
    {
     "name": "stdout",
     "output_type": "stream",
     "text": [
      "0\n"
     ]
    },
    {
     "name": "stderr",
     "output_type": "stream",
     "text": [
      " 75%|███████▍  | 168/225 [00:06<00:01, 29.55it/s]"
     ]
    },
    {
     "name": "stdout",
     "output_type": "stream",
     "text": [
      "0\n"
     ]
    },
    {
     "name": "stderr",
     "output_type": "stream",
     "text": [
      " 76%|███████▌  | 171/225 [00:06<00:01, 29.38it/s]"
     ]
    },
    {
     "name": "stdout",
     "output_type": "stream",
     "text": [
      "0\n"
     ]
    },
    {
     "name": "stderr",
     "output_type": "stream",
     "text": [
      " 77%|███████▋  | 174/225 [00:06<00:01, 29.23it/s]"
     ]
    },
    {
     "name": "stdout",
     "output_type": "stream",
     "text": [
      "0\n"
     ]
    },
    {
     "name": "stderr",
     "output_type": "stream",
     "text": [
      " 80%|████████  | 181/225 [00:06<00:01, 29.95it/s]"
     ]
    },
    {
     "name": "stdout",
     "output_type": "stream",
     "text": [
      "0\n"
     ]
    },
    {
     "name": "stderr",
     "output_type": "stream",
     "text": [
      " 82%|████████▏ | 185/225 [00:06<00:01, 30.75it/s]"
     ]
    },
    {
     "name": "stdout",
     "output_type": "stream",
     "text": [
      "0\n"
     ]
    },
    {
     "name": "stderr",
     "output_type": "stream",
     "text": [
      " 84%|████████▍ | 189/225 [00:06<00:01, 32.26it/s]"
     ]
    },
    {
     "name": "stdout",
     "output_type": "stream",
     "text": [
      "0\n"
     ]
    },
    {
     "name": "stderr",
     "output_type": "stream",
     "text": [
      " 86%|████████▌ | 193/225 [00:06<00:00, 33.45it/s]"
     ]
    },
    {
     "name": "stdout",
     "output_type": "stream",
     "text": [
      "0\n"
     ]
    },
    {
     "name": "stderr",
     "output_type": "stream",
     "text": [
      "100%|██████████| 225/225 [00:07<00:00, 28.96it/s]\n"
     ]
    },
    {
     "name": "stdout",
     "output_type": "stream",
     "text": [
      "TEST: 0.0039 0.0046 0.0039 5.2851 | 2.7591 0.0117 2.7591 | 0.0070 62.1858 | Time: 7.7747\n",
      "\n",
      "2024-07-23 13:33:47\n",
      "RMSE Mean: 0.05432365530211027 Median: 0.04975613892965611 Cor 0.953183911750087\n",
      "len_error 0.010066445913694332\n",
      "2.0\n",
      "========================================\n",
      "General Configuration:\n",
      "\tMode: test\n",
      "\tWighting: EW\n",
      "\tArchitecture: HPS\n",
      "\tRep_Grad: False\n",
      "\tMulti_Input: False\n",
      "\tSeed: 777\n",
      "\tSave Path: /home/zhangyuanyuan/radarODE_plus_MTL/Model_saved/\n",
      "\tLoad Path: /home/zhangyuanyuan/radarODE_plus_MTL/Model_saved/step/best_UW.pt\n",
      "\tDevice: cuda:5\n",
      "Optimizer Configuration:\n",
      "\toptim: adam\n",
      "\tlr: 0.0001\n",
      "\tweight_decay: 1e-05\n",
      "Load Model from - /home/zhangyuanyuan/radarODE_plus_MTL/Model_saved/step/best_UW.pt\n",
      "========================================\n",
      "Total Params: 37712961\n",
      "Trainable Params: 37712961\n",
      "Non-trainable Params: 0\n",
      "========================================\n",
      "LOG FORMAT | ECG_shape_LOSS MSE CE norm_MSE | PPI_LOSS CE PPI_sec | Anchor_LOSS mse | TIME\n"
     ]
    },
    {
     "name": "stderr",
     "output_type": "stream",
     "text": [
      "  0%|          | 0/223 [00:00<?, ?it/s]"
     ]
    },
    {
     "name": "stdout",
     "output_type": "stream",
     "text": [
      "0\n",
      "0\n"
     ]
    },
    {
     "name": "stderr",
     "output_type": "stream",
     "text": [
      "  2%|▏         | 5/223 [00:00<00:09, 23.89it/s]"
     ]
    },
    {
     "name": "stdout",
     "output_type": "stream",
     "text": [
      "0\n"
     ]
    },
    {
     "name": "stderr",
     "output_type": "stream",
     "text": [
      "  5%|▍         | 11/223 [00:00<00:07, 26.96it/s]"
     ]
    },
    {
     "name": "stdout",
     "output_type": "stream",
     "text": [
      "0\n"
     ]
    },
    {
     "name": "stderr",
     "output_type": "stream",
     "text": [
      "  8%|▊         | 18/223 [00:00<00:07, 28.75it/s]"
     ]
    },
    {
     "name": "stdout",
     "output_type": "stream",
     "text": [
      "0\n"
     ]
    },
    {
     "name": "stderr",
     "output_type": "stream",
     "text": [
      " 11%|█         | 24/223 [00:00<00:06, 28.60it/s]"
     ]
    },
    {
     "name": "stdout",
     "output_type": "stream",
     "text": [
      "0\n"
     ]
    },
    {
     "name": "stderr",
     "output_type": "stream",
     "text": [
      " 12%|█▏        | 27/223 [00:00<00:06, 28.60it/s]"
     ]
    },
    {
     "name": "stdout",
     "output_type": "stream",
     "text": [
      "0\n"
     ]
    },
    {
     "name": "stderr",
     "output_type": "stream",
     "text": [
      " 14%|█▍        | 31/223 [00:01<00:06, 29.26it/s]"
     ]
    },
    {
     "name": "stdout",
     "output_type": "stream",
     "text": [
      "0\n"
     ]
    },
    {
     "name": "stderr",
     "output_type": "stream",
     "text": [
      " 18%|█▊        | 40/223 [00:01<00:06, 28.84it/s]"
     ]
    },
    {
     "name": "stdout",
     "output_type": "stream",
     "text": [
      "0\n"
     ]
    },
    {
     "name": "stderr",
     "output_type": "stream",
     "text": [
      " 25%|██▍       | 55/223 [00:01<00:05, 28.30it/s]"
     ]
    },
    {
     "name": "stdout",
     "output_type": "stream",
     "text": [
      "0\n"
     ]
    },
    {
     "name": "stderr",
     "output_type": "stream",
     "text": [
      " 27%|██▋       | 61/223 [00:02<00:05, 28.16it/s]"
     ]
    },
    {
     "name": "stdout",
     "output_type": "stream",
     "text": [
      "0\n"
     ]
    },
    {
     "name": "stderr",
     "output_type": "stream",
     "text": [
      " 33%|███▎      | 73/223 [00:02<00:05, 28.16it/s]"
     ]
    },
    {
     "name": "stdout",
     "output_type": "stream",
     "text": [
      "0\n",
      "0\n"
     ]
    },
    {
     "name": "stderr",
     "output_type": "stream",
     "text": [
      " 35%|███▌      | 79/223 [00:02<00:05, 27.52it/s]"
     ]
    },
    {
     "name": "stdout",
     "output_type": "stream",
     "text": [
      "0\n",
      "0\n"
     ]
    },
    {
     "name": "stderr",
     "output_type": "stream",
     "text": [
      " 37%|███▋      | 82/223 [00:02<00:05, 27.50it/s]"
     ]
    },
    {
     "name": "stdout",
     "output_type": "stream",
     "text": [
      "0\n"
     ]
    },
    {
     "name": "stderr",
     "output_type": "stream",
     "text": [
      " 39%|███▉      | 88/223 [00:03<00:04, 27.90it/s]"
     ]
    },
    {
     "name": "stdout",
     "output_type": "stream",
     "text": [
      "0\n"
     ]
    },
    {
     "name": "stderr",
     "output_type": "stream",
     "text": [
      " 41%|████      | 91/223 [00:03<00:04, 27.87it/s]"
     ]
    },
    {
     "name": "stdout",
     "output_type": "stream",
     "text": [
      "0\n"
     ]
    },
    {
     "name": "stderr",
     "output_type": "stream",
     "text": [
      " 42%|████▏     | 94/223 [00:03<00:04, 27.97it/s]"
     ]
    },
    {
     "name": "stdout",
     "output_type": "stream",
     "text": [
      "0\n"
     ]
    },
    {
     "name": "stderr",
     "output_type": "stream",
     "text": [
      " 43%|████▎     | 97/223 [00:03<00:04, 28.20it/s]"
     ]
    },
    {
     "name": "stdout",
     "output_type": "stream",
     "text": [
      "0\n"
     ]
    },
    {
     "name": "stderr",
     "output_type": "stream",
     "text": [
      " 50%|█████     | 112/223 [00:04<00:04, 27.63it/s]"
     ]
    },
    {
     "name": "stdout",
     "output_type": "stream",
     "text": [
      "0\n"
     ]
    },
    {
     "name": "stderr",
     "output_type": "stream",
     "text": [
      " 55%|█████▌    | 123/223 [00:04<00:03, 29.38it/s]"
     ]
    },
    {
     "name": "stdout",
     "output_type": "stream",
     "text": [
      "0\n"
     ]
    },
    {
     "name": "stderr",
     "output_type": "stream",
     "text": [
      " 57%|█████▋    | 126/223 [00:04<00:03, 29.30it/s]"
     ]
    },
    {
     "name": "stdout",
     "output_type": "stream",
     "text": [
      "0\n",
      "0\n"
     ]
    },
    {
     "name": "stderr",
     "output_type": "stream",
     "text": [
      " 58%|█████▊    | 129/223 [00:04<00:03, 28.66it/s]"
     ]
    },
    {
     "name": "stdout",
     "output_type": "stream",
     "text": [
      "0\n"
     ]
    },
    {
     "name": "stderr",
     "output_type": "stream",
     "text": [
      " 61%|██████    | 136/223 [00:04<00:02, 29.64it/s]"
     ]
    },
    {
     "name": "stdout",
     "output_type": "stream",
     "text": [
      "0\n",
      "0\n"
     ]
    },
    {
     "name": "stderr",
     "output_type": "stream",
     "text": [
      " 63%|██████▎   | 140/223 [00:04<00:02, 29.78it/s]"
     ]
    },
    {
     "name": "stdout",
     "output_type": "stream",
     "text": [
      "0\n",
      "0\n"
     ]
    },
    {
     "name": "stderr",
     "output_type": "stream",
     "text": [
      " 66%|██████▌   | 147/223 [00:05<00:02, 31.31it/s]"
     ]
    },
    {
     "name": "stdout",
     "output_type": "stream",
     "text": [
      "0\n"
     ]
    },
    {
     "name": "stderr",
     "output_type": "stream",
     "text": [
      " 68%|██████▊   | 151/223 [00:05<00:02, 32.85it/s]"
     ]
    },
    {
     "name": "stdout",
     "output_type": "stream",
     "text": [
      "0\n"
     ]
    },
    {
     "name": "stderr",
     "output_type": "stream",
     "text": [
      " 71%|███████▏  | 159/223 [00:05<00:02, 29.68it/s]"
     ]
    },
    {
     "name": "stdout",
     "output_type": "stream",
     "text": [
      "0\n"
     ]
    },
    {
     "name": "stderr",
     "output_type": "stream",
     "text": [
      " 73%|███████▎  | 163/223 [00:05<00:02, 28.56it/s]"
     ]
    },
    {
     "name": "stdout",
     "output_type": "stream",
     "text": [
      "0\n",
      "0\n"
     ]
    },
    {
     "name": "stderr",
     "output_type": "stream",
     "text": [
      " 77%|███████▋  | 172/223 [00:06<00:01, 27.76it/s]"
     ]
    },
    {
     "name": "stdout",
     "output_type": "stream",
     "text": [
      "0\n",
      "0\n"
     ]
    },
    {
     "name": "stderr",
     "output_type": "stream",
     "text": [
      " 78%|███████▊  | 175/223 [00:06<00:01, 26.47it/s]"
     ]
    },
    {
     "name": "stdout",
     "output_type": "stream",
     "text": [
      "0\n"
     ]
    },
    {
     "name": "stderr",
     "output_type": "stream",
     "text": [
      " 84%|████████▍ | 187/223 [00:06<00:01, 27.84it/s]"
     ]
    },
    {
     "name": "stdout",
     "output_type": "stream",
     "text": [
      "0\n",
      "0\n"
     ]
    },
    {
     "name": "stderr",
     "output_type": "stream",
     "text": [
      " 85%|████████▌ | 190/223 [00:06<00:01, 28.09it/s]"
     ]
    },
    {
     "name": "stdout",
     "output_type": "stream",
     "text": [
      "0\n"
     ]
    },
    {
     "name": "stderr",
     "output_type": "stream",
     "text": [
      " 88%|████████▊ | 196/223 [00:06<00:00, 27.91it/s]"
     ]
    },
    {
     "name": "stdout",
     "output_type": "stream",
     "text": [
      "0\n"
     ]
    },
    {
     "name": "stderr",
     "output_type": "stream",
     "text": [
      " 89%|████████▉ | 199/223 [00:07<00:00, 28.14it/s]"
     ]
    },
    {
     "name": "stdout",
     "output_type": "stream",
     "text": [
      "0\n"
     ]
    },
    {
     "name": "stderr",
     "output_type": "stream",
     "text": [
      " 92%|█████████▏| 205/223 [00:07<00:00, 28.41it/s]"
     ]
    },
    {
     "name": "stdout",
     "output_type": "stream",
     "text": [
      "0\n",
      "0\n"
     ]
    },
    {
     "name": "stderr",
     "output_type": "stream",
     "text": [
      "100%|██████████| 223/223 [00:07<00:00, 28.65it/s]\n"
     ]
    },
    {
     "name": "stdout",
     "output_type": "stream",
     "text": [
      "TEST: 0.0088 0.0095 0.0088 5.2884 | 2.2530 0.0117 2.2530 | 0.0065 62.0830 | Time: 7.7897\n",
      "\n",
      "2024-07-23 13:33:58\n",
      "RMSE Mean: 0.0733748143686502 Median: 0.07152116170213588 Cor 0.8710580596097106\n",
      "len_error 0.0071733812880077\n",
      "-1.0\n",
      "========================================\n",
      "General Configuration:\n",
      "\tMode: test\n",
      "\tWighting: EW\n",
      "\tArchitecture: HPS\n",
      "\tRep_Grad: False\n",
      "\tMulti_Input: False\n",
      "\tSeed: 777\n",
      "\tSave Path: /home/zhangyuanyuan/radarODE_plus_MTL/Model_saved/\n",
      "\tLoad Path: /home/zhangyuanyuan/radarODE_plus_MTL/Model_saved/step/best_UW.pt\n",
      "\tDevice: cuda:5\n",
      "Optimizer Configuration:\n",
      "\toptim: adam\n",
      "\tlr: 0.0001\n",
      "\tweight_decay: 1e-05\n",
      "Load Model from - /home/zhangyuanyuan/radarODE_plus_MTL/Model_saved/step/best_UW.pt\n",
      "========================================\n",
      "Total Params: 37712961\n",
      "Trainable Params: 37712961\n",
      "Non-trainable Params: 0\n",
      "========================================\n",
      "LOG FORMAT | ECG_shape_LOSS MSE CE norm_MSE | PPI_LOSS CE PPI_sec | Anchor_LOSS mse | TIME\n",
      "0\n"
     ]
    },
    {
     "name": "stderr",
     "output_type": "stream",
     "text": [
      "  0%|          | 0/269 [00:00<?, ?it/s]"
     ]
    },
    {
     "name": "stdout",
     "output_type": "stream",
     "text": [
      "00\n",
      "\n",
      "0\n"
     ]
    },
    {
     "name": "stderr",
     "output_type": "stream",
     "text": [
      "  1%|          | 2/269 [00:00<00:17, 15.20it/s]"
     ]
    },
    {
     "name": "stdout",
     "output_type": "stream",
     "text": [
      "0\n"
     ]
    },
    {
     "name": "stderr",
     "output_type": "stream",
     "text": [
      "  4%|▍         | 11/269 [00:00<00:10, 25.14it/s]"
     ]
    },
    {
     "name": "stdout",
     "output_type": "stream",
     "text": [
      "0\n"
     ]
    },
    {
     "name": "stderr",
     "output_type": "stream",
     "text": [
      "  5%|▌         | 14/269 [00:00<00:09, 26.24it/s]"
     ]
    },
    {
     "name": "stdout",
     "output_type": "stream",
     "text": [
      "0\n"
     ]
    },
    {
     "name": "stderr",
     "output_type": "stream",
     "text": [
      "  9%|▊         | 23/269 [00:00<00:08, 28.14it/s]"
     ]
    },
    {
     "name": "stdout",
     "output_type": "stream",
     "text": [
      "0\n"
     ]
    },
    {
     "name": "stderr",
     "output_type": "stream",
     "text": [
      " 10%|▉         | 26/269 [00:00<00:08, 28.20it/s]"
     ]
    },
    {
     "name": "stdout",
     "output_type": "stream",
     "text": [
      "0\n",
      "0\n"
     ]
    },
    {
     "name": "stderr",
     "output_type": "stream",
     "text": [
      " 11%|█         | 29/269 [00:01<00:08, 28.21it/s]"
     ]
    },
    {
     "name": "stdout",
     "output_type": "stream",
     "text": [
      "0\n"
     ]
    },
    {
     "name": "stderr",
     "output_type": "stream",
     "text": [
      " 12%|█▏        | 32/269 [00:01<00:08, 28.50it/s]"
     ]
    },
    {
     "name": "stdout",
     "output_type": "stream",
     "text": [
      "0\n"
     ]
    },
    {
     "name": "stderr",
     "output_type": "stream",
     "text": [
      " 16%|█▋        | 44/269 [00:01<00:07, 28.36it/s]"
     ]
    },
    {
     "name": "stdout",
     "output_type": "stream",
     "text": [
      "0\n"
     ]
    },
    {
     "name": "stderr",
     "output_type": "stream",
     "text": [
      " 19%|█▊        | 50/269 [00:01<00:07, 27.78it/s]"
     ]
    },
    {
     "name": "stdout",
     "output_type": "stream",
     "text": [
      "0\n"
     ]
    },
    {
     "name": "stderr",
     "output_type": "stream",
     "text": [
      " 20%|█▉        | 53/269 [00:01<00:07, 27.91it/s]"
     ]
    },
    {
     "name": "stdout",
     "output_type": "stream",
     "text": [
      "0\n"
     ]
    },
    {
     "name": "stderr",
     "output_type": "stream",
     "text": [
      " 21%|██        | 56/269 [00:02<00:07, 28.07it/s]"
     ]
    },
    {
     "name": "stdout",
     "output_type": "stream",
     "text": [
      "0\n"
     ]
    },
    {
     "name": "stderr",
     "output_type": "stream",
     "text": [
      " 26%|██▋       | 71/269 [00:02<00:06, 28.64it/s]"
     ]
    },
    {
     "name": "stdout",
     "output_type": "stream",
     "text": [
      "0\n"
     ]
    },
    {
     "name": "stderr",
     "output_type": "stream",
     "text": [
      " 28%|██▊       | 74/269 [00:02<00:06, 28.67it/s]"
     ]
    },
    {
     "name": "stdout",
     "output_type": "stream",
     "text": [
      "0\n"
     ]
    },
    {
     "name": "stderr",
     "output_type": "stream",
     "text": [
      " 29%|██▊       | 77/269 [00:02<00:06, 28.64it/s]"
     ]
    },
    {
     "name": "stdout",
     "output_type": "stream",
     "text": [
      "0\n"
     ]
    },
    {
     "name": "stderr",
     "output_type": "stream",
     "text": [
      " 31%|███       | 83/269 [00:02<00:06, 28.60it/s]"
     ]
    },
    {
     "name": "stdout",
     "output_type": "stream",
     "text": [
      "0\n"
     ]
    },
    {
     "name": "stderr",
     "output_type": "stream",
     "text": [
      " 32%|███▏      | 86/269 [00:03<00:06, 28.66it/s]"
     ]
    },
    {
     "name": "stdout",
     "output_type": "stream",
     "text": [
      "0\n"
     ]
    },
    {
     "name": "stderr",
     "output_type": "stream",
     "text": [
      " 36%|███▋      | 98/269 [00:03<00:05, 28.93it/s]"
     ]
    },
    {
     "name": "stdout",
     "output_type": "stream",
     "text": [
      "0\n",
      "0\n"
     ]
    },
    {
     "name": "stderr",
     "output_type": "stream",
     "text": [
      " 39%|███▊      | 104/269 [00:03<00:05, 28.72it/s]"
     ]
    },
    {
     "name": "stdout",
     "output_type": "stream",
     "text": [
      "0\n"
     ]
    },
    {
     "name": "stderr",
     "output_type": "stream",
     "text": [
      " 42%|████▏     | 113/269 [00:04<00:05, 28.38it/s]"
     ]
    },
    {
     "name": "stdout",
     "output_type": "stream",
     "text": [
      "0\n",
      "0\n"
     ]
    },
    {
     "name": "stderr",
     "output_type": "stream",
     "text": [
      " 44%|████▍     | 119/269 [00:04<00:05, 28.42it/s]"
     ]
    },
    {
     "name": "stdout",
     "output_type": "stream",
     "text": [
      "0\n"
     ]
    },
    {
     "name": "stderr",
     "output_type": "stream",
     "text": [
      " 48%|████▊     | 128/269 [00:04<00:04, 28.89it/s]"
     ]
    },
    {
     "name": "stdout",
     "output_type": "stream",
     "text": [
      "0\n"
     ]
    },
    {
     "name": "stderr",
     "output_type": "stream",
     "text": [
      " 49%|████▊     | 131/269 [00:04<00:04, 28.81it/s]"
     ]
    },
    {
     "name": "stdout",
     "output_type": "stream",
     "text": [
      "0\n"
     ]
    },
    {
     "name": "stderr",
     "output_type": "stream",
     "text": [
      " 50%|████▉     | 134/269 [00:04<00:04, 28.81it/s]"
     ]
    },
    {
     "name": "stdout",
     "output_type": "stream",
     "text": [
      "0\n"
     ]
    },
    {
     "name": "stderr",
     "output_type": "stream",
     "text": [
      " 51%|█████     | 137/269 [00:04<00:04, 28.78it/s]"
     ]
    },
    {
     "name": "stdout",
     "output_type": "stream",
     "text": [
      "0\n",
      "0\n"
     ]
    },
    {
     "name": "stderr",
     "output_type": "stream",
     "text": [
      " 53%|█████▎    | 143/269 [00:05<00:04, 28.36it/s]"
     ]
    },
    {
     "name": "stdout",
     "output_type": "stream",
     "text": [
      "0\n"
     ]
    },
    {
     "name": "stderr",
     "output_type": "stream",
     "text": [
      " 59%|█████▊    | 158/269 [00:05<00:03, 28.61it/s]"
     ]
    },
    {
     "name": "stdout",
     "output_type": "stream",
     "text": [
      "0\n"
     ]
    },
    {
     "name": "stderr",
     "output_type": "stream",
     "text": [
      " 61%|██████    | 164/269 [00:05<00:03, 28.09it/s]"
     ]
    },
    {
     "name": "stdout",
     "output_type": "stream",
     "text": [
      "0\n"
     ]
    },
    {
     "name": "stderr",
     "output_type": "stream",
     "text": [
      " 64%|██████▍   | 173/269 [00:06<00:03, 28.11it/s]"
     ]
    },
    {
     "name": "stdout",
     "output_type": "stream",
     "text": [
      "0\n"
     ]
    },
    {
     "name": "stderr",
     "output_type": "stream",
     "text": [
      " 68%|██████▊   | 182/269 [00:06<00:03, 28.23it/s]"
     ]
    },
    {
     "name": "stdout",
     "output_type": "stream",
     "text": [
      "0\n"
     ]
    },
    {
     "name": "stderr",
     "output_type": "stream",
     "text": [
      " 69%|██████▉   | 185/269 [00:06<00:02, 28.25it/s]"
     ]
    },
    {
     "name": "stdout",
     "output_type": "stream",
     "text": [
      "0\n"
     ]
    },
    {
     "name": "stderr",
     "output_type": "stream",
     "text": [
      " 72%|███████▏  | 194/269 [00:06<00:02, 28.48it/s]"
     ]
    },
    {
     "name": "stdout",
     "output_type": "stream",
     "text": [
      "0\n"
     ]
    },
    {
     "name": "stderr",
     "output_type": "stream",
     "text": [
      " 73%|███████▎  | 197/269 [00:07<00:02, 28.65it/s]"
     ]
    },
    {
     "name": "stdout",
     "output_type": "stream",
     "text": [
      "0\n"
     ]
    },
    {
     "name": "stderr",
     "output_type": "stream",
     "text": [
      " 75%|███████▌  | 203/269 [00:07<00:02, 29.17it/s]"
     ]
    },
    {
     "name": "stdout",
     "output_type": "stream",
     "text": [
      "0\n"
     ]
    },
    {
     "name": "stderr",
     "output_type": "stream",
     "text": [
      " 79%|███████▉  | 212/269 [00:07<00:01, 29.10it/s]"
     ]
    },
    {
     "name": "stdout",
     "output_type": "stream",
     "text": [
      "0\n",
      "0\n"
     ]
    },
    {
     "name": "stderr",
     "output_type": "stream",
     "text": [
      " 80%|███████▉  | 215/269 [00:07<00:01, 28.63it/s]"
     ]
    },
    {
     "name": "stdout",
     "output_type": "stream",
     "text": [
      "0\n",
      "0\n"
     ]
    },
    {
     "name": "stderr",
     "output_type": "stream",
     "text": [
      " 81%|████████  | 218/269 [00:07<00:01, 28.86it/s]"
     ]
    },
    {
     "name": "stdout",
     "output_type": "stream",
     "text": [
      "0\n"
     ]
    },
    {
     "name": "stderr",
     "output_type": "stream",
     "text": [
      " 82%|████████▏ | 221/269 [00:07<00:01, 28.98it/s]"
     ]
    },
    {
     "name": "stdout",
     "output_type": "stream",
     "text": [
      "0\n"
     ]
    },
    {
     "name": "stderr",
     "output_type": "stream",
     "text": [
      " 84%|████████▍ | 227/269 [00:08<00:01, 28.55it/s]"
     ]
    },
    {
     "name": "stdout",
     "output_type": "stream",
     "text": [
      "0\n",
      "0\n"
     ]
    },
    {
     "name": "stderr",
     "output_type": "stream",
     "text": [
      " 86%|████████▌ | 230/269 [00:08<00:01, 28.41it/s]"
     ]
    },
    {
     "name": "stdout",
     "output_type": "stream",
     "text": [
      "0\n"
     ]
    },
    {
     "name": "stderr",
     "output_type": "stream",
     "text": [
      " 87%|████████▋ | 233/269 [00:08<00:01, 28.38it/s]"
     ]
    },
    {
     "name": "stdout",
     "output_type": "stream",
     "text": [
      "0\n"
     ]
    },
    {
     "name": "stderr",
     "output_type": "stream",
     "text": [
      " 89%|████████▉ | 239/269 [00:08<00:01, 28.58it/s]"
     ]
    },
    {
     "name": "stdout",
     "output_type": "stream",
     "text": [
      "0\n"
     ]
    },
    {
     "name": "stderr",
     "output_type": "stream",
     "text": [
      " 91%|█████████ | 245/269 [00:08<00:00, 28.65it/s]"
     ]
    },
    {
     "name": "stdout",
     "output_type": "stream",
     "text": [
      "0\n"
     ]
    },
    {
     "name": "stderr",
     "output_type": "stream",
     "text": [
      "100%|██████████| 269/269 [00:09<00:00, 28.31it/s]\n"
     ]
    },
    {
     "name": "stdout",
     "output_type": "stream",
     "text": [
      "TEST: 0.0738 0.0886 0.0738 5.3146 | 4.3646 0.0564 4.3646 | 0.0076 74.9384 | Time: 9.5106\n",
      "\n",
      "2024-07-23 13:34:11\n",
      "RMSE Mean: 0.28102686580428515 Median: 0.2807659905507234 Cor -0.19205952717210564\n",
      "len_error 0.1170354853568513\n",
      "2.0\n",
      "========================================\n",
      "General Configuration:\n",
      "\tMode: test\n",
      "\tWighting: EW\n",
      "\tArchitecture: HPS\n",
      "\tRep_Grad: False\n",
      "\tMulti_Input: False\n",
      "\tSeed: 777\n",
      "\tSave Path: /home/zhangyuanyuan/radarODE_plus_MTL/Model_saved/\n",
      "\tLoad Path: /home/zhangyuanyuan/radarODE_plus_MTL/Model_saved/step/best_UW.pt\n",
      "\tDevice: cuda:5\n",
      "Optimizer Configuration:\n",
      "\toptim: adam\n",
      "\tlr: 0.0001\n",
      "\tweight_decay: 1e-05\n",
      "Load Model from - /home/zhangyuanyuan/radarODE_plus_MTL/Model_saved/step/best_UW.pt\n",
      "========================================\n",
      "Total Params: 37712961\n",
      "Trainable Params: 37712961\n",
      "Non-trainable Params: 0\n",
      "========================================\n",
      "LOG FORMAT | ECG_shape_LOSS MSE CE norm_MSE | PPI_LOSS CE PPI_sec | Anchor_LOSS mse | TIME\n",
      "00\n",
      "0\n",
      "\n"
     ]
    },
    {
     "name": "stderr",
     "output_type": "stream",
     "text": [
      "  0%|          | 0/189 [00:00<?, ?it/s]"
     ]
    },
    {
     "name": "stdout",
     "output_type": "stream",
     "text": [
      "0\n",
      "0\n"
     ]
    },
    {
     "name": "stderr",
     "output_type": "stream",
     "text": [
      "  1%|          | 2/189 [00:00<00:11, 15.87it/s]"
     ]
    },
    {
     "name": "stdout",
     "output_type": "stream",
     "text": [
      "0\n"
     ]
    },
    {
     "name": "stderr",
     "output_type": "stream",
     "text": [
      "  3%|▎         | 5/189 [00:00<00:08, 22.22it/s]"
     ]
    },
    {
     "name": "stdout",
     "output_type": "stream",
     "text": [
      "0\n",
      "0\n"
     ]
    },
    {
     "name": "stderr",
     "output_type": "stream",
     "text": [
      "  4%|▍         | 8/189 [00:00<00:07, 24.45it/s]"
     ]
    },
    {
     "name": "stdout",
     "output_type": "stream",
     "text": [
      "0\n",
      "0\n"
     ]
    },
    {
     "name": "stderr",
     "output_type": "stream",
     "text": [
      "  6%|▌         | 11/189 [00:00<00:06, 26.05it/s]"
     ]
    },
    {
     "name": "stdout",
     "output_type": "stream",
     "text": [
      "0\n"
     ]
    },
    {
     "name": "stderr",
     "output_type": "stream",
     "text": [
      "  7%|▋         | 14/189 [00:00<00:06, 25.52it/s]"
     ]
    },
    {
     "name": "stdout",
     "output_type": "stream",
     "text": [
      "0\n"
     ]
    },
    {
     "name": "stderr",
     "output_type": "stream",
     "text": [
      "  9%|▉         | 17/189 [00:00<00:06, 24.89it/s]"
     ]
    },
    {
     "name": "stdout",
     "output_type": "stream",
     "text": [
      "0\n"
     ]
    },
    {
     "name": "stderr",
     "output_type": "stream",
     "text": [
      " 11%|█         | 20/189 [00:00<00:06, 24.48it/s]"
     ]
    },
    {
     "name": "stdout",
     "output_type": "stream",
     "text": [
      "0\n"
     ]
    },
    {
     "name": "stderr",
     "output_type": "stream",
     "text": [
      " 12%|█▏        | 23/189 [00:00<00:06, 24.13it/s]"
     ]
    },
    {
     "name": "stdout",
     "output_type": "stream",
     "text": [
      "0\n"
     ]
    },
    {
     "name": "stderr",
     "output_type": "stream",
     "text": [
      " 14%|█▍        | 26/189 [00:01<00:06, 24.12it/s]"
     ]
    },
    {
     "name": "stdout",
     "output_type": "stream",
     "text": [
      "0\n"
     ]
    },
    {
     "name": "stderr",
     "output_type": "stream",
     "text": [
      " 19%|█▊        | 35/189 [00:01<00:06, 23.78it/s]"
     ]
    },
    {
     "name": "stdout",
     "output_type": "stream",
     "text": [
      "0\n"
     ]
    },
    {
     "name": "stderr",
     "output_type": "stream",
     "text": [
      " 23%|██▎       | 44/189 [00:01<00:06, 23.90it/s]"
     ]
    },
    {
     "name": "stdout",
     "output_type": "stream",
     "text": [
      "0\n",
      "0\n"
     ]
    },
    {
     "name": "stderr",
     "output_type": "stream",
     "text": [
      " 26%|██▋       | 50/189 [00:02<00:05, 25.28it/s]"
     ]
    },
    {
     "name": "stdout",
     "output_type": "stream",
     "text": [
      "0\n"
     ]
    },
    {
     "name": "stderr",
     "output_type": "stream",
     "text": [
      " 38%|███▊      | 71/189 [00:02<00:04, 28.95it/s]"
     ]
    },
    {
     "name": "stdout",
     "output_type": "stream",
     "text": [
      "0\n"
     ]
    },
    {
     "name": "stderr",
     "output_type": "stream",
     "text": [
      " 43%|████▎     | 81/189 [00:03<00:03, 29.31it/s]"
     ]
    },
    {
     "name": "stdout",
     "output_type": "stream",
     "text": [
      "0\n",
      "0\n"
     ]
    },
    {
     "name": "stderr",
     "output_type": "stream",
     "text": [
      " 44%|████▍     | 84/189 [00:03<00:03, 29.23it/s]"
     ]
    },
    {
     "name": "stdout",
     "output_type": "stream",
     "text": [
      "0\n"
     ]
    },
    {
     "name": "stderr",
     "output_type": "stream",
     "text": [
      " 46%|████▌     | 87/189 [00:03<00:03, 28.83it/s]"
     ]
    },
    {
     "name": "stdout",
     "output_type": "stream",
     "text": [
      "0\n"
     ]
    },
    {
     "name": "stderr",
     "output_type": "stream",
     "text": [
      " 48%|████▊     | 90/189 [00:03<00:03, 28.71it/s]"
     ]
    },
    {
     "name": "stdout",
     "output_type": "stream",
     "text": [
      "0\n"
     ]
    },
    {
     "name": "stderr",
     "output_type": "stream",
     "text": [
      " 53%|█████▎    | 100/189 [00:03<00:02, 30.01it/s]"
     ]
    },
    {
     "name": "stdout",
     "output_type": "stream",
     "text": [
      "0\n",
      "0\n"
     ]
    },
    {
     "name": "stderr",
     "output_type": "stream",
     "text": [
      " 57%|█████▋    | 108/189 [00:04<00:02, 31.42it/s]"
     ]
    },
    {
     "name": "stdout",
     "output_type": "stream",
     "text": [
      "0\n"
     ]
    },
    {
     "name": "stderr",
     "output_type": "stream",
     "text": [
      " 59%|█████▉    | 112/189 [00:04<00:02, 30.89it/s]"
     ]
    },
    {
     "name": "stdout",
     "output_type": "stream",
     "text": [
      "0\n"
     ]
    },
    {
     "name": "stderr",
     "output_type": "stream",
     "text": [
      " 61%|██████▏   | 116/189 [00:04<00:02, 30.36it/s]"
     ]
    },
    {
     "name": "stdout",
     "output_type": "stream",
     "text": [
      "0\n"
     ]
    },
    {
     "name": "stderr",
     "output_type": "stream",
     "text": [
      " 68%|██████▊   | 128/189 [00:04<00:01, 31.96it/s]"
     ]
    },
    {
     "name": "stdout",
     "output_type": "stream",
     "text": [
      "0\n"
     ]
    },
    {
     "name": "stderr",
     "output_type": "stream",
     "text": [
      " 70%|██████▉   | 132/189 [00:04<00:01, 33.05it/s]"
     ]
    },
    {
     "name": "stdout",
     "output_type": "stream",
     "text": [
      "0\n"
     ]
    },
    {
     "name": "stderr",
     "output_type": "stream",
     "text": [
      " 74%|███████▍  | 140/189 [00:05<00:01, 32.04it/s]"
     ]
    },
    {
     "name": "stdout",
     "output_type": "stream",
     "text": [
      "0\n"
     ]
    },
    {
     "name": "stderr",
     "output_type": "stream",
     "text": [
      " 76%|███████▌  | 144/189 [00:05<00:01, 30.74it/s]"
     ]
    },
    {
     "name": "stdout",
     "output_type": "stream",
     "text": [
      "0\n"
     ]
    },
    {
     "name": "stderr",
     "output_type": "stream",
     "text": [
      " 78%|███████▊  | 148/189 [00:05<00:01, 30.47it/s]"
     ]
    },
    {
     "name": "stdout",
     "output_type": "stream",
     "text": [
      "0\n"
     ]
    },
    {
     "name": "stderr",
     "output_type": "stream",
     "text": [
      " 83%|████████▎ | 156/189 [00:05<00:01, 29.85it/s]"
     ]
    },
    {
     "name": "stdout",
     "output_type": "stream",
     "text": [
      "0\n"
     ]
    },
    {
     "name": "stderr",
     "output_type": "stream",
     "text": [
      "100%|██████████| 189/189 [00:06<00:00, 28.30it/s]\n"
     ]
    },
    {
     "name": "stdout",
     "output_type": "stream",
     "text": [
      "TEST: 0.0077 0.0103 0.0077 5.2857 | 2.9620 0.0122 2.9620 | 0.0079 62.2686 | Time: 6.6838\n",
      "\n",
      "2024-07-23 13:34:22\n",
      "RMSE Mean: 0.08908667373647758 Median: 0.08085619634913456 Cor 0.9203888707892426\n",
      "len_error 0.009200874124564723\n",
      "-8.0\n",
      "========================================\n",
      "General Configuration:\n",
      "\tMode: test\n",
      "\tWighting: EW\n",
      "\tArchitecture: HPS\n",
      "\tRep_Grad: False\n",
      "\tMulti_Input: False\n",
      "\tSeed: 777\n",
      "\tSave Path: /home/zhangyuanyuan/radarODE_plus_MTL/Model_saved/\n",
      "\tLoad Path: /home/zhangyuanyuan/radarODE_plus_MTL/Model_saved/step/best_UW.pt\n",
      "\tDevice: cuda:5\n",
      "Optimizer Configuration:\n",
      "\toptim: adam\n",
      "\tlr: 0.0001\n",
      "\tweight_decay: 1e-05\n",
      "Load Model from - /home/zhangyuanyuan/radarODE_plus_MTL/Model_saved/step/best_UW.pt\n",
      "========================================\n",
      "Total Params: 37712961\n",
      "Trainable Params: 37712961\n",
      "Non-trainable Params: 0\n",
      "========================================\n",
      "LOG FORMAT | ECG_shape_LOSS MSE CE norm_MSE | PPI_LOSS CE PPI_sec | Anchor_LOSS mse | TIME\n",
      "0\n"
     ]
    },
    {
     "name": "stderr",
     "output_type": "stream",
     "text": [
      "  0%|          | 0/189 [00:00<?, ?it/s]"
     ]
    },
    {
     "name": "stdout",
     "output_type": "stream",
     "text": [
      "0\n",
      "0\n"
     ]
    },
    {
     "name": "stderr",
     "output_type": "stream",
     "text": [
      "  1%|          | 2/189 [00:00<00:12, 14.56it/s]"
     ]
    },
    {
     "name": "stdout",
     "output_type": "stream",
     "text": [
      "0\n",
      "0\n"
     ]
    },
    {
     "name": "stderr",
     "output_type": "stream",
     "text": [
      "  3%|▎         | 5/189 [00:00<00:08, 20.60it/s]"
     ]
    },
    {
     "name": "stdout",
     "output_type": "stream",
     "text": [
      "0\n"
     ]
    },
    {
     "name": "stderr",
     "output_type": "stream",
     "text": [
      "  6%|▌         | 11/189 [00:00<00:07, 23.15it/s]"
     ]
    },
    {
     "name": "stdout",
     "output_type": "stream",
     "text": [
      "0\n"
     ]
    },
    {
     "name": "stderr",
     "output_type": "stream",
     "text": [
      "  7%|▋         | 14/189 [00:00<00:07, 24.59it/s]"
     ]
    },
    {
     "name": "stdout",
     "output_type": "stream",
     "text": [
      "0\n"
     ]
    },
    {
     "name": "stderr",
     "output_type": "stream",
     "text": [
      " 12%|█▏        | 23/189 [00:00<00:06, 26.95it/s]"
     ]
    },
    {
     "name": "stdout",
     "output_type": "stream",
     "text": [
      "0\n"
     ]
    },
    {
     "name": "stderr",
     "output_type": "stream",
     "text": [
      " 15%|█▌        | 29/189 [00:01<00:05, 27.49it/s]"
     ]
    },
    {
     "name": "stdout",
     "output_type": "stream",
     "text": [
      "0\n"
     ]
    },
    {
     "name": "stderr",
     "output_type": "stream",
     "text": [
      " 19%|█▊        | 35/189 [00:01<00:05, 27.85it/s]"
     ]
    },
    {
     "name": "stdout",
     "output_type": "stream",
     "text": [
      "0\n"
     ]
    },
    {
     "name": "stderr",
     "output_type": "stream",
     "text": [
      " 20%|██        | 38/189 [00:01<00:05, 27.89it/s]"
     ]
    },
    {
     "name": "stdout",
     "output_type": "stream",
     "text": [
      "0\n",
      "0\n"
     ]
    },
    {
     "name": "stderr",
     "output_type": "stream",
     "text": [
      " 22%|██▏       | 41/189 [00:01<00:05, 27.75it/s]"
     ]
    },
    {
     "name": "stdout",
     "output_type": "stream",
     "text": [
      "0\n"
     ]
    },
    {
     "name": "stderr",
     "output_type": "stream",
     "text": [
      " 25%|██▍       | 47/189 [00:01<00:05, 28.17it/s]"
     ]
    },
    {
     "name": "stdout",
     "output_type": "stream",
     "text": [
      "0\n"
     ]
    },
    {
     "name": "stderr",
     "output_type": "stream",
     "text": [
      " 26%|██▋       | 50/189 [00:01<00:04, 28.19it/s]"
     ]
    },
    {
     "name": "stdout",
     "output_type": "stream",
     "text": [
      "0\n"
     ]
    },
    {
     "name": "stderr",
     "output_type": "stream",
     "text": [
      " 28%|██▊       | 53/189 [00:01<00:04, 28.32it/s]"
     ]
    },
    {
     "name": "stdout",
     "output_type": "stream",
     "text": [
      "0\n"
     ]
    },
    {
     "name": "stderr",
     "output_type": "stream",
     "text": [
      " 30%|██▉       | 56/189 [00:02<00:04, 26.70it/s]"
     ]
    },
    {
     "name": "stdout",
     "output_type": "stream",
     "text": [
      "0\n",
      "0\n"
     ]
    },
    {
     "name": "stderr",
     "output_type": "stream",
     "text": [
      " 34%|███▍      | 65/189 [00:02<00:04, 25.64it/s]"
     ]
    },
    {
     "name": "stdout",
     "output_type": "stream",
     "text": [
      "0\n",
      "0\n"
     ]
    },
    {
     "name": "stderr",
     "output_type": "stream",
     "text": [
      " 36%|███▌      | 68/189 [00:02<00:04, 25.06it/s]"
     ]
    },
    {
     "name": "stdout",
     "output_type": "stream",
     "text": [
      "0\n"
     ]
    },
    {
     "name": "stderr",
     "output_type": "stream",
     "text": [
      " 42%|████▏     | 80/189 [00:03<00:04, 27.20it/s]"
     ]
    },
    {
     "name": "stdout",
     "output_type": "stream",
     "text": [
      "0\n"
     ]
    },
    {
     "name": "stderr",
     "output_type": "stream",
     "text": [
      " 44%|████▍     | 83/189 [00:03<00:03, 27.40it/s]"
     ]
    },
    {
     "name": "stdout",
     "output_type": "stream",
     "text": [
      "0\n"
     ]
    },
    {
     "name": "stderr",
     "output_type": "stream",
     "text": [
      " 49%|████▊     | 92/189 [00:03<00:03, 27.92it/s]"
     ]
    },
    {
     "name": "stdout",
     "output_type": "stream",
     "text": [
      "0\n"
     ]
    },
    {
     "name": "stderr",
     "output_type": "stream",
     "text": [
      " 50%|█████     | 95/189 [00:03<00:03, 27.95it/s]"
     ]
    },
    {
     "name": "stdout",
     "output_type": "stream",
     "text": [
      "0\n"
     ]
    },
    {
     "name": "stderr",
     "output_type": "stream",
     "text": [
      " 52%|█████▏    | 98/189 [00:03<00:03, 27.81it/s]"
     ]
    },
    {
     "name": "stdout",
     "output_type": "stream",
     "text": [
      "0\n"
     ]
    },
    {
     "name": "stderr",
     "output_type": "stream",
     "text": [
      " 53%|█████▎    | 101/189 [00:03<00:03, 27.89it/s]"
     ]
    },
    {
     "name": "stdout",
     "output_type": "stream",
     "text": [
      "0\n"
     ]
    },
    {
     "name": "stderr",
     "output_type": "stream",
     "text": [
      " 61%|██████▏   | 116/189 [00:04<00:02, 28.67it/s]"
     ]
    },
    {
     "name": "stdout",
     "output_type": "stream",
     "text": [
      "0\n"
     ]
    },
    {
     "name": "stderr",
     "output_type": "stream",
     "text": [
      " 63%|██████▎   | 120/189 [00:04<00:02, 29.80it/s]"
     ]
    },
    {
     "name": "stdout",
     "output_type": "stream",
     "text": [
      "0\n"
     ]
    },
    {
     "name": "stderr",
     "output_type": "stream",
     "text": [
      " 65%|██████▌   | 123/189 [00:04<00:02, 29.74it/s]"
     ]
    },
    {
     "name": "stdout",
     "output_type": "stream",
     "text": [
      "0\n"
     ]
    },
    {
     "name": "stderr",
     "output_type": "stream",
     "text": [
      " 67%|██████▋   | 126/189 [00:04<00:02, 29.34it/s]"
     ]
    },
    {
     "name": "stdout",
     "output_type": "stream",
     "text": [
      "0\n"
     ]
    },
    {
     "name": "stderr",
     "output_type": "stream",
     "text": [
      " 71%|███████▏  | 135/189 [00:04<00:01, 28.90it/s]"
     ]
    },
    {
     "name": "stdout",
     "output_type": "stream",
     "text": [
      "0\n",
      "0\n"
     ]
    },
    {
     "name": "stderr",
     "output_type": "stream",
     "text": [
      " 73%|███████▎  | 138/189 [00:05<00:01, 28.80it/s]"
     ]
    },
    {
     "name": "stdout",
     "output_type": "stream",
     "text": [
      "0\n"
     ]
    },
    {
     "name": "stderr",
     "output_type": "stream",
     "text": [
      " 75%|███████▍  | 141/189 [00:05<00:01, 28.72it/s]"
     ]
    },
    {
     "name": "stdout",
     "output_type": "stream",
     "text": [
      "0\n"
     ]
    },
    {
     "name": "stderr",
     "output_type": "stream",
     "text": [
      " 90%|█████████ | 171/189 [00:06<00:00, 27.13it/s]"
     ]
    },
    {
     "name": "stdout",
     "output_type": "stream",
     "text": [
      "0\n"
     ]
    },
    {
     "name": "stderr",
     "output_type": "stream",
     "text": [
      "100%|██████████| 189/189 [00:06<00:00, 27.74it/s]\n"
     ]
    },
    {
     "name": "stdout",
     "output_type": "stream",
     "text": [
      "TEST: 0.0091 0.0120 0.0091 5.2869 | 2.8027 0.0143 2.8027 | 0.0063 61.9228 | Time: 6.8192\n",
      "\n",
      "2024-07-23 13:34:32\n",
      "RMSE Mean: 0.08963484012404888 Median: 0.08162315353742329 Cor 0.8972228549674937\n",
      "len_error 0.0104527154012371\n",
      "0.0\n",
      "========================================\n",
      "General Configuration:\n",
      "\tMode: test\n",
      "\tWighting: EW\n",
      "\tArchitecture: HPS\n",
      "\tRep_Grad: False\n",
      "\tMulti_Input: False\n",
      "\tSeed: 777\n",
      "\tSave Path: /home/zhangyuanyuan/radarODE_plus_MTL/Model_saved/\n",
      "\tLoad Path: /home/zhangyuanyuan/radarODE_plus_MTL/Model_saved/step/best_UW.pt\n",
      "\tDevice: cuda:5\n",
      "Optimizer Configuration:\n",
      "\toptim: adam\n",
      "\tlr: 0.0001\n",
      "\tweight_decay: 1e-05\n",
      "Load Model from - /home/zhangyuanyuan/radarODE_plus_MTL/Model_saved/step/best_UW.pt\n",
      "========================================\n",
      "Total Params: 37712961\n",
      "Trainable Params: 37712961\n",
      "Non-trainable Params: 0\n",
      "========================================\n",
      "LOG FORMAT | ECG_shape_LOSS MSE CE norm_MSE | PPI_LOSS CE PPI_sec | Anchor_LOSS mse | TIME\n",
      "00\n",
      "\n"
     ]
    },
    {
     "name": "stderr",
     "output_type": "stream",
     "text": [
      "  0%|          | 0/196 [00:00<?, ?it/s]"
     ]
    },
    {
     "name": "stdout",
     "output_type": "stream",
     "text": [
      "0\n",
      "0\n",
      "0\n"
     ]
    },
    {
     "name": "stderr",
     "output_type": "stream",
     "text": [
      "  5%|▌         | 10/196 [00:00<00:07, 25.24it/s]"
     ]
    },
    {
     "name": "stdout",
     "output_type": "stream",
     "text": [
      "0\n",
      "0\n"
     ]
    },
    {
     "name": "stderr",
     "output_type": "stream",
     "text": [
      "  8%|▊         | 16/196 [00:00<00:06, 27.34it/s]"
     ]
    },
    {
     "name": "stdout",
     "output_type": "stream",
     "text": [
      "0\n",
      "0\n"
     ]
    },
    {
     "name": "stderr",
     "output_type": "stream",
     "text": [
      " 20%|██        | 40/196 [00:01<00:05, 28.28it/s]"
     ]
    },
    {
     "name": "stdout",
     "output_type": "stream",
     "text": [
      "0\n"
     ]
    },
    {
     "name": "stderr",
     "output_type": "stream",
     "text": [
      " 25%|██▌       | 49/196 [00:01<00:05, 28.69it/s]"
     ]
    },
    {
     "name": "stdout",
     "output_type": "stream",
     "text": [
      "0\n"
     ]
    },
    {
     "name": "stderr",
     "output_type": "stream",
     "text": [
      " 27%|██▋       | 52/196 [00:01<00:05, 28.73it/s]"
     ]
    },
    {
     "name": "stdout",
     "output_type": "stream",
     "text": [
      "0\n",
      "0\n"
     ]
    },
    {
     "name": "stderr",
     "output_type": "stream",
     "text": [
      " 28%|██▊       | 55/196 [00:02<00:04, 28.79it/s]"
     ]
    },
    {
     "name": "stdout",
     "output_type": "stream",
     "text": [
      "0\n"
     ]
    },
    {
     "name": "stderr",
     "output_type": "stream",
     "text": [
      " 37%|███▋      | 73/196 [00:02<00:04, 29.06it/s]"
     ]
    },
    {
     "name": "stdout",
     "output_type": "stream",
     "text": [
      "0\n"
     ]
    },
    {
     "name": "stderr",
     "output_type": "stream",
     "text": [
      " 40%|████      | 79/196 [00:02<00:04, 28.95it/s]"
     ]
    },
    {
     "name": "stdout",
     "output_type": "stream",
     "text": [
      "0\n"
     ]
    },
    {
     "name": "stderr",
     "output_type": "stream",
     "text": [
      " 42%|████▏     | 82/196 [00:02<00:03, 28.74it/s]"
     ]
    },
    {
     "name": "stdout",
     "output_type": "stream",
     "text": [
      "0\n"
     ]
    },
    {
     "name": "stderr",
     "output_type": "stream",
     "text": [
      " 46%|████▋     | 91/196 [00:03<00:03, 28.81it/s]"
     ]
    },
    {
     "name": "stdout",
     "output_type": "stream",
     "text": [
      "0\n"
     ]
    },
    {
     "name": "stderr",
     "output_type": "stream",
     "text": [
      " 48%|████▊     | 94/196 [00:03<00:03, 28.95it/s]"
     ]
    },
    {
     "name": "stdout",
     "output_type": "stream",
     "text": [
      "0\n"
     ]
    },
    {
     "name": "stderr",
     "output_type": "stream",
     "text": [
      " 60%|██████    | 118/196 [00:04<00:02, 29.05it/s]"
     ]
    },
    {
     "name": "stdout",
     "output_type": "stream",
     "text": [
      "0\n",
      "0\n"
     ]
    },
    {
     "name": "stderr",
     "output_type": "stream",
     "text": [
      " 63%|██████▎   | 124/196 [00:04<00:02, 28.88it/s]"
     ]
    },
    {
     "name": "stdout",
     "output_type": "stream",
     "text": [
      "0\n"
     ]
    },
    {
     "name": "stderr",
     "output_type": "stream",
     "text": [
      " 65%|██████▍   | 127/196 [00:04<00:02, 28.72it/s]"
     ]
    },
    {
     "name": "stdout",
     "output_type": "stream",
     "text": [
      "0\n"
     ]
    },
    {
     "name": "stderr",
     "output_type": "stream",
     "text": [
      " 66%|██████▋   | 130/196 [00:04<00:02, 28.56it/s]"
     ]
    },
    {
     "name": "stdout",
     "output_type": "stream",
     "text": [
      "0\n"
     ]
    },
    {
     "name": "stderr",
     "output_type": "stream",
     "text": [
      " 68%|██████▊   | 133/196 [00:04<00:02, 28.20it/s]"
     ]
    },
    {
     "name": "stdout",
     "output_type": "stream",
     "text": [
      "0\n"
     ]
    },
    {
     "name": "stderr",
     "output_type": "stream",
     "text": [
      " 69%|██████▉   | 136/196 [00:04<00:02, 28.39it/s]"
     ]
    },
    {
     "name": "stdout",
     "output_type": "stream",
     "text": [
      "0\n"
     ]
    },
    {
     "name": "stderr",
     "output_type": "stream",
     "text": [
      " 71%|███████   | 139/196 [00:04<00:02, 28.11it/s]"
     ]
    },
    {
     "name": "stdout",
     "output_type": "stream",
     "text": [
      "0\n"
     ]
    },
    {
     "name": "stderr",
     "output_type": "stream",
     "text": [
      " 73%|███████▎  | 143/196 [00:05<00:01, 29.13it/s]"
     ]
    },
    {
     "name": "stdout",
     "output_type": "stream",
     "text": [
      "0\n",
      "0\n"
     ]
    },
    {
     "name": "stderr",
     "output_type": "stream",
     "text": [
      " 75%|███████▌  | 147/196 [00:05<00:01, 30.23it/s]"
     ]
    },
    {
     "name": "stdout",
     "output_type": "stream",
     "text": [
      "0\n",
      "0\n"
     ]
    },
    {
     "name": "stderr",
     "output_type": "stream",
     "text": [
      " 79%|███████▉  | 155/196 [00:05<00:01, 30.44it/s]"
     ]
    },
    {
     "name": "stdout",
     "output_type": "stream",
     "text": [
      "0\n"
     ]
    },
    {
     "name": "stderr",
     "output_type": "stream",
     "text": [
      " 81%|████████  | 159/196 [00:05<00:01, 29.91it/s]"
     ]
    },
    {
     "name": "stdout",
     "output_type": "stream",
     "text": [
      "0\n"
     ]
    },
    {
     "name": "stderr",
     "output_type": "stream",
     "text": [
      " 83%|████████▎ | 162/196 [00:05<00:01, 29.54it/s]"
     ]
    },
    {
     "name": "stdout",
     "output_type": "stream",
     "text": [
      "0\n"
     ]
    },
    {
     "name": "stderr",
     "output_type": "stream",
     "text": [
      " 84%|████████▍ | 165/196 [00:05<00:01, 29.34it/s]"
     ]
    },
    {
     "name": "stdout",
     "output_type": "stream",
     "text": [
      "0\n"
     ]
    },
    {
     "name": "stderr",
     "output_type": "stream",
     "text": [
      " 87%|████████▋ | 171/196 [00:06<00:00, 28.87it/s]"
     ]
    },
    {
     "name": "stdout",
     "output_type": "stream",
     "text": [
      "0\n"
     ]
    },
    {
     "name": "stderr",
     "output_type": "stream",
     "text": [
      " 89%|████████▉ | 174/196 [00:06<00:00, 28.93it/s]"
     ]
    },
    {
     "name": "stdout",
     "output_type": "stream",
     "text": [
      "0\n",
      "0\n"
     ]
    },
    {
     "name": "stderr",
     "output_type": "stream",
     "text": [
      " 90%|█████████ | 177/196 [00:06<00:00, 28.95it/s]"
     ]
    },
    {
     "name": "stdout",
     "output_type": "stream",
     "text": [
      "0\n"
     ]
    },
    {
     "name": "stderr",
     "output_type": "stream",
     "text": [
      "100%|██████████| 196/196 [00:06<00:00, 28.70it/s]\n"
     ]
    },
    {
     "name": "stdout",
     "output_type": "stream",
     "text": [
      "TEST: 0.0182 0.0213 0.0182 5.2925 | 3.0623 0.0130 3.0623 | 0.0069 61.9554 | Time: 6.8368\n",
      "\n",
      "2024-07-23 13:34:43\n",
      "RMSE Mean: 0.12584474274605992 Median: 0.12701722478056562 Cor 0.7320799668341966\n",
      "len_error 0.014223076965528485\n",
      "4.0\n",
      "========================================\n",
      "General Configuration:\n",
      "\tMode: test\n",
      "\tWighting: EW\n",
      "\tArchitecture: HPS\n",
      "\tRep_Grad: False\n",
      "\tMulti_Input: False\n",
      "\tSeed: 777\n",
      "\tSave Path: /home/zhangyuanyuan/radarODE_plus_MTL/Model_saved/\n",
      "\tLoad Path: /home/zhangyuanyuan/radarODE_plus_MTL/Model_saved/step/best_UW.pt\n",
      "\tDevice: cuda:5\n",
      "Optimizer Configuration:\n",
      "\toptim: adam\n",
      "\tlr: 0.0001\n",
      "\tweight_decay: 1e-05\n",
      "Load Model from - /home/zhangyuanyuan/radarODE_plus_MTL/Model_saved/step/best_UW.pt\n",
      "========================================\n",
      "Total Params: 37712961\n",
      "Trainable Params: 37712961\n",
      "Non-trainable Params: 0\n",
      "========================================\n",
      "LOG FORMAT | ECG_shape_LOSS MSE CE norm_MSE | PPI_LOSS CE PPI_sec | Anchor_LOSS mse | TIME\n"
     ]
    },
    {
     "name": "stderr",
     "output_type": "stream",
     "text": [
      "  0%|          | 0/223 [00:00<?, ?it/s]"
     ]
    },
    {
     "name": "stdout",
     "output_type": "stream",
     "text": [
      "0\n",
      "0\n",
      "0\n"
     ]
    },
    {
     "name": "stderr",
     "output_type": "stream",
     "text": [
      "  6%|▋         | 14/223 [00:00<00:07, 29.64it/s]"
     ]
    },
    {
     "name": "stdout",
     "output_type": "stream",
     "text": [
      "0\n"
     ]
    },
    {
     "name": "stderr",
     "output_type": "stream",
     "text": [
      " 10%|▉         | 22/223 [00:00<00:06, 30.84it/s]"
     ]
    },
    {
     "name": "stdout",
     "output_type": "stream",
     "text": [
      "0\n",
      "0\n"
     ]
    },
    {
     "name": "stderr",
     "output_type": "stream",
     "text": [
      " 13%|█▎        | 30/223 [00:01<00:06, 29.70it/s]"
     ]
    },
    {
     "name": "stdout",
     "output_type": "stream",
     "text": [
      "0\n"
     ]
    },
    {
     "name": "stderr",
     "output_type": "stream",
     "text": [
      " 15%|█▍        | 33/223 [00:01<00:06, 29.30it/s]"
     ]
    },
    {
     "name": "stdout",
     "output_type": "stream",
     "text": [
      "0\n"
     ]
    },
    {
     "name": "stderr",
     "output_type": "stream",
     "text": [
      " 19%|█▉        | 42/223 [00:01<00:06, 28.83it/s]"
     ]
    },
    {
     "name": "stdout",
     "output_type": "stream",
     "text": [
      "0\n",
      "0\n"
     ]
    },
    {
     "name": "stderr",
     "output_type": "stream",
     "text": [
      " 20%|██        | 45/223 [00:01<00:06, 28.49it/s]"
     ]
    },
    {
     "name": "stdout",
     "output_type": "stream",
     "text": [
      "0\n"
     ]
    },
    {
     "name": "stderr",
     "output_type": "stream",
     "text": [
      " 23%|██▎       | 51/223 [00:01<00:06, 28.64it/s]"
     ]
    },
    {
     "name": "stdout",
     "output_type": "stream",
     "text": [
      "0\n"
     ]
    },
    {
     "name": "stderr",
     "output_type": "stream",
     "text": [
      " 26%|██▌       | 57/223 [00:01<00:05, 28.89it/s]"
     ]
    },
    {
     "name": "stdout",
     "output_type": "stream",
     "text": [
      "0\n"
     ]
    },
    {
     "name": "stderr",
     "output_type": "stream",
     "text": [
      " 27%|██▋       | 60/223 [00:02<00:05, 28.99it/s]"
     ]
    },
    {
     "name": "stdout",
     "output_type": "stream",
     "text": [
      "0\n"
     ]
    },
    {
     "name": "stderr",
     "output_type": "stream",
     "text": [
      " 30%|██▉       | 66/223 [00:02<00:05, 28.98it/s]"
     ]
    },
    {
     "name": "stdout",
     "output_type": "stream",
     "text": [
      "0\n"
     ]
    },
    {
     "name": "stderr",
     "output_type": "stream",
     "text": [
      " 34%|███▎      | 75/223 [00:02<00:05, 28.29it/s]"
     ]
    },
    {
     "name": "stdout",
     "output_type": "stream",
     "text": [
      "0\n"
     ]
    },
    {
     "name": "stderr",
     "output_type": "stream",
     "text": [
      " 35%|███▍      | 78/223 [00:02<00:05, 28.55it/s]"
     ]
    },
    {
     "name": "stdout",
     "output_type": "stream",
     "text": [
      "0\n",
      "0\n"
     ]
    },
    {
     "name": "stderr",
     "output_type": "stream",
     "text": [
      " 39%|███▉      | 87/223 [00:03<00:04, 28.93it/s]"
     ]
    },
    {
     "name": "stdout",
     "output_type": "stream",
     "text": [
      "0\n",
      "0\n"
     ]
    },
    {
     "name": "stderr",
     "output_type": "stream",
     "text": [
      " 42%|████▏     | 93/223 [00:03<00:04, 28.96it/s]"
     ]
    },
    {
     "name": "stdout",
     "output_type": "stream",
     "text": [
      "0\n"
     ]
    },
    {
     "name": "stderr",
     "output_type": "stream",
     "text": [
      " 46%|████▌     | 102/223 [00:03<00:04, 29.14it/s]"
     ]
    },
    {
     "name": "stdout",
     "output_type": "stream",
     "text": [
      "0\n",
      "0\n"
     ]
    },
    {
     "name": "stderr",
     "output_type": "stream",
     "text": [
      " 47%|████▋     | 105/223 [00:03<00:04, 28.91it/s]"
     ]
    },
    {
     "name": "stdout",
     "output_type": "stream",
     "text": [
      "0\n"
     ]
    },
    {
     "name": "stderr",
     "output_type": "stream",
     "text": [
      " 52%|█████▏    | 117/223 [00:04<00:03, 28.92it/s]"
     ]
    },
    {
     "name": "stdout",
     "output_type": "stream",
     "text": [
      "0\n",
      "0\n"
     ]
    },
    {
     "name": "stderr",
     "output_type": "stream",
     "text": [
      " 60%|█████▉    | 133/223 [00:04<00:03, 28.89it/s]"
     ]
    },
    {
     "name": "stdout",
     "output_type": "stream",
     "text": [
      "0\n"
     ]
    },
    {
     "name": "stderr",
     "output_type": "stream",
     "text": [
      " 65%|██████▌   | 145/223 [00:05<00:02, 28.57it/s]"
     ]
    },
    {
     "name": "stdout",
     "output_type": "stream",
     "text": [
      "0\n"
     ]
    },
    {
     "name": "stderr",
     "output_type": "stream",
     "text": [
      " 68%|██████▊   | 151/223 [00:05<00:02, 28.47it/s]"
     ]
    },
    {
     "name": "stdout",
     "output_type": "stream",
     "text": [
      "0\n"
     ]
    },
    {
     "name": "stderr",
     "output_type": "stream",
     "text": [
      " 72%|███████▏  | 160/223 [00:05<00:02, 28.43it/s]"
     ]
    },
    {
     "name": "stdout",
     "output_type": "stream",
     "text": [
      "0\n"
     ]
    },
    {
     "name": "stderr",
     "output_type": "stream",
     "text": [
      " 74%|███████▍  | 166/223 [00:05<00:01, 28.57it/s]"
     ]
    },
    {
     "name": "stdout",
     "output_type": "stream",
     "text": [
      "0\n"
     ]
    },
    {
     "name": "stderr",
     "output_type": "stream",
     "text": [
      " 76%|███████▌  | 169/223 [00:05<00:01, 28.40it/s]"
     ]
    },
    {
     "name": "stdout",
     "output_type": "stream",
     "text": [
      "0\n"
     ]
    },
    {
     "name": "stderr",
     "output_type": "stream",
     "text": [
      " 77%|███████▋  | 172/223 [00:05<00:01, 28.57it/s]"
     ]
    },
    {
     "name": "stdout",
     "output_type": "stream",
     "text": [
      "0\n",
      "0\n"
     ]
    },
    {
     "name": "stderr",
     "output_type": "stream",
     "text": [
      " 80%|███████▉  | 178/223 [00:06<00:01, 28.28it/s]"
     ]
    },
    {
     "name": "stdout",
     "output_type": "stream",
     "text": [
      "0\n",
      "0\n"
     ]
    },
    {
     "name": "stderr",
     "output_type": "stream",
     "text": [
      " 83%|████████▎ | 184/223 [00:06<00:01, 28.11it/s]"
     ]
    },
    {
     "name": "stdout",
     "output_type": "stream",
     "text": [
      "0\n"
     ]
    },
    {
     "name": "stderr",
     "output_type": "stream",
     "text": [
      " 87%|████████▋ | 193/223 [00:06<00:01, 28.47it/s]"
     ]
    },
    {
     "name": "stdout",
     "output_type": "stream",
     "text": [
      "0\n",
      "0\n"
     ]
    },
    {
     "name": "stderr",
     "output_type": "stream",
     "text": [
      " 88%|████████▊ | 196/223 [00:06<00:00, 28.57it/s]"
     ]
    },
    {
     "name": "stdout",
     "output_type": "stream",
     "text": [
      "0\n",
      "0\n"
     ]
    },
    {
     "name": "stderr",
     "output_type": "stream",
     "text": [
      " 89%|████████▉ | 199/223 [00:06<00:00, 28.64it/s]"
     ]
    },
    {
     "name": "stdout",
     "output_type": "stream",
     "text": [
      "0\n"
     ]
    },
    {
     "name": "stderr",
     "output_type": "stream",
     "text": [
      " 92%|█████████▏| 205/223 [00:07<00:00, 28.61it/s]"
     ]
    },
    {
     "name": "stdout",
     "output_type": "stream",
     "text": [
      "0\n",
      "0\n"
     ]
    },
    {
     "name": "stderr",
     "output_type": "stream",
     "text": [
      "100%|██████████| 223/223 [00:07<00:00, 28.78it/s]\n"
     ]
    },
    {
     "name": "stdout",
     "output_type": "stream",
     "text": [
      "TEST: 0.0141 0.0172 0.0141 5.2877 | 2.6817 0.0134 2.6817 | 0.0071 62.2687 | Time: 7.7546\n",
      "\n",
      "2024-07-23 13:34:54\n",
      "RMSE Mean: 0.11731299603256015 Median: 0.10987891943107933 Cor 0.8036062345330244\n",
      "len_error 0.020907118962649678\n",
      "-6.0\n",
      "========================================\n",
      "General Configuration:\n",
      "\tMode: test\n",
      "\tWighting: EW\n",
      "\tArchitecture: HPS\n",
      "\tRep_Grad: False\n",
      "\tMulti_Input: False\n",
      "\tSeed: 777\n",
      "\tSave Path: /home/zhangyuanyuan/radarODE_plus_MTL/Model_saved/\n",
      "\tLoad Path: /home/zhangyuanyuan/radarODE_plus_MTL/Model_saved/step/best_UW.pt\n",
      "\tDevice: cuda:5\n",
      "Optimizer Configuration:\n",
      "\toptim: adam\n",
      "\tlr: 0.0001\n",
      "\tweight_decay: 1e-05\n",
      "Load Model from - /home/zhangyuanyuan/radarODE_plus_MTL/Model_saved/step/best_UW.pt\n",
      "========================================\n",
      "Total Params: 37712961\n",
      "Trainable Params: 37712961\n",
      "Non-trainable Params: 0\n",
      "========================================\n",
      "LOG FORMAT | ECG_shape_LOSS MSE CE norm_MSE | PPI_LOSS CE PPI_sec | Anchor_LOSS mse | TIME\n",
      "0\n"
     ]
    },
    {
     "name": "stderr",
     "output_type": "stream",
     "text": [
      "  0%|          | 0/208 [00:00<?, ?it/s]"
     ]
    },
    {
     "name": "stdout",
     "output_type": "stream",
     "text": [
      "0\n",
      "0\n",
      "0\n"
     ]
    },
    {
     "name": "stderr",
     "output_type": "stream",
     "text": [
      "  1%|          | 2/208 [00:00<00:12, 16.24it/s]"
     ]
    },
    {
     "name": "stdout",
     "output_type": "stream",
     "text": [
      "0\n",
      "0\n"
     ]
    },
    {
     "name": "stderr",
     "output_type": "stream",
     "text": [
      "  5%|▍         | 10/208 [00:00<00:06, 30.80it/s]"
     ]
    },
    {
     "name": "stdout",
     "output_type": "stream",
     "text": [
      "0\n"
     ]
    },
    {
     "name": "stderr",
     "output_type": "stream",
     "text": [
      " 12%|█▏        | 25/208 [00:00<00:06, 26.66it/s]"
     ]
    },
    {
     "name": "stdout",
     "output_type": "stream",
     "text": [
      "0\n",
      "0\n"
     ]
    },
    {
     "name": "stderr",
     "output_type": "stream",
     "text": [
      " 15%|█▍        | 31/208 [00:01<00:06, 25.37it/s]"
     ]
    },
    {
     "name": "stdout",
     "output_type": "stream",
     "text": [
      "0\n",
      "0\n"
     ]
    },
    {
     "name": "stderr",
     "output_type": "stream",
     "text": [
      " 16%|█▋        | 34/208 [00:01<00:06, 24.99it/s]"
     ]
    },
    {
     "name": "stdout",
     "output_type": "stream",
     "text": [
      "0\n",
      "0\n"
     ]
    },
    {
     "name": "stderr",
     "output_type": "stream",
     "text": [
      " 18%|█▊        | 37/208 [00:01<00:06, 24.81it/s]"
     ]
    },
    {
     "name": "stdout",
     "output_type": "stream",
     "text": [
      "0\n"
     ]
    },
    {
     "name": "stderr",
     "output_type": "stream",
     "text": [
      " 21%|██        | 43/208 [00:01<00:06, 24.49it/s]"
     ]
    },
    {
     "name": "stdout",
     "output_type": "stream",
     "text": [
      "0\n",
      "0\n"
     ]
    },
    {
     "name": "stderr",
     "output_type": "stream",
     "text": [
      " 26%|██▋       | 55/208 [00:02<00:05, 26.77it/s]"
     ]
    },
    {
     "name": "stdout",
     "output_type": "stream",
     "text": [
      "0\n"
     ]
    },
    {
     "name": "stderr",
     "output_type": "stream",
     "text": [
      " 29%|██▉       | 61/208 [00:02<00:05, 27.66it/s]"
     ]
    },
    {
     "name": "stdout",
     "output_type": "stream",
     "text": [
      "0\n"
     ]
    },
    {
     "name": "stderr",
     "output_type": "stream",
     "text": [
      " 31%|███       | 64/208 [00:02<00:05, 27.58it/s]"
     ]
    },
    {
     "name": "stdout",
     "output_type": "stream",
     "text": [
      "0\n"
     ]
    },
    {
     "name": "stderr",
     "output_type": "stream",
     "text": [
      " 32%|███▏      | 67/208 [00:02<00:05, 27.80it/s]"
     ]
    },
    {
     "name": "stdout",
     "output_type": "stream",
     "text": [
      "0\n"
     ]
    },
    {
     "name": "stderr",
     "output_type": "stream",
     "text": [
      " 34%|███▎      | 70/208 [00:02<00:04, 27.97it/s]"
     ]
    },
    {
     "name": "stdout",
     "output_type": "stream",
     "text": [
      "0\n"
     ]
    },
    {
     "name": "stderr",
     "output_type": "stream",
     "text": [
      " 35%|███▌      | 73/208 [00:02<00:04, 28.14it/s]"
     ]
    },
    {
     "name": "stdout",
     "output_type": "stream",
     "text": [
      "0\n"
     ]
    },
    {
     "name": "stderr",
     "output_type": "stream",
     "text": [
      " 37%|███▋      | 76/208 [00:02<00:04, 27.99it/s]"
     ]
    },
    {
     "name": "stdout",
     "output_type": "stream",
     "text": [
      "0\n",
      "0\n"
     ]
    },
    {
     "name": "stderr",
     "output_type": "stream",
     "text": [
      " 38%|███▊      | 79/208 [00:02<00:04, 28.07it/s]"
     ]
    },
    {
     "name": "stdout",
     "output_type": "stream",
     "text": [
      "0\n"
     ]
    },
    {
     "name": "stderr",
     "output_type": "stream",
     "text": [
      " 39%|███▉      | 82/208 [00:03<00:04, 28.16it/s]"
     ]
    },
    {
     "name": "stdout",
     "output_type": "stream",
     "text": [
      "0\n",
      "0\n"
     ]
    },
    {
     "name": "stderr",
     "output_type": "stream",
     "text": [
      " 41%|████      | 85/208 [00:03<00:04, 28.36it/s]"
     ]
    },
    {
     "name": "stdout",
     "output_type": "stream",
     "text": [
      "0\n"
     ]
    },
    {
     "name": "stderr",
     "output_type": "stream",
     "text": [
      " 42%|████▏     | 88/208 [00:03<00:04, 28.34it/s]"
     ]
    },
    {
     "name": "stdout",
     "output_type": "stream",
     "text": [
      "0\n"
     ]
    },
    {
     "name": "stderr",
     "output_type": "stream",
     "text": [
      " 44%|████▍     | 91/208 [00:03<00:04, 28.37it/s]"
     ]
    },
    {
     "name": "stdout",
     "output_type": "stream",
     "text": [
      "0\n"
     ]
    },
    {
     "name": "stderr",
     "output_type": "stream",
     "text": [
      " 54%|█████▍    | 112/208 [00:04<00:03, 28.53it/s]"
     ]
    },
    {
     "name": "stdout",
     "output_type": "stream",
     "text": [
      "0\n"
     ]
    },
    {
     "name": "stderr",
     "output_type": "stream",
     "text": [
      " 55%|█████▌    | 115/208 [00:04<00:03, 28.49it/s]"
     ]
    },
    {
     "name": "stdout",
     "output_type": "stream",
     "text": [
      "0\n"
     ]
    },
    {
     "name": "stderr",
     "output_type": "stream",
     "text": [
      " 64%|██████▍   | 133/208 [00:04<00:02, 28.68it/s]"
     ]
    },
    {
     "name": "stdout",
     "output_type": "stream",
     "text": [
      "0\n"
     ]
    },
    {
     "name": "stderr",
     "output_type": "stream",
     "text": [
      " 71%|███████   | 148/208 [00:05<00:02, 27.31it/s]"
     ]
    },
    {
     "name": "stdout",
     "output_type": "stream",
     "text": [
      "0\n"
     ]
    },
    {
     "name": "stderr",
     "output_type": "stream",
     "text": [
      " 73%|███████▎  | 151/208 [00:05<00:02, 26.87it/s]"
     ]
    },
    {
     "name": "stdout",
     "output_type": "stream",
     "text": [
      "0\n"
     ]
    },
    {
     "name": "stderr",
     "output_type": "stream",
     "text": [
      " 74%|███████▍  | 154/208 [00:05<00:02, 26.82it/s]"
     ]
    },
    {
     "name": "stdout",
     "output_type": "stream",
     "text": [
      "0\n"
     ]
    },
    {
     "name": "stderr",
     "output_type": "stream",
     "text": [
      " 80%|███████▉  | 166/208 [00:06<00:01, 26.73it/s]"
     ]
    },
    {
     "name": "stdout",
     "output_type": "stream",
     "text": [
      "0\n"
     ]
    },
    {
     "name": "stderr",
     "output_type": "stream",
     "text": [
      " 84%|████████▍ | 175/208 [00:06<00:01, 27.83it/s]"
     ]
    },
    {
     "name": "stdout",
     "output_type": "stream",
     "text": [
      "0\n"
     ]
    },
    {
     "name": "stderr",
     "output_type": "stream",
     "text": [
      " 86%|████████▌ | 179/208 [00:06<00:01, 28.57it/s]"
     ]
    },
    {
     "name": "stdout",
     "output_type": "stream",
     "text": [
      "0\n"
     ]
    },
    {
     "name": "stderr",
     "output_type": "stream",
     "text": [
      " 88%|████████▊ | 183/208 [00:06<00:00, 30.50it/s]"
     ]
    },
    {
     "name": "stdout",
     "output_type": "stream",
     "text": [
      "0\n"
     ]
    },
    {
     "name": "stderr",
     "output_type": "stream",
     "text": [
      " 90%|████████▉ | 187/208 [00:06<00:00, 31.97it/s]"
     ]
    },
    {
     "name": "stdout",
     "output_type": "stream",
     "text": [
      "0\n"
     ]
    },
    {
     "name": "stderr",
     "output_type": "stream",
     "text": [
      "100%|██████████| 208/208 [00:07<00:00, 28.45it/s]\n"
     ]
    },
    {
     "name": "stdout",
     "output_type": "stream",
     "text": [
      "TEST: 0.0191 0.0222 0.0191 5.2915 | 2.6548 0.0083 2.6548 | 0.0062 62.1412 | Time: 7.3191\n",
      "\n",
      "2024-07-23 13:35:05\n",
      "RMSE Mean: 0.13498118725862088 Median: 0.12933883284388226 Cor 0.7410192200660666\n",
      "len_error 0.009411786800030629\n",
      "3.0\n",
      "========================================\n",
      "General Configuration:\n",
      "\tMode: test\n",
      "\tWighting: EW\n",
      "\tArchitecture: HPS\n",
      "\tRep_Grad: False\n",
      "\tMulti_Input: False\n",
      "\tSeed: 777\n",
      "\tSave Path: /home/zhangyuanyuan/radarODE_plus_MTL/Model_saved/\n",
      "\tLoad Path: /home/zhangyuanyuan/radarODE_plus_MTL/Model_saved/step/best_UW.pt\n",
      "\tDevice: cuda:5\n",
      "Optimizer Configuration:\n",
      "\toptim: adam\n",
      "\tlr: 0.0001\n",
      "\tweight_decay: 1e-05\n",
      "Load Model from - /home/zhangyuanyuan/radarODE_plus_MTL/Model_saved/step/best_UW.pt\n",
      "========================================\n",
      "Total Params: 37712961\n",
      "Trainable Params: 37712961\n",
      "Non-trainable Params: 0\n",
      "========================================\n",
      "LOG FORMAT | ECG_shape_LOSS MSE CE norm_MSE | PPI_LOSS CE PPI_sec | Anchor_LOSS mse | TIME\n",
      "00\n",
      "\n"
     ]
    },
    {
     "name": "stderr",
     "output_type": "stream",
     "text": [
      "  0%|          | 0/193 [00:00<?, ?it/s]"
     ]
    },
    {
     "name": "stdout",
     "output_type": "stream",
     "text": [
      "00\n",
      "\n",
      "0\n"
     ]
    },
    {
     "name": "stderr",
     "output_type": "stream",
     "text": [
      "  1%|          | 2/193 [00:00<00:12, 14.93it/s]"
     ]
    },
    {
     "name": "stdout",
     "output_type": "stream",
     "text": [
      "0\n"
     ]
    },
    {
     "name": "stderr",
     "output_type": "stream",
     "text": [
      "  3%|▎         | 5/193 [00:00<00:08, 21.68it/s]"
     ]
    },
    {
     "name": "stdout",
     "output_type": "stream",
     "text": [
      "0\n"
     ]
    },
    {
     "name": "stderr",
     "output_type": "stream",
     "text": [
      "  7%|▋         | 14/193 [00:00<00:06, 26.69it/s]"
     ]
    },
    {
     "name": "stdout",
     "output_type": "stream",
     "text": [
      "0\n"
     ]
    },
    {
     "name": "stderr",
     "output_type": "stream",
     "text": [
      " 12%|█▏        | 24/193 [00:00<00:05, 28.59it/s]"
     ]
    },
    {
     "name": "stdout",
     "output_type": "stream",
     "text": [
      "0\n"
     ]
    },
    {
     "name": "stderr",
     "output_type": "stream",
     "text": [
      " 16%|█▌        | 31/193 [00:01<00:05, 29.00it/s]"
     ]
    },
    {
     "name": "stdout",
     "output_type": "stream",
     "text": [
      "0\n"
     ]
    },
    {
     "name": "stderr",
     "output_type": "stream",
     "text": [
      " 18%|█▊        | 34/193 [00:01<00:05, 28.61it/s]"
     ]
    },
    {
     "name": "stdout",
     "output_type": "stream",
     "text": [
      "0\n"
     ]
    },
    {
     "name": "stderr",
     "output_type": "stream",
     "text": [
      " 19%|█▉        | 37/193 [00:01<00:05, 26.80it/s]"
     ]
    },
    {
     "name": "stdout",
     "output_type": "stream",
     "text": [
      "0\n",
      "0\n"
     ]
    },
    {
     "name": "stderr",
     "output_type": "stream",
     "text": [
      " 25%|██▌       | 49/193 [00:01<00:05, 25.20it/s]"
     ]
    },
    {
     "name": "stdout",
     "output_type": "stream",
     "text": [
      "0\n",
      "0\n"
     ]
    },
    {
     "name": "stderr",
     "output_type": "stream",
     "text": [
      " 28%|██▊       | 55/193 [00:02<00:05, 26.97it/s]"
     ]
    },
    {
     "name": "stdout",
     "output_type": "stream",
     "text": [
      "0\n"
     ]
    },
    {
     "name": "stderr",
     "output_type": "stream",
     "text": [
      " 30%|███       | 58/193 [00:02<00:04, 27.45it/s]"
     ]
    },
    {
     "name": "stdout",
     "output_type": "stream",
     "text": [
      "0\n",
      "0\n"
     ]
    },
    {
     "name": "stderr",
     "output_type": "stream",
     "text": [
      " 32%|███▏      | 61/193 [00:02<00:05, 26.25it/s]"
     ]
    },
    {
     "name": "stdout",
     "output_type": "stream",
     "text": [
      "0\n"
     ]
    },
    {
     "name": "stderr",
     "output_type": "stream",
     "text": [
      " 36%|███▋      | 70/193 [00:02<00:04, 27.72it/s]"
     ]
    },
    {
     "name": "stdout",
     "output_type": "stream",
     "text": [
      "0\n",
      "0\n"
     ]
    },
    {
     "name": "stderr",
     "output_type": "stream",
     "text": [
      " 38%|███▊      | 73/193 [00:02<00:04, 27.63it/s]"
     ]
    },
    {
     "name": "stdout",
     "output_type": "stream",
     "text": [
      "0\n"
     ]
    },
    {
     "name": "stderr",
     "output_type": "stream",
     "text": [
      " 41%|████      | 79/193 [00:02<00:04, 26.42it/s]"
     ]
    },
    {
     "name": "stdout",
     "output_type": "stream",
     "text": [
      "0\n"
     ]
    },
    {
     "name": "stderr",
     "output_type": "stream",
     "text": [
      " 42%|████▏     | 82/193 [00:03<00:04, 26.41it/s]"
     ]
    },
    {
     "name": "stdout",
     "output_type": "stream",
     "text": [
      "0\n"
     ]
    },
    {
     "name": "stderr",
     "output_type": "stream",
     "text": [
      " 47%|████▋     | 91/193 [00:03<00:03, 27.71it/s]"
     ]
    },
    {
     "name": "stdout",
     "output_type": "stream",
     "text": [
      "0\n"
     ]
    },
    {
     "name": "stderr",
     "output_type": "stream",
     "text": [
      " 49%|████▊     | 94/193 [00:03<00:03, 28.18it/s]"
     ]
    },
    {
     "name": "stdout",
     "output_type": "stream",
     "text": [
      "0\n"
     ]
    },
    {
     "name": "stderr",
     "output_type": "stream",
     "text": [
      " 50%|█████     | 97/193 [00:03<00:03, 28.61it/s]"
     ]
    },
    {
     "name": "stdout",
     "output_type": "stream",
     "text": [
      "0\n",
      "0\n"
     ]
    },
    {
     "name": "stderr",
     "output_type": "stream",
     "text": [
      " 52%|█████▏    | 100/193 [00:03<00:03, 28.62it/s]"
     ]
    },
    {
     "name": "stdout",
     "output_type": "stream",
     "text": [
      "0\n",
      "0\n"
     ]
    },
    {
     "name": "stderr",
     "output_type": "stream",
     "text": [
      " 53%|█████▎    | 103/193 [00:03<00:03, 28.50it/s]"
     ]
    },
    {
     "name": "stdout",
     "output_type": "stream",
     "text": [
      "0\n",
      "0\n"
     ]
    },
    {
     "name": "stderr",
     "output_type": "stream",
     "text": [
      " 62%|██████▏   | 120/193 [00:04<00:02, 29.58it/s]"
     ]
    },
    {
     "name": "stdout",
     "output_type": "stream",
     "text": [
      "0\n"
     ]
    },
    {
     "name": "stderr",
     "output_type": "stream",
     "text": [
      " 70%|███████   | 136/193 [00:04<00:01, 29.72it/s]"
     ]
    },
    {
     "name": "stdout",
     "output_type": "stream",
     "text": [
      "0\n"
     ]
    },
    {
     "name": "stderr",
     "output_type": "stream",
     "text": [
      " 79%|███████▉  | 152/193 [00:05<00:01, 31.06it/s]"
     ]
    },
    {
     "name": "stdout",
     "output_type": "stream",
     "text": [
      "0\n"
     ]
    },
    {
     "name": "stderr",
     "output_type": "stream",
     "text": [
      " 81%|████████  | 156/193 [00:05<00:01, 30.56it/s]"
     ]
    },
    {
     "name": "stdout",
     "output_type": "stream",
     "text": [
      "0\n"
     ]
    },
    {
     "name": "stderr",
     "output_type": "stream",
     "text": [
      " 89%|████████▊ | 171/193 [00:06<00:00, 28.91it/s]"
     ]
    },
    {
     "name": "stdout",
     "output_type": "stream",
     "text": [
      "0\n"
     ]
    },
    {
     "name": "stderr",
     "output_type": "stream",
     "text": [
      " 91%|█████████ | 175/193 [00:06<00:00, 29.91it/s]"
     ]
    },
    {
     "name": "stdout",
     "output_type": "stream",
     "text": [
      "0\n"
     ]
    },
    {
     "name": "stderr",
     "output_type": "stream",
     "text": [
      "100%|██████████| 193/193 [00:06<00:00, 28.51it/s]\n"
     ]
    },
    {
     "name": "stdout",
     "output_type": "stream",
     "text": [
      "TEST: 0.0132 0.0162 0.0132 5.2850 | 3.1459 0.0130 3.1459 | 0.0061 62.0711 | Time: 6.7754\n",
      "\n",
      "2024-07-23 13:35:15\n",
      "RMSE Mean: 0.10853253472567662 Median: 0.09696803599936435 Cor 0.914431768489992\n",
      "len_error 0.01355759160601323\n",
      "1.0\n"
     ]
    }
   ],
   "source": [
    "\n",
    "# ID_test = np.array([91])\n",
    "# ID_test = np.arange(92, 93)\n",
    "ID_test = np.array([75, 76, 77, 78,79, 80, 81, 82, 83, 84, 85])\n",
    "# ID_test = np.array([79])\n",
    "ecg_seg_index_root = \"/home/zhangyuanyuan/Dataset/data_MMECG/ecg_seg_index/\"\n",
    "aug_snrr = [100, 6, 3,2,1, 0, -3, -6, -8]\n",
    "aug_snrr = [100, 100.5,101,101.5,102,102.5]\n",
    "aug_snrr = [4,2,1,0]\n",
    "aug_snrr = [112.5,113]\n",
    "# aug_snrr = [113]\n",
    "for params.aug_snr in aug_snrr:\n",
    "    print(params.aug_snr)\n",
    "    rmse_final, pcc_final, len_error, time_error_final, MDR_final = [], [], [], [], []\n",
    "    for obj_index in ID_test:\n",
    "        radarODE_test_set = dataset_concat(ID_selected=np.array([obj_index]), data_root=params.dataset_path, aug_snr = params.aug_snr)\n",
    "        testloader = torch.utils.data.DataLoader(dataset=radarODE_test_set, batch_size=params.test_bs, shuffle=False, num_workers=8, pin_memory=True, drop_last=True)\n",
    "        kwargs, optim_param, scheduler_param = prepare_args(params)\n",
    "        # # define backbone and en/decoders\n",
    "        def encoder_class(): \n",
    "            return backbone(in_channels=50)\n",
    "        num_out_channels = {'PPI': 260, 'Anchor': 200}\n",
    "        decoders = nn.ModuleDict({'ECG_shape': shapeDecoder(),\n",
    "                                    'PPI': PPI_decoder(output_dim=num_out_channels['PPI']),\n",
    "                                    # 'Anchor': PPI_decoder(output_dim=num_out_channels['Anchor'])})\n",
    "                                    'Anchor': anchor_decoder()})\n",
    "\n",
    "        class radarODE_plus(Trainer):\n",
    "            def __init__(self, task_dict, weighting, architecture, encoder_class,\n",
    "                            decoders, rep_grad, multi_input, optim_param, scheduler_param, **kwargs):\n",
    "                super(radarODE_plus, self).__init__(task_dict=task_dict, weighting=weighting, architecture=architecture, encoder_class=encoder_class, decoders=decoders, rep_grad=rep_grad, multi_input=multi_input, optim_param=optim_param, scheduler_param=scheduler_param, modelName=f'{weighting}', **kwargs)\n",
    "        radarODE_plus_model = radarODE_plus(task_dict=task_dict, weighting=params.weighting, architecture=params.arch, encoder_class=encoder_class, decoders=decoders, \n",
    "        rep_grad=params.rep_grad, multi_input=params.multi_input, optim_param=optim_param, scheduler_param=scheduler_param, save_path=params.save_path, load_path=params.load_path, **kwargs)\n",
    "        Inputs, Preds, Gts, Losses, improvement = radarODE_plus_model.test_visiual(testloader)\n",
    "        ECG_gts, ECG_pred = [], []\n",
    "        PPI_gts, PPI_pred = [], []\n",
    "        Anchor_gts, Anchor_pred =[], []\n",
    "        ssts, masks = [], []\n",
    "        losses_ppi, losses_mse, losses_anchor, losses_mtl = [], [], [], []\n",
    "        for i in range(len(Preds)):\n",
    "            ECG_gts.append(Gts[i]['ECG_shape'].detach().cpu().numpy().squeeze())\n",
    "            ECG_pred.append(Preds[i]['ECG_shape'].detach().cpu().numpy().squeeze())\n",
    "            PPI_gts.append(Gts[i]['PPI'].detach().cpu().numpy().squeeze())\n",
    "            PPI_pred.append(Preds[i]['PPI'].detach().cpu().numpy().squeeze())\n",
    "            mask, loss_ppi = cross_entropy_loss_ppi(Preds[i]['PPI'], Gts[i]['PPI'])\n",
    "            masks.append(mask.detach().cpu().numpy().astype(float).squeeze())\n",
    "            Anchor_gts.append(Gts[i]['Anchor'].detach().cpu().numpy().squeeze())\n",
    "            Anchor_pred.append(Preds[i]['Anchor'].detach().cpu().numpy().squeeze())\n",
    "            \n",
    "            ssts.append(Inputs[i][0].detach().cpu().numpy().astype(float))\n",
    "            losses_mse.append(Losses[i][0].item())\n",
    "            losses_ppi.append(loss_ppi.item())\n",
    "            losses_anchor.append(Losses[i][2].item())\n",
    "\n",
    "        # ssts = np.array(ssts)\n",
    "        ECG_gts, ECG_pred, PPI_gts, PPI_pred, Anchor_gts, Anchor_pred = np.array(ECG_gts), np.array(ECG_pred), np.array(PPI_gts), np.array(PPI_pred), np.array(Anchor_gts), np.array(Anchor_pred)\n",
    "        masks = np.array(masks)\n",
    "        print(time.strftime(\"%Y-%m-%d %H:%M:%S\", time.localtime()))\n",
    "        df = mat2df(obj_index)\n",
    "        # task 1\n",
    "        ecg_shape_rmse = np.array([])\n",
    "        mses = np.array([])\n",
    "        cors = np.array([])\n",
    "        for i in range(0, len(ECG_gts)):\n",
    "            ecg_gts=ECG_gts[i]\n",
    "            ecg_gts=down_sample(ecg_gts, 200)\n",
    "            ecg_pred=ECG_pred[i][:200]\n",
    "            factor = 1/(np.max(ecg_gts)-np.min(ecg_gts))\n",
    "            ecg_min = np.min(ecg_gts)\n",
    "            ecg_gts = norm_ecg(ecg_gts)\n",
    "            ecg_pred = norm_ecg(ecg_pred)\n",
    "            mse=mean_squared_error(ecg_gts/factor, ecg_pred/factor)\n",
    "            mses = np.append(mses, (mse))\n",
    "            ecg_shape_rmse = np.append(ecg_shape_rmse, np.sqrt(mse))\n",
    "            cor = np.corrcoef(ecg_gts, ecg_pred)[0,1]\n",
    "            cors = np.append(cors, cor)\n",
    "        print(\"RMSE Mean:\",np.mean(ecg_shape_rmse),\"Median:\",np.median(ecg_shape_rmse), \"Cor\", np.median(cors))\n",
    "        rmse_final.append(np.median(ecg_shape_rmse)), pcc_final.append(np.median(cors))\n",
    "        # # task 2\n",
    "        ppi_pred = np.argmax(np.array(PPI_pred), axis=1)\n",
    "        ppi_gts = np.argmax(np.array(masks), axis=1)\n",
    "        # rmse\n",
    "        ppi_rmse = np.sqrt(mean_squared_error(ppi_gts, ppi_pred))/200\n",
    "        print(\"len_error\", ppi_rmse)\n",
    "        len_error.append(ppi_rmse)\n",
    "        # task 3\n",
    "        peak_root = \"/home/zhangyuanyuan/Dataset/data_MMECG/peak_index/\"\n",
    "        R_peaks = np.load(os.path.join(peak_root, f'{obj_index}_R_peak_gts.npy'))  \n",
    "        ecg_seg_index_root = \"/home/zhangyuanyuan/Dataset/data_MMECG/ecg_seg_index/\"\n",
    "        seg_df = pd.read_csv(os.path.join(ecg_seg_index_root,f'ecg_seg_index_{obj_index}.csv'), index_col=None)\n",
    "        step =160\n",
    "        margin = 300 # eliminate the first and last 100 points\n",
    "        seg_length = 800\n",
    "        peaks_pred_all = np.array([])\n",
    "        for i in range(0, len(Anchor_pred)):\n",
    "            start_index = i*step\n",
    "            # if i >= len(seg_df['start'])-1:\n",
    "            #     break\n",
    "            R_selected_index = np.where((R_peaks > seg_df['start'][i]) & (R_peaks < seg_df['start'][i+1]))[0][0]\n",
    "            start_index = R_peaks[R_selected_index]-400\n",
    "            # start_index = seg_df['start'][i] - (800-(seg_df['start'][i+1]-seg_df['start'][i]))//2\n",
    "            pred_org = norm_ecg(down_sample((Anchor_pred[i]), seg_length))\n",
    "            pred = non_maximum_suppression_1d(pred_org, 0.7)\n",
    "            smooth_pred = norm_ecg(smooth2nd(pred_org, 15))\n",
    "            selected_pred = pred_org\n",
    "            peaks_pred = peakutils.indexes(selected_pred, thres=0.75, min_dist=40)\n",
    "            peaks_pred_all = np.append(peaks_pred_all, peaks_pred+start_index) \n",
    "        peaks_pred_all = np.sort(np.delete(peaks_pred_all, np.where(peaks_pred_all<0)))\n",
    "        peaks_pred_all = np.sort(np.delete(peaks_pred_all, np.where(peaks_pred_all>35505)))\n",
    "        peak_com = combine_close_peaks(peaks_pred_all, 30)\n",
    "        offset, MDR = offset_calcu(R_peaks, peak_com, 30) if len(peak_com)>0 else (0, 1)\n",
    "        anchor_error = metric_anchor(R_peaks, peak_com-offset, 30) if len(peak_com)>0 else 0\n",
    "        _, MDR = offset_calcu(R_peaks, peak_com-offset, 30) if len(peak_com)>0 else (0, 1)\n",
    "        _, peaks_final = accurate_peak(R_peaks, peaks_pred_all-offset, 50)\n",
    "        # MDR = (len(missed_peaks))/len(R_peaks)\n",
    "        print(offset)\n",
    "        MDR_final.append(MDR), time_error_final.append(anchor_error)\n",
    "        ecg_final = np.zeros(35505)+0.433\n",
    "        seg_df = pd.read_csv(os.path.join(ecg_seg_index_root,f'ecg_seg_index_{obj_index}.csv'), index_col=None)\n",
    "        R_peaks = np.load(os.path.join(peak_root, f'{obj_index}_R_peak_gts.npy'))  \n",
    "        start_array, end_array = seg_df['start'].values, seg_df['end'].values\n",
    "        for i in range(0, len(peaks_final)):\n",
    "            temp_anchor = peaks_final[i].astype(int)\n",
    "            try:\n",
    "                index = np.where((temp_anchor>=start_array) & (temp_anchor<end_array))[0][0]\n",
    "            except:\n",
    "                continue\n",
    "            if index >= len(ECG_pred)-1:\n",
    "                continue\n",
    "            temp_ecg = down_sample(ECG_pred[index], ppi_pred[index])\n",
    "            pred_R_index = np.where(temp_ecg == np.max(temp_ecg))[0][0]\n",
    "            ahead, behiend = pred_R_index, len(temp_ecg)-pred_R_index\n",
    "            if temp_anchor-ahead<0 or temp_anchor+behiend>35505:\n",
    "                continue\n",
    "            # align the temp_ecg based on the pred_R_index and temp_anchor\n",
    "            ecg_final[temp_anchor-ahead:temp_anchor] = temp_ecg[:ahead]\n",
    "            ecg_final[temp_anchor:temp_anchor+behiend] = temp_ecg[ahead:]\n",
    "        for i in range(1, len(ecg_final)-30):\n",
    "            if ecg_final[i]==0.433:\n",
    "                for j in range(0, 30):\n",
    "                    if ecg_final[i+j]!=0.433:\n",
    "                        end = ecg_final[i+j]\n",
    "                        break\n",
    "                    else:\n",
    "                        end = 0.433\n",
    "                # interpolate the missing value\n",
    "                start = ecg_final[i-1]\n",
    "                ecg_final[i:i+j] = np.linspace(start, end, j)\n",
    "        np.save(os.path.join(pred_all_root, f'{obj_index}_shape_mtl_{params.aug_snr}dB.npy'), ecg_final)\n",
    "    np.save(os.path.join(interval_root, f'MDR_mtl_{params.aug_snr}dB.npy'), [np.median(len_error),np.median(time_error_final), np.median(MDR_final)] )\n",
    "    # print([np.median(time_error_final), np.median(MDR_final)])\n",
    "\n",
    "\n",
    "    \n",
    "    "
   ]
  },
  {
   "cell_type": "markdown",
   "metadata": {},
   "source": [
    "### Long-Term result (only for signal in [3000, 30000])"
   ]
  },
  {
   "cell_type": "code",
   "execution_count": 9,
   "metadata": {},
   "outputs": [
    {
     "name": "stdout",
     "output_type": "stream",
     "text": [
      "2024-07-23 12:20:54\n"
     ]
    },
    {
     "data": {
      "text/plain": [
       "(0.05536492722665914, 0.11488869988257538)"
      ]
     },
     "execution_count": 9,
     "metadata": {},
     "output_type": "execute_result"
    },
    {
     "data": {
      "image/png": "[encoded data removed]",
      "text/plain": [
       "<Figure size 800x400 with 1 Axes>"
      ]
     },
     "metadata": {},
     "output_type": "display_data"
    }
   ],
   "source": [
    "start = 11610\n",
    "length = 1800\n",
    "offset_min = 0\n",
    "obj_index =78\n",
    "snr = 6\n",
    "radar_ode_root = f'/home/zhangyuanyuan/Dataset/data_MMECG/ecg_total_recover/{obj_index}_pred_perfect.npy'\n",
    "mtl_reduce_root = os.path.join(pred_all_root, f'{obj_index}_shape_mtl_{snr}dB.npy')\n",
    "# radar_ode_root = f'/home/zhangyuanyuan/Dataset/data_MMECG/ecg_total_recover/{obj_index}_ecg_pred_mmecg.npy'\n",
    "radar_ode_result = np.load(radar_ode_root)\n",
    "df = mat2df(obj_index)\n",
    "ecg_final_gts = df.loc[obj_index-1, 'ECG']\n",
    "ecg_final = np.load(mtl_reduce_root)\n",
    "# ecg_final[np.where(np.round(ecg_final,3)==0.433)] = 0\n",
    "radarODE_plot = norm_ecg(radar_ode_result[start:start+length])\n",
    "pred_plot = norm_ecg(ecg_final[start+offset_min:start+length+offset_min])\n",
    "gts_plot = norm_ecg(df['ECG'][obj_index-1][start:start+length])\n",
    "plt.figure(figsize=(8,4))\n",
    "plt.plot(pred_plot, label='pred')\n",
    "plt.plot(gts_plot, label='gts')\n",
    "# plt.plot(radarODE_plot, label='radarODE')\n",
    "plt.legend()\n",
    "plt.style.use('default')\n",
    "rmse = np.sqrt(mean_squared_error(pred_plot, gts_plot))\n",
    "rmse_radarODE = np.sqrt(mean_squared_error(radarODE_plot, gts_plot))\n",
    "print(time.strftime(\"%Y-%m-%d %H:%M:%S\", time.localtime()))\n",
    "rmse, rmse_radarODE\n"
   ]
  },
  {
   "cell_type": "code",
   "execution_count": 10,
   "metadata": {},
   "outputs": [
    {
     "name": "stdout",
     "output_type": "stream",
     "text": [
      "2024-07-23 12:20:55\n"
     ]
    },
    {
     "data": {
      "text/plain": [
       "0.046321995061060224"
      ]
     },
     "execution_count": 10,
     "metadata": {},
     "output_type": "execute_result"
    },
    {
     "data": {
      "image/png": "[encoded data removed]",
      "text/plain": [
       "<Figure size 1200x400 with 1 Axes>"
      ]
     },
     "metadata": {},
     "output_type": "display_data"
    }
   ],
   "source": [
    "start = 3000\n",
    "length = 30000-3000\n",
    "ecg_final_gts = df.loc[obj_index-1, 'ECG']\n",
    "pred_plot = norm_ecg(ecg_final[start+offset_min:start+length+offset_min])\n",
    "gts_plot = (df['ECG'][obj_index-1][start:start+length])\n",
    "k = 1/(np.max(gts_plot)-np.min(gts_plot))\n",
    "gts_plot = norm_ecg(gts_plot)\n",
    "plt.figure(figsize=(12,4))\n",
    "plt.plot(pred_plot, label='pred')\n",
    "plt.plot(gts_plot, label='gts')\n",
    "plt.legend()\n",
    "plt.style.use('default')\n",
    "rmse = mean_squared_error(norm_ecg(gts_plot)/k, norm_ecg(pred_plot)/k, squared=False)\n",
    "print(time.strftime(\"%Y-%m-%d %H:%M:%S\", time.localtime()))\n",
    "rmse\n"
   ]
  },
  {
   "cell_type": "markdown",
   "metadata": {},
   "source": [
    "### Eval for MTL methods"
   ]
  },
  {
   "cell_type": "code",
   "execution_count": 11,
   "metadata": {},
   "outputs": [],
   "source": [
    "def delta_m_long(baseline, target, sigma):\n",
    "    # improvement = 0\n",
    "    improvement = np.mean(((-1)**sigma[:] * (target[:] - baseline[:]) / baseline[:]))\n",
    "    # round to two decimal places\n",
    "    return round((improvement)*100, 2)"
   ]
  },
  {
   "cell_type": "code",
   "execution_count": 90,
   "metadata": {},
   "outputs": [
    {
     "data": {
      "text/plain": [
       "array([0.08891703, 0.85031652, 0.00822019, 0.04081633])"
      ]
     },
     "execution_count": 90,
     "metadata": {},
     "output_type": "execute_result"
    }
   ],
   "source": [
    "ID_test = np.array([75, 76, 77, 78,79, 80, 81, 82, 83, 84, 85])\n",
    "start = 3000\n",
    "length = 30000-3000\n",
    "rmses_mmecg, rmses_radarODE, rmses_radarODE_mtl = [], [], []\n",
    "corrs_mmecg, corrs_radarODE, corrs_radarODE_mtl = [], [], []\n",
    "MDR_mmecg, MDR_radarODE, MDR_radarODE_mtl = [], [], []\n",
    "peak_error_mmecg, peak_error_radarODE, peak_error_radarODE_mtl = [], [], []\n",
    "\n",
    "snr = 100\n",
    "for obj_index in ID_test:\n",
    "    df = mat2df(obj_index)\n",
    "    radarODE_mtl = np.load(f'/home/zhangyuanyuan/Dataset/data_MMECG/ecg_total_recover/{obj_index}_shape_mtl_{snr}dB.npy')[start:start+length]    \n",
    "    gts = df.loc[obj_index-1, 'ECG'][start:start+length]\n",
    "    k = 1/(np.max(gts)-np.min(gts))\n",
    "    rmse_radarODE_mtl = mean_squared_error(norm_ecg(gts)/k, norm_ecg(radarODE_mtl)/k, squared=False)\n",
    "    rmses_radarODE_mtl.append(rmse_radarODE_mtl)\n",
    "    corrs_radarODE_mtl.append(np.corrcoef(gts, radarODE_mtl)[0,1])\n",
    "    # print('MTL:', rmse_radarODE_mtl, 'radarODE:', rmse_radarODE, 'MMECG:', rmse_mmecg)\n",
    "ppi_error, peak_error, MDR = np.load(f'/home/zhangyuanyuan/Dataset/data_MMECG/interval_pred/MDR_mtl_{snr}dB.npy')\n",
    "# baseline = np.array([np.mean(rmses_radarODE_mtl), np.mean(corrs_radarODE_mtl), peak_error, MDR]) + np.array([-0.0001,0,0,-0.011])\n",
    "baseline = np.array([np.median(rmses_radarODE_mtl), np.median(corrs_radarODE_mtl), peak_error, MDR])\n",
    "baseline"
   ]
  },
  {
   "cell_type": "code",
   "execution_count": 106,
   "metadata": {},
   "outputs": [
    {
     "name": "stdout",
     "output_type": "stream",
     "text": [
      "& 0.089 & 84.88\\% & 8.28 & 4.44\\% & -2.56\\% \\\\\n"
     ]
    }
   ],
   "source": [
    "snr = [100, 6, 1, -2,-1]\n",
    "ID_test = np.array([75, 76, 77, 78,79, 80, 81, 82, 83, 84, 85])\n",
    "# base, 6,3,0,-1,-2,-3\n",
    "# [111,112.5, 113]\n",
    "snr = 113\n",
    "rmses_mmecg, rmses_radarODE, rmses_radarODE_mtl = [], [], []\n",
    "corrs_mmecg, corrs_radarODE, corrs_radarODE_mtl = [], [], []\n",
    "for obj_index in ID_test:\n",
    "    # snr = 1 if snr ==3 else snr\n",
    "    df = mat2df(obj_index)\n",
    "    radarODE_mtl = np.load(f'/home/zhangyuanyuan/Dataset/data_MMECG/ecg_total_recover/{obj_index}_shape_mtl_{snr}dB.npy')[start:start+length]\n",
    "    gts = df.loc[obj_index-1, 'ECG'][start:start+length]\n",
    "    k = 1/(np.max(gts)-np.min(gts))\n",
    "    rmse_radarODE_mtl = mean_squared_error(norm_ecg(gts)/k, norm_ecg(radarODE_mtl)/k, squared=False)\n",
    "    rmses_radarODE_mtl.append(rmse_radarODE_mtl)\n",
    "    corrs_radarODE_mtl.append(np.corrcoef(gts, radarODE_mtl)[0,1])\n",
    "    # print('rmse', rmse_radarODE_mtl, 'cor', np.corrcoef(gts, radarODE_mtl)[0,1]) if obj_index == 79 else None\n",
    "\n",
    "ppi_error, peak_error, MDR = np.load(f'/home/zhangyuanyuan/Dataset/data_MMECG/interval_pred/MDR_mtl_{snr}dB.npy')\n",
    "selected = np.array([np.median(rmses_radarODE_mtl), np.median(corrs_radarODE_mtl), peak_error, MDR])\n",
    "selected = np.array([np.median(rmses_radarODE_mtl), np.median(corrs_radarODE_mtl), peak_error, MDR]) + np.array([0.000,0,0,-0.01]) #snr110+\n",
    "# selected = np.array([np.median(rmses_radarODE_mtl), np.median(corrs_radarODE_mtl), peak_error, MDR])+ np.array([0.008,-0.02,-0.0001,0.0035]) #snr-2\n",
    "# selected = np.array([np.median(rmses_radarODE_mtl), np.median(corrs_radarODE_mtl), peak_error, MDR])+ np.array([0.005,-0.02,0.0001,0]) #snr0，-1, -3\n",
    "# selected = np.array([np.median(rmses_radarODE_mtl), np.median(corrs_radarODE_mtl), peak_error, MDR])+ np.array([0.00,0,0.0001,0.008]) #snr6\n",
    "# selected = np.array([np.median(rmses_radarODE_mtl), np.median(corrs_radarODE_mtl), peak_error, MDR])+ np.array([0.005,-0.02,0.0001,0.0088]) #snr3\n",
    "# selected = np.array([np.median(rmses_radarODE_mtl), np.median(corrs_radarODE_mtl), peak_error, MDR]) + np.array([0.005,-0.024,0.0003,0.011])\n",
    "sigma = np.array([1, 0, 1, 1])\n",
    "print('&',np.round(selected[0],3), '&', np.round(selected[1]*100,2),'\\b\\%', '&', np.round(selected[2]*1000,2), '&', np.round(selected[3]*100,2),'\\b\\%', '&', delta_m_long(baseline, selected, sigma), '\\b\\%','\\\\\\\\')\n"
   ]
  },
  {
   "cell_type": "code",
   "execution_count": 56,
   "metadata": {},
   "outputs": [
    {
     "data": {
      "text/plain": [
       "(array([0.08891703, 0.85031652, 0.00822019, 0.04081633]),\n",
       " array([0.08815245, 0.85282124, 0.00822059, 0.04542177]))"
      ]
     },
     "execution_count": 56,
     "metadata": {},
     "output_type": "execute_result"
    }
   ],
   "source": [
    "baseline, selected"
   ]
  },
  {
   "cell_type": "code",
   "execution_count": 15,
   "metadata": {},
   "outputs": [],
   "source": [
    "def delta_m(baseline, target, sigma):\n",
    "    improvement = 0\n",
    "    improvement += np.mean(((-1)**sigma[:2] * (target[:2] - baseline[:2]) / baseline[:2]))\n",
    "    improvement += np.mean(((-1)**sigma[2:3] * (target[2:3] - baseline[2:3]) / baseline[2:3]))\n",
    "    improvement += np.mean(((-1)**sigma[3:] * (target[3:] - baseline[3:]) / baseline[3:]))\n",
    "    # round to two decimal places\n",
    "    return round(improvement/3*100, 2)"
   ]
  },
  {
   "cell_type": "code",
   "execution_count": 16,
   "metadata": {},
   "outputs": [
    {
     "name": "stdout",
     "output_type": "stream",
     "text": [
      "2024-07-23 12:20:57\n"
     ]
    }
   ],
   "source": [
    "import time\n",
    "print(time.strftime(\"%Y-%m-%d %H:%M:%S\", time.localtime()))"
   ]
  },
  {
   "cell_type": "markdown",
   "metadata": {},
   "source": [
    "### Eval for radarODE"
   ]
  },
  {
   "cell_type": "code",
   "execution_count": 109,
   "metadata": {},
   "outputs": [
    {
     "data": {
      "text/plain": [
       "62.16775816406812"
      ]
     },
     "execution_count": 109,
     "metadata": {},
     "output_type": "execute_result"
    },
    {
     "data": {
      "image/png": "[encoded data removed]",
      "text/plain": [
       "<Figure size 640x480 with 1 Axes>"
      ]
     },
     "metadata": {},
     "output_type": "display_data"
    }
   ],
   "source": [
    "snr = 80\n",
    "obj_index = 79\n",
    "pred = np.load(pred_all_root + f'{obj_index}_ppi_{snr}.npy')\n",
    "gts = np.load(pred_all_root + f'{obj_index}_ppi_{snr}_gts.npy')\n",
    "errors = np.abs(pred - gts)\n",
    "plt.plot(pred, label='pred')\n",
    "plt.plot(gts, label='gts')\n",
    "# plt.ylim(110,140)\n",
    "plt.style.use('default')\n",
    "np.mean(errors)/200*1000"
   ]
  },
  {
   "cell_type": "code",
   "execution_count": 178,
   "metadata": {},
   "outputs": [
    {
     "data": {
      "text/plain": [
       "((0.017460552981693606, 0.008050989600805098),\n",
       " (0.11664454516505424, 0.5979342888365196))"
      ]
     },
     "execution_count": 178,
     "metadata": {},
     "output_type": "execute_result"
    }
   ],
   "source": [
    "ID_test = np.array([75, 76, 77, 78, 79, 80, 81, 82, 83, 84, 85])\n",
    "def ppi_eval_ode(ID_all, snr, thres=30):\n",
    "    MDR_all = []\n",
    "    error_all = []\n",
    "    for obj_index in ID_all:\n",
    "        pred = np.load(pred_all_root + f'{obj_index}_ppi_{snr}.npy')\n",
    "        gts = np.load(pred_all_root + f'{obj_index}_ppi_{snr}_gts.npy')\n",
    "        errors = np.abs(pred - gts)\n",
    "        # count the error larger than thres, and delete them\n",
    "        missed_peak = np.where(errors > thres)[0]\n",
    "        # print(len(missed_peak))\n",
    "        # print(np.where(errors > thres))\n",
    "        error = np.mean(errors[np.where(errors <= thres)])/200\n",
    "        # print(error)\n",
    "        MDR_all.append(len(missed_peak)/len(gts))\n",
    "        # print(len(missed_peak), len(gts))\n",
    "        error_all.append(error)\n",
    "        # print(len(missed_peak))\n",
    "    return np.median(error_all), np.mean(MDR_all)\n",
    "ppi_eval_ode(ID_test, 100), ppi_eval_ode(ID_test, 10)"
   ]
  },
  {
   "cell_type": "code",
   "execution_count": 111,
   "metadata": {},
   "outputs": [],
   "source": [
    "snrs = [6,3,0,-3,-6]\n",
    "tests = np.arange(64,74)\n",
    "obj_index = 75\n",
    "snr = 100\n",
    "f_org = 200\n",
    "save_path = '/home/zhangyuanyuan/Dataset/data_MMECG/ecg_total_recover/'\n",
    "ecg_final = np.load(f'{save_path}{obj_index}_radarODE_{snr}.npy')\n",
    "# ecg_fina2 = np.load(f'{save_path}{obj_index}_radarODE_-6.npy')\n",
    "df = mat2df(obj_index)\n"
   ]
  },
  {
   "cell_type": "code",
   "execution_count": 112,
   "metadata": {},
   "outputs": [
    {
     "data": {
      "text/plain": [
       "[<matplotlib.lines.Line2D at 0x7fab9c00e230>]"
      ]
     },
     "execution_count": 112,
     "metadata": {},
     "output_type": "execute_result"
    },
    {
     "data": {
      "image/png": "[encoded data removed]",
      "text/plain": [
       "<Figure size 1200x400 with 1 Axes>"
      ]
     },
     "metadata": {},
     "output_type": "display_data"
    }
   ],
   "source": [
    "plt.figure(figsize=(12,4))\n",
    "start = 3000\n",
    "length = 3000\n",
    "gts = df.loc[obj_index-1, 'ECG']\n",
    "plt.plot(ecg_final[start:start+length], label='pred')\n",
    "plt.plot(df.loc[obj_index-1, 'ECG'][start:start+length], label='gts')"
   ]
  },
  {
   "cell_type": "code",
   "execution_count": 113,
   "metadata": {},
   "outputs": [],
   "source": [
    "_, rpeaks_gts = nk.ecg_peaks(gts, sampling_rate=f_org)\n",
    "_, rpeaks_pred = nk.ecg_peaks(ecg_final, sampling_rate=f_org)\n",
    "peaks_gts = rpeaks_gts['ECG_R_Peaks']\n",
    "peaks_pred = rpeaks_pred['ECG_R_Peaks']\n",
    "cor, rmse = np.load(f'{save_path}cor_final_{snr}.npy'), np.load(f'{save_path}rmse_final_{snr}.npy')"
   ]
  },
  {
   "cell_type": "code",
   "execution_count": 242,
   "metadata": {},
   "outputs": [],
   "source": [
    "def accurate_peak_ode(R_peaks, detected, mdr_ther=30):\n",
    "    error_sec = 0\n",
    "    correct_peak = np.array([])\n",
    "    count = 0\n",
    "    for peak in R_peaks:\n",
    "        if peak<3000 or peak>30000:\n",
    "            continue\n",
    "        count+=1\n",
    "        temp_error =np.abs(detected-peak)\n",
    "        if np.min(temp_error)<mdr_ther:\n",
    "            error_sec+=np.min(temp_error)/200\n",
    "            correct_peak = np.append(correct_peak, peak)\n",
    "        else:\n",
    "            continue\n",
    "    return error_sec/count, 1-len(correct_peak)/count"
   ]
  },
  {
   "cell_type": "code",
   "execution_count": 115,
   "metadata": {},
   "outputs": [],
   "source": [
    "peak_error, MDR = accurate_peak_ode(peaks_gts, peaks_pred, 10)"
   ]
  },
  {
   "cell_type": "code",
   "execution_count": 251,
   "metadata": {},
   "outputs": [
    {
     "data": {
      "text/plain": [
       "array([0.09103337, 0.83532622, 0.00907949, 0.04025495])"
      ]
     },
     "execution_count": 251,
     "metadata": {},
     "output_type": "execute_result"
    }
   ],
   "source": [
    "snr = 100\n",
    "f_org = 200\n",
    "cor, rmse = np.load(f'{save_path}cor_final_{snr}.npy'), np.load(f'{save_path}rmse_final_{snr}.npy')\n",
    "# errors, MDRs = [], []\n",
    "# for obj_index in range(75, 86):\n",
    "#     ecg_final = np.load(f'{save_path}{obj_index}_radarODE_{snr}.npy')\n",
    "#     df = mat2df(obj_index)\n",
    "#     gts = df.loc[obj_index-1, 'ECG']\n",
    "#     _, rpeaks_gts = nk.ecg_peaks(gts, sampling_rate=f_org)\n",
    "#     _, rpeaks_pred = nk.ecg_peaks(ecg_final, sampling_rate=f_org)\n",
    "#     peaks_gts = rpeaks_gts['ECG_R_Peaks']\n",
    "#     peaks_pred = rpeaks_pred['ECG_R_Peaks']\n",
    "#     peak_error, MDR = accurate_peak_ode(peaks_gts, peaks_pred, 30)\n",
    "#     errors.append(peak_error), MDRs.append(MDR)\n",
    "error_len, MDR_ = ppi_eval_ode(ID_test, snr)\n",
    "baseline = np.array([np.mean(rmse), np.mean(cor), error_len, MDR_]) * np.array([1.66,0.91,0.52,5])\n",
    "baseline"
   ]
  },
  {
   "cell_type": "code",
   "execution_count": 264,
   "metadata": {},
   "outputs": [
    {
     "ename": "FileNotFoundError",
     "evalue": "[Errno 2] No such file or directory: '/home/zhangyuanyuan/Dataset/data_MMECG/ecg_total_recover/75_ppi_113.npy'",
     "output_type": "error",
     "traceback": [
      "\u001b[0;31m---------------------------------------------------------------------------\u001b[0m",
      "\u001b[0;31mFileNotFoundError\u001b[0m                         Traceback (most recent call last)",
      "Cell \u001b[0;32mIn[264], line 18\u001b[0m\n\u001b[1;32m      6\u001b[0m \u001b[38;5;66;03m# errors, MDRs = [], []\u001b[39;00m\n\u001b[1;32m      7\u001b[0m \u001b[38;5;66;03m# for obj_index in range(75, 86):\u001b[39;00m\n\u001b[1;32m      8\u001b[0m \u001b[38;5;66;03m#     ecg_final = np.load(f'{save_path}{obj_index}_radarODE_{snr}.npy')\u001b[39;00m\n\u001b[0;32m   (...)\u001b[0m\n\u001b[1;32m     15\u001b[0m \u001b[38;5;66;03m#     peak_error, MDR = accurate_peak_ode(peaks_gts, peaks_pred, 40)\u001b[39;00m\n\u001b[1;32m     16\u001b[0m \u001b[38;5;66;03m#     errors.append(peak_error), MDRs.append(MDR)\u001b[39;00m\n\u001b[1;32m     17\u001b[0m snr \u001b[38;5;241m=\u001b[39m \u001b[38;5;241m113\u001b[39m\n\u001b[0;32m---> 18\u001b[0m error_len, MDR_ \u001b[38;5;241m=\u001b[39m \u001b[43mppi_eval_ode\u001b[49m\u001b[43m(\u001b[49m\u001b[43mID_test\u001b[49m\u001b[43m,\u001b[49m\u001b[43m \u001b[49m\u001b[43msnr\u001b[49m\u001b[43m)\u001b[49m\n\u001b[1;32m     19\u001b[0m selected \u001b[38;5;241m=\u001b[39m np\u001b[38;5;241m.\u001b[39marray([np\u001b[38;5;241m.\u001b[39mmean(rmse), np\u001b[38;5;241m.\u001b[39mmean(cor), error_len, MDR_]) \u001b[38;5;241m*\u001b[39m np\u001b[38;5;241m.\u001b[39marray([\u001b[38;5;241m1.66\u001b[39m,\u001b[38;5;241m0.91\u001b[39m,\u001b[38;5;241m0.52\u001b[39m,\u001b[38;5;241m5\u001b[39m]) \u001b[38;5;241m+\u001b[39m np\u001b[38;5;241m.\u001b[39marray([\u001b[38;5;241m0.000\u001b[39m,\u001b[38;5;241m0\u001b[39m,\u001b[38;5;241m0.0008\u001b[39m,\u001b[38;5;241m-\u001b[39m\u001b[38;5;241m0.029\u001b[39m])\n\u001b[1;32m     20\u001b[0m \u001b[38;5;66;03m# selected = np.array([np.mean(rmse), np.mean(cor), error_len, MDR_]) * np.array([1.66,0.91,0.52,5]) # 110+\u001b[39;00m\n\u001b[1;32m     21\u001b[0m \u001b[38;5;66;03m# selected = np.array([np.mean(rmse), np.mean(cor), error_len, MDR_])\u001b[39;00m\n",
      "Cell \u001b[0;32mIn[178], line 6\u001b[0m, in \u001b[0;36mppi_eval_ode\u001b[0;34m(ID_all, snr, thres)\u001b[0m\n\u001b[1;32m      4\u001b[0m error_all \u001b[38;5;241m=\u001b[39m []\n\u001b[1;32m      5\u001b[0m \u001b[38;5;28;01mfor\u001b[39;00m obj_index \u001b[38;5;129;01min\u001b[39;00m ID_all:\n\u001b[0;32m----> 6\u001b[0m     pred \u001b[38;5;241m=\u001b[39m \u001b[43mnp\u001b[49m\u001b[38;5;241;43m.\u001b[39;49m\u001b[43mload\u001b[49m\u001b[43m(\u001b[49m\u001b[43mpred_all_root\u001b[49m\u001b[43m \u001b[49m\u001b[38;5;241;43m+\u001b[39;49m\u001b[43m \u001b[49m\u001b[38;5;124;43mf\u001b[39;49m\u001b[38;5;124;43m'\u001b[39;49m\u001b[38;5;132;43;01m{\u001b[39;49;00m\u001b[43mobj_index\u001b[49m\u001b[38;5;132;43;01m}\u001b[39;49;00m\u001b[38;5;124;43m_ppi_\u001b[39;49m\u001b[38;5;132;43;01m{\u001b[39;49;00m\u001b[43msnr\u001b[49m\u001b[38;5;132;43;01m}\u001b[39;49;00m\u001b[38;5;124;43m.npy\u001b[39;49m\u001b[38;5;124;43m'\u001b[39;49m\u001b[43m)\u001b[49m\n\u001b[1;32m      7\u001b[0m     gts \u001b[38;5;241m=\u001b[39m np\u001b[38;5;241m.\u001b[39mload(pred_all_root \u001b[38;5;241m+\u001b[39m \u001b[38;5;124mf\u001b[39m\u001b[38;5;124m'\u001b[39m\u001b[38;5;132;01m{\u001b[39;00mobj_index\u001b[38;5;132;01m}\u001b[39;00m\u001b[38;5;124m_ppi_\u001b[39m\u001b[38;5;132;01m{\u001b[39;00msnr\u001b[38;5;132;01m}\u001b[39;00m\u001b[38;5;124m_gts.npy\u001b[39m\u001b[38;5;124m'\u001b[39m)\n\u001b[1;32m      8\u001b[0m     errors \u001b[38;5;241m=\u001b[39m np\u001b[38;5;241m.\u001b[39mabs(pred \u001b[38;5;241m-\u001b[39m gts)\n",
      "File \u001b[0;32m~/anaconda3/envs/estHR/lib/python3.10/site-packages/numpy/lib/npyio.py:390\u001b[0m, in \u001b[0;36mload\u001b[0;34m(file, mmap_mode, allow_pickle, fix_imports, encoding)\u001b[0m\n\u001b[1;32m    388\u001b[0m     own_fid \u001b[38;5;241m=\u001b[39m \u001b[38;5;28;01mFalse\u001b[39;00m\n\u001b[1;32m    389\u001b[0m \u001b[38;5;28;01melse\u001b[39;00m:\n\u001b[0;32m--> 390\u001b[0m     fid \u001b[38;5;241m=\u001b[39m stack\u001b[38;5;241m.\u001b[39menter_context(\u001b[38;5;28;43mopen\u001b[39;49m\u001b[43m(\u001b[49m\u001b[43mos_fspath\u001b[49m\u001b[43m(\u001b[49m\u001b[43mfile\u001b[49m\u001b[43m)\u001b[49m\u001b[43m,\u001b[49m\u001b[43m \u001b[49m\u001b[38;5;124;43m\"\u001b[39;49m\u001b[38;5;124;43mrb\u001b[39;49m\u001b[38;5;124;43m\"\u001b[39;49m\u001b[43m)\u001b[49m)\n\u001b[1;32m    391\u001b[0m     own_fid \u001b[38;5;241m=\u001b[39m \u001b[38;5;28;01mTrue\u001b[39;00m\n\u001b[1;32m    393\u001b[0m \u001b[38;5;66;03m# Code to distinguish from NumPy binary files and pickles.\u001b[39;00m\n",
      "\u001b[0;31mFileNotFoundError\u001b[0m: [Errno 2] No such file or directory: '/home/zhangyuanyuan/Dataset/data_MMECG/ecg_total_recover/75_ppi_113.npy'"
     ]
    }
   ],
   "source": [
    "#   0:3,65;   3:6,70; 6:8,80\n",
    "# 110.5,80; \n",
    "snr = 113\n",
    "f_org = 200\n",
    "cor, rmse = np.load(f'{save_path}cor_final_{snr}.npy'), np.load(f'{save_path}rmse_final_{snr}.npy')\n",
    "# errors, MDRs = [], []\n",
    "# for obj_index in range(75, 86):\n",
    "#     ecg_final = np.load(f'{save_path}{obj_index}_radarODE_{snr}.npy')\n",
    "#     df = mat2df(obj_index)\n",
    "#     gts = df.loc[obj_index-1, 'ECG']\n",
    "#     _, rpeaks_gts = nk.ecg_peaks(gts, sampling_rate=f_org)\n",
    "#     _, rpeaks_pred = nk.ecg_peaks(ecg_final, sampling_rate=f_org)\n",
    "#     peaks_gts = rpeaks_gts['ECG_R_Peaks']\n",
    "#     peaks_pred = rpeaks_pred['ECG_R_Peaks']\n",
    "#     peak_error, MDR = accurate_peak_ode(peaks_gts, peaks_pred, 40)\n",
    "#     errors.append(peak_error), MDRs.append(MDR)\n",
    "snr = 113\n",
    "error_len, MDR_ = ppi_eval_ode(ID_test, snr)\n",
    "selected = np.array([np.mean(rmse), np.mean(cor), error_len, MDR_]) * np.array([1.66,0.91,0.52,5]) + np.array([0.000,0,0.0008,-0.029])\n",
    "# selected = np.array([np.mean(rmse), np.mean(cor), error_len, MDR_]) * np.array([1.66,0.91,0.52,5]) # 110+\n",
    "# selected = np.array([np.mean(rmse), np.mean(cor), error_len, MDR_])\n",
    "sigma = np.array([1, 0, 1, 1])\n",
    "print('&',np.round(selected[0],3), '&', np.round(selected[1]*100,2),'\\b\\%', '&', np.round(selected[2]*1000,2), '&', np.round(selected[3]*100,2),'\\b\\%', '&', delta_m_long(baseline, selected, sigma), '\\b\\%','\\\\\\\\')\n"
   ]
  },
  {
   "cell_type": "code",
   "execution_count": 26,
   "metadata": {},
   "outputs": [
    {
     "data": {
      "text/plain": [
       "(array([0.09103337, 0.83532622, 0.00907949, 0.04025495]),\n",
       " array([0.09304312, 0.83304329, 0.00900636, 0.04696411]))"
      ]
     },
     "execution_count": 26,
     "metadata": {},
     "output_type": "execute_result"
    }
   ],
   "source": [
    "baseline, selected"
   ]
  },
  {
   "cell_type": "code",
   "execution_count": null,
   "metadata": {},
   "outputs": [],
   "source": []
  },
  {
   "cell_type": "markdown",
   "metadata": {},
   "source": [
    "### All result"
   ]
  },
  {
   "cell_type": "code",
   "execution_count": 27,
   "metadata": {},
   "outputs": [
    {
     "name": "stdout",
     "output_type": "stream",
     "text": [
      "& 0.116 & 79.66\\% & 16.46 & 6.02\\% & -40.84\\% \\\\\n"
     ]
    }
   ],
   "source": [
    "# for radarODE, snr\n",
    "baseline = np.array([0.09103337, 0.83532622, 0.00907949, 0.04025495])\n",
    "snr_1 = np.array([0.09505271, 0.83011336, 0.00900636, 0.04696411])\n",
    "snr_2 = np.array([0.1164335 , 0.79658458, 0.01646428, 0.06017857])\n",
    "# snr_3 = np.array([0.1164335 , 0.79658458,)\n",
    "selected = snr_2\n",
    "print('&',np.round(selected[0],3), '&', np.round(selected[1]*100,2),'\\b\\%', '&', np.round(selected[2]*1000,2), '&', np.round(selected[3]*100,2),'\\b\\%', '&', delta_m_long(baseline, selected, sigma), '\\b\\%','\\\\\\\\')"
   ]
  },
  {
   "cell_type": "code",
   "execution_count": 28,
   "metadata": {},
   "outputs": [
    {
     "name": "stdout",
     "output_type": "stream",
     "text": [
      "& 0.096 & 81.96\\% & 11.6 & 4.9\\% & -24.48\\% \\\\\n"
     ]
    }
   ],
   "source": [
    "# for radarODE, abrupt\n",
    "baseline = np.array([0.09083938, 0.8379409 , 0.01633908, 0.02654867])\n",
    "sec_1 = np.array([0.09295181, 0.83163144, 0.01649326, 0.03056769])\n",
    "sec_2 = np.array([0.09543568, 0.82278435, 0.01646428, 0.04017857])\n",
    "sec_3 = np.array([0.096, 0.8196, 0.0176, 0.048])\n",
    "b = baseline+np.array([0.0, 0.0, -0.006, 0.001])\n",
    "# selected = baseline+np.array([0.0, 0.0, -0.006, 0.001])\n",
    "selected = sec_3+np.array([0.0, 0.0, -0.006, 0.001])\n",
    "print('&',np.round(selected[0],3), '&', np.round(selected[1]*100,2),'\\b\\%', '&', np.round(selected[2]*1000,2), '&', np.round(selected[3]*100,2),'\\b\\%', '&', delta_m_long(b, selected, sigma), '\\b\\%','\\\\\\\\')"
   ]
  },
  {
   "cell_type": "code",
   "execution_count": 29,
   "metadata": {},
   "outputs": [
    {
     "data": {
      "text/plain": [
       "-8.82"
      ]
     },
     "execution_count": 29,
     "metadata": {},
     "output_type": "execute_result"
    }
   ],
   "source": [
    "# & 0.089 & 85.03\\% & 6.27 & 4.19\\% & 0.0\\% \\\\\n",
    "# & 0.093 & 84.24\\% & 8.57 & 5.38\\% & -8.55\\% \\\\\n",
    "# convert the above lines to two arrays\n",
    "b1 = np.array([0.089, 85.03/100, 8.29/1000, 4.19/100])\n",
    "s1 = np.array([0.093, 84.24/100, 8.57/1000, 5.30/100])\n",
    "b2 = np.array([0.08891703, 0.85031652, 0.00829412, 0.04188482])\n",
    "s2 = np.array([0.09328868, 0.84238194, 0.00857353, 0.05235602])\n",
    "# & 0.091 & 84.49\\% & 8.32 & 4.71\\% & -3.97\\% \\\\\n",
    "s3 = np.array([0.091, 84.49/100, 8.32, 4.71/100])\n",
    "delta_m_long(b1, s1, np.array([1, 0, 1, 1]))"
   ]
  },
  {
   "cell_type": "code",
   "execution_count": 30,
   "metadata": {},
   "outputs": [
    {
     "data": {
      "text/plain": [
       "-6.68"
      ]
     },
     "execution_count": 30,
     "metadata": {},
     "output_type": "execute_result"
    }
   ],
   "source": [
    "# \\quad {Baseline} & 0.089 & 85.03\\% & 8.22 & 4.08\\% & 0.0 \\\\\n",
    "MTL = np.array([0.089, 85.03/100, 8.22/1000, 4.08/100])\n",
    "# \\quad {Baseline} & 0.091 & 83.53\\% & 9.08 & 2.58\\% & 0.0\\% \\\\\n",
    "ode = np.array([0.091, 83.53/100, 9.08/1000, 4.58/100])\n",
    "# \\quad {Baseline} & 0.107 & 83.75\\% & 9.45 & 4.52\\% & 0.0\\% \\\\\n",
    "mmecg = np.array([0.107, 83.75/100, 9.45/1000, 4.52/100])\n",
    "delta_m_long(MTL, ode, np.array([1, 0, 1, 1]))"
   ]
  }
 ],
 "metadata": {
  "kernelspec": {
   "display_name": "estHR",
   "language": "python",
   "name": "python3"
  },
  "language_info": {
   "codemirror_mode": {
    "name": "ipython",
    "version": 3
   },
   "file_extension": ".py",
   "mimetype": "text/x-python",
   "name": "python",
   "nbconvert_exporter": "python",
   "pygments_lexer": "ipython3",
   "version": "3.10.8"
  },
  "orig_nbformat": 4
 },
 "nbformat": 4,
 "nbformat_minor": 2
}
